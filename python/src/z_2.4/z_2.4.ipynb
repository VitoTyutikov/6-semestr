{
 "cells": [
  {
   "cell_type": "code",
   "execution_count": 2,
   "metadata": {
    "collapsed": true,
    "ExecuteTime": {
     "start_time": "2023-04-17T16:35:02.529927Z",
     "end_time": "2023-04-17T16:35:02.977232Z"
    }
   },
   "outputs": [],
   "source": [
    "import pandas as pd\n",
    "import os\n",
    "pd.set_option('display.max_columns', 5)  # set max_columns (to print all columns)\n",
    "pd.set_option('display.width', None)  # set width for print (to remove line breaks)"
   ]
  },
  {
   "cell_type": "code",
   "execution_count": 5,
   "outputs": [
    {
     "name": "stdout",
     "output_type": "stream",
     "text": [
      "list of files: \n",
      "z_2.4.ipynb\n",
      "data: \n",
      "      InvoiceNo StockCode  ... CustomerID          Country\n",
      "0        536365    85123A  ...    17850.0   United Kingdom\n",
      "1        536365     71053  ...    17850.0   United Kingdom\n",
      "2        536365    84406B  ...    17850.0   United Kingdom\n",
      "3        536365    84029G  ...    17850.0   United Kingdom\n",
      "4        536365    84029E  ...    17850.0   United Kingdom\n",
      "...         ...       ...  ...        ...              ...\n",
      "19996    537999     22034  ...        NaN   United Kingdom\n",
      "19997    538000     22942  ...    12748.0   United Kingdom\n",
      "19998    538000     79321  ...    12748.0   United Kingdom\n",
      "19999    538001     35958  ...        NaN   United Kingdom\n",
      "20000    538002     22690  ...    14932.0  Channel Islands\n",
      "\n",
      "[20001 rows x 8 columns]\n",
      "Count of data:  20001\n",
      "info about data: \n",
      "<class 'pandas.core.frame.DataFrame'>\n",
      "RangeIndex: 20001 entries, 0 to 20000\n",
      "Data columns (total 8 columns):\n",
      " #   Column       Non-Null Count  Dtype         \n",
      "---  ------       --------------  -----         \n",
      " 0   InvoiceNo    20001 non-null  object        \n",
      " 1   StockCode    20001 non-null  object        \n",
      " 2   Description  19930 non-null  object        \n",
      " 3   Quantity     20001 non-null  int64         \n",
      " 4   InvoiceDate  20001 non-null  datetime64[ns]\n",
      " 5   UnitPrice    20001 non-null  float64       \n",
      " 6   CustomerID   13348 non-null  float64       \n",
      " 7   Country      20001 non-null  object        \n",
      "dtypes: datetime64[ns](1), float64(2), int64(1), object(4)\n",
      "memory usage: 1.2+ MB\n",
      "None\n",
      "Datetime column is exists\n"
     ]
    }
   ],
   "source": [
    "def user_function(file_name:str):\n",
    "\n",
    "    # os.walk(\".\") возвращает три аргумента - имя корневого каталога(текущего), список имен вложенных папок, список файлов текущего каталога\n",
    "    for root, dirs, files in os.walk(\".\"):\n",
    "        # выводим список всех файлов\n",
    "        print(\"list of files: \")\n",
    "        for filename in files:\n",
    "            print(filename)\n",
    "    data = pd.read_excel(file_name)\n",
    "    print(\"data: \")\n",
    "    print(data)\n",
    "    print(\"Count of data: \",data.shape[0])\n",
    "    print(\"info about data: \")\n",
    "    print(data.info())\n",
    "\n",
    "    exist_datetime=False\n",
    "    for i in data:\n",
    "        if data[i].dtype == \"datetime64[ns]\":\n",
    "            print(\"Datetime column is exists\")\n",
    "            exist_datetime = True\n",
    "            break\n",
    "    if not exist_datetime:\n",
    "        # 1.01.2011\n",
    "        data.loc[:, \"datetime\"] = pd.date_range(start='1/1/2011', periods=data.shape[0], freq='1H')\n",
    "        data.to_excel('new_data_with_datetime.xlsx', index=False)\n",
    "        print(\"Column with datetime created with name \\\"new_data_with_datetime.xlsx\\\"\")\n",
    "        file = str(input(\"Enter file name: \"))\n",
    "        data=pd.read_excel(file)\n",
    "        print(data)\n",
    "# ../../dataset/online_retail.xlsx\n",
    "# ../../dataset/online_retail_without_datetime.xlsx\n",
    "file_name = str(input(\"Enter file name: \"))\n",
    "user_function(file_name)\n",
    "\n",
    "\n",
    "\n"
   ],
   "metadata": {
    "collapsed": false,
    "ExecuteTime": {
     "start_time": "2023-04-17T16:38:06.466096Z",
     "end_time": "2023-04-17T16:38:09.402917Z"
    }
   }
  },
  {
   "cell_type": "code",
   "execution_count": null,
   "outputs": [],
   "source": [],
   "metadata": {
    "collapsed": false
   }
  }
 ],
 "metadata": {
  "kernelspec": {
   "display_name": "Python 3",
   "language": "python",
   "name": "python3"
  },
  "language_info": {
   "codemirror_mode": {
    "name": "ipython",
    "version": 2
   },
   "file_extension": ".py",
   "mimetype": "text/x-python",
   "name": "python",
   "nbconvert_exporter": "python",
   "pygments_lexer": "ipython2",
   "version": "2.7.6"
  }
 },
 "nbformat": 4,
 "nbformat_minor": 0
}
