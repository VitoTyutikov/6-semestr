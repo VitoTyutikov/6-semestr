{
 "cells": [
  {
   "cell_type": "code",
   "execution_count": 550,
   "id": "3c6c2ccf",
   "metadata": {
    "ExecuteTime": {
     "start_time": "2023-04-02T18:50:38.276057Z",
     "end_time": "2023-04-02T18:50:40.144783Z"
    }
   },
   "outputs": [],
   "source": [
    "import numpy as np"
   ]
  },
  {
   "cell_type": "code",
   "execution_count": 551,
   "id": "eafeaaed",
   "metadata": {
    "ExecuteTime": {
     "start_time": "2023-04-02T18:50:38.283468Z",
     "end_time": "2023-04-02T18:50:45.679296Z"
    }
   },
   "outputs": [],
   "source": [
    "# стандартный python\n",
    "a = list(range(1000000))"
   ]
  },
  {
   "cell_type": "code",
   "execution_count": 552,
   "id": "ed2886a0",
   "metadata": {
    "ExecuteTime": {
     "start_time": "2023-04-02T18:50:38.348343Z",
     "end_time": "2023-04-02T18:50:45.703925Z"
    }
   },
   "outputs": [
    {
     "name": "stdout",
     "output_type": "stream",
     "text": [
      "37.3 ms ± 837 µs per loop (mean ± std. dev. of 7 runs, 10 loops each)\n"
     ]
    }
   ],
   "source": [
    "%%timeit\n",
    "\n",
    "[e*e for e in a]"
   ]
  },
  {
   "cell_type": "code",
   "execution_count": 553,
   "id": "46e2a01e",
   "metadata": {
    "ExecuteTime": {
     "start_time": "2023-04-02T18:50:41.332115Z",
     "end_time": "2023-04-02T18:50:45.704022Z"
    }
   },
   "outputs": [],
   "source": [
    "# библиотека numpy\n",
    "a = np.arange(1000000)"
   ]
  },
  {
   "cell_type": "code",
   "execution_count": 554,
   "id": "94c47ca6",
   "metadata": {
    "ExecuteTime": {
     "start_time": "2023-04-02T18:50:41.342033Z",
     "end_time": "2023-04-02T18:50:45.725380Z"
    }
   },
   "outputs": [
    {
     "name": "stdout",
     "output_type": "stream",
     "text": [
      "487 µs ± 13.9 µs per loop (mean ± std. dev. of 7 runs, 1,000 loops each)\n"
     ]
    }
   ],
   "source": [
    "%%timeit\n",
    "\n",
    "a*a"
   ]
  },
  {
   "cell_type": "code",
   "execution_count": 555,
   "id": "b5659c4a",
   "metadata": {
    "ExecuteTime": {
     "start_time": "2023-04-02T18:50:45.524171Z",
     "end_time": "2023-04-02T18:50:45.725474Z"
    }
   },
   "outputs": [],
   "source": [
    "# стандартный python\n",
    "rows, cols = 1000, 1000\n",
    "\n",
    "a = [list(range(i, i + cols)) for i in range (0, rows)]\n",
    "b = [[0 for j in range(cols)] for i in range(rows)]"
   ]
  },
  {
   "cell_type": "code",
   "execution_count": 556,
   "id": "38d47093",
   "metadata": {
    "ExecuteTime": {
     "start_time": "2023-04-02T18:50:45.551522Z",
     "end_time": "2023-04-02T18:50:50.712862Z"
    }
   },
   "outputs": [
    {
     "name": "stdout",
     "output_type": "stream",
     "text": [
      "63.8 ms ± 4.09 ms per loop (mean ± std. dev. of 7 runs, 10 loops each)\n"
     ]
    }
   ],
   "source": [
    "%%timeit\n",
    "\n",
    "for i in range(rows):\n",
    "    for j in range(cols):\n",
    "        b[i][j] = 2*a[i][j]"
   ]
  },
  {
   "cell_type": "code",
   "execution_count": 557,
   "id": "67e5fcad",
   "metadata": {
    "ExecuteTime": {
     "start_time": "2023-04-02T18:50:50.736229Z",
     "end_time": "2023-04-02T18:50:50.772908Z"
    }
   },
   "outputs": [],
   "source": [
    "# библиотека numpy\n",
    "a = np.asarray(a)"
   ]
  },
  {
   "cell_type": "code",
   "execution_count": 558,
   "id": "9c9b3816",
   "metadata": {
    "ExecuteTime": {
     "start_time": "2023-04-02T18:50:50.744953Z",
     "end_time": "2023-04-02T18:50:54.938778Z"
    }
   },
   "outputs": [
    {
     "name": "stdout",
     "output_type": "stream",
     "text": [
      "499 µs ± 39.5 µs per loop (mean ± std. dev. of 7 runs, 1,000 loops each)\n"
     ]
    }
   ],
   "source": [
    "%%timeit\n",
    "\n",
    "2*a"
   ]
  },
  {
   "cell_type": "code",
   "execution_count": 559,
   "id": "13cbd549",
   "metadata": {
    "ExecuteTime": {
     "start_time": "2023-04-02T18:50:54.916474Z",
     "end_time": "2023-04-02T18:50:54.951121Z"
    }
   },
   "outputs": [
    {
     "data": {
      "text/plain": "array([1, 2, 3, 4, 5])"
     },
     "execution_count": 559,
     "metadata": {},
     "output_type": "execute_result"
    }
   ],
   "source": [
    "# целочисленный массив\n",
    "a = np.array([1, 2, 3, 4, 5])\n",
    "a"
   ]
  },
  {
   "cell_type": "code",
   "execution_count": 560,
   "id": "80a725a9",
   "metadata": {
    "ExecuteTime": {
     "start_time": "2023-04-02T18:50:54.916597Z",
     "end_time": "2023-04-02T18:50:54.951338Z"
    }
   },
   "outputs": [
    {
     "data": {
      "text/plain": "array([1., 2., 3., 4., 5.])"
     },
     "execution_count": 560,
     "metadata": {},
     "output_type": "execute_result"
    }
   ],
   "source": [
    "# массив из чисел с плав. точкой\n",
    "a = np.array([1, 2, 3, 4, 5], dtype=np.float64)\n",
    "a"
   ]
  },
  {
   "cell_type": "code",
   "execution_count": 561,
   "outputs": [
    {
     "data": {
      "text/plain": "array([[1., 2., 3., 4., 5.],\n       [6., 7., 8., 9., 0.]])"
     },
     "execution_count": 561,
     "metadata": {},
     "output_type": "execute_result"
    }
   ],
   "source": [
    "# двумерный массив\n",
    "a = np.array([[1, 2, 3, 4, 5], \n",
    "             [6, 7, 8, 9, 0]], dtype=float)\n",
    "a"
   ],
   "metadata": {
    "collapsed": false,
    "ExecuteTime": {
     "start_time": "2023-04-02T18:50:54.916692Z",
     "end_time": "2023-04-02T18:50:54.951531Z"
    }
   }
  },
  {
   "cell_type": "code",
   "execution_count": 562,
   "id": "29b31319",
   "metadata": {
    "ExecuteTime": {
     "start_time": "2023-04-02T18:50:54.916807Z",
     "end_time": "2023-04-02T18:50:54.951712Z"
    }
   },
   "outputs": [
    {
     "data": {
      "text/plain": "(2, 5)"
     },
     "execution_count": 562,
     "metadata": {},
     "output_type": "execute_result"
    }
   ],
   "source": [
    "# его размерность\n",
    "a.shape"
   ]
  },
  {
   "cell_type": "code",
   "execution_count": 563,
   "id": "1fd65288",
   "metadata": {
    "ExecuteTime": {
     "start_time": "2023-04-02T18:50:54.916893Z",
     "end_time": "2023-04-02T18:50:54.951834Z"
    }
   },
   "outputs": [
    {
     "data": {
      "text/plain": "2"
     },
     "execution_count": 563,
     "metadata": {},
     "output_type": "execute_result"
    }
   ],
   "source": [
    "# количество размерностей\n",
    "a.ndim"
   ]
  },
  {
   "cell_type": "code",
   "execution_count": 564,
   "id": "a8939c15",
   "metadata": {
    "ExecuteTime": {
     "start_time": "2023-04-02T18:50:54.917036Z",
     "end_time": "2023-04-02T18:50:54.951937Z"
    }
   },
   "outputs": [
    {
     "data": {
      "text/plain": "dtype('float64')"
     },
     "execution_count": 564,
     "metadata": {},
     "output_type": "execute_result"
    }
   ],
   "source": [
    "# тип данных массива\n",
    "a.dtype"
   ]
  },
  {
   "cell_type": "code",
   "execution_count": 565,
   "id": "c472d3ca",
   "metadata": {
    "ExecuteTime": {
     "start_time": "2023-04-02T18:50:54.917131Z",
     "end_time": "2023-04-02T18:50:54.952055Z"
    }
   },
   "outputs": [
    {
     "data": {
      "text/plain": "array([[1, 2, 3, 4, 5],\n       [6, 7, 8, 9, 0]])"
     },
     "execution_count": 565,
     "metadata": {},
     "output_type": "execute_result"
    }
   ],
   "source": [
    "# приводим его к int\n",
    "a.astype(int)"
   ]
  },
  {
   "cell_type": "code",
   "execution_count": 566,
   "id": "ac4eec3f",
   "metadata": {
    "ExecuteTime": {
     "start_time": "2023-04-02T18:50:54.917246Z",
     "end_time": "2023-04-02T18:50:54.952160Z"
    }
   },
   "outputs": [
    {
     "data": {
      "text/plain": "(40, 8)"
     },
     "execution_count": 566,
     "metadata": {},
     "output_type": "execute_result"
    }
   ],
   "source": [
    "# размер одной строки и одного элемента массива\n",
    "a.strides"
   ]
  },
  {
   "cell_type": "code",
   "execution_count": 567,
   "id": "fa20972b",
   "metadata": {
    "ExecuteTime": {
     "start_time": "2023-04-02T18:50:54.917342Z",
     "end_time": "2023-04-02T18:50:54.952267Z"
    }
   },
   "outputs": [
    {
     "data": {
      "text/plain": "array([[1., 2.],\n       [3., 4.],\n       [5., 6.],\n       [7., 8.],\n       [9., 0.]])"
     },
     "execution_count": 567,
     "metadata": {},
     "output_type": "execute_result"
    }
   ],
   "source": [
    "# изменим форму массива\n",
    "b = a.reshape(5, 2)\n",
    "b"
   ]
  },
  {
   "cell_type": "code",
   "execution_count": 568,
   "id": "dc8a753d",
   "metadata": {
    "ExecuteTime": {
     "start_time": "2023-04-02T18:50:54.927526Z",
     "end_time": "2023-04-02T18:50:54.952395Z"
    }
   },
   "outputs": [
    {
     "data": {
      "text/plain": "(16, 8)"
     },
     "execution_count": 568,
     "metadata": {},
     "output_type": "execute_result"
    }
   ],
   "source": [
    "# размер одной строки и одного элемента нового массива\n",
    "b.strides"
   ]
  },
  {
   "cell_type": "code",
   "execution_count": 569,
   "id": "6ba9b58d",
   "metadata": {
    "ExecuteTime": {
     "start_time": "2023-04-02T18:50:54.930461Z",
     "end_time": "2023-04-02T18:50:54.952502Z"
    }
   },
   "outputs": [
    {
     "data": {
      "text/plain": "array([[  1., -10.],\n       [  3.,   4.],\n       [  5.,   6.],\n       [  7.,   8.],\n       [  9.,   0.]])"
     },
     "execution_count": 569,
     "metadata": {},
     "output_type": "execute_result"
    }
   ],
   "source": [
    "# два массива ссылаются на одну и ту же область памяти\n",
    "a[0, 1] = -10\n",
    "b"
   ]
  },
  {
   "cell_type": "code",
   "execution_count": 570,
   "id": "feab9d51",
   "metadata": {
    "ExecuteTime": {
     "start_time": "2023-04-02T18:50:54.934460Z",
     "end_time": "2023-04-02T18:50:55.024117Z"
    }
   },
   "outputs": [
    {
     "data": {
      "text/plain": "array([  1., -10.,   3.,   4.,   5.,   6.,   7.,   8.,   9.,   0.])"
     },
     "execution_count": 570,
     "metadata": {},
     "output_type": "execute_result"
    }
   ],
   "source": [
    "# стягиваем в одну строку (новый массив)\n",
    "b = a.flatten()\n",
    "a[0, 1] = -30\n",
    "\n",
    "b"
   ]
  },
  {
   "cell_type": "code",
   "execution_count": 571,
   "id": "5a423d0e",
   "metadata": {
    "ExecuteTime": {
     "start_time": "2023-04-02T18:50:54.976330Z",
     "end_time": "2023-04-02T18:50:55.024334Z"
    }
   },
   "outputs": [
    {
     "data": {
      "text/plain": "array([  1., -20.,   3.,   4.,   5.,   6.,   7.,   8.,   9.,   0.])"
     },
     "execution_count": 571,
     "metadata": {},
     "output_type": "execute_result"
    }
   ],
   "source": [
    "# стягиваем в одну строку (тот же массив)\n",
    "b = a.ravel()\n",
    "a[0, 1] = -20\n",
    "\n",
    "b"
   ]
  },
  {
   "cell_type": "code",
   "execution_count": 572,
   "id": "42775007",
   "metadata": {
    "ExecuteTime": {
     "start_time": "2023-04-02T18:50:54.976427Z",
     "end_time": "2023-04-02T18:50:55.024484Z"
    }
   },
   "outputs": [
    {
     "data": {
      "text/plain": "array([[  1.,   6.],\n       [-40.,   7.],\n       [  3.,   8.],\n       [  4.,   9.],\n       [  5.,   0.]])"
     },
     "execution_count": 572,
     "metadata": {},
     "output_type": "execute_result"
    }
   ],
   "source": [
    "# транспонирование (тот же массив)\n",
    "c = a.T\n",
    "a[0, 1] = -40\n",
    "\n",
    "c"
   ]
  },
  {
   "cell_type": "code",
   "execution_count": 573,
   "id": "7c8fe138",
   "metadata": {
    "ExecuteTime": {
     "start_time": "2023-04-02T18:50:54.976529Z",
     "end_time": "2023-04-02T18:50:55.024597Z"
    }
   },
   "outputs": [
    {
     "data": {
      "text/plain": "((8, 40), (40, 8))"
     },
     "execution_count": 573,
     "metadata": {},
     "output_type": "execute_result"
    }
   ],
   "source": [
    "# такое возможно благодаря изменению strides\n",
    "c.strides, a.strides"
   ]
  },
  {
   "cell_type": "code",
   "execution_count": 574,
   "id": "03562ec7",
   "metadata": {
    "ExecuteTime": {
     "start_time": "2023-04-02T18:50:54.976607Z",
     "end_time": "2023-04-02T18:50:55.024715Z"
    }
   },
   "outputs": [
    {
     "data": {
      "text/plain": "array([0, 1, 2, 3, 4, 5, 6, 7, 8, 9])"
     },
     "execution_count": 574,
     "metadata": {},
     "output_type": "execute_result"
    }
   ],
   "source": [
    "b = np.arange(10)\n",
    "b"
   ]
  },
  {
   "cell_type": "code",
   "execution_count": 575,
   "id": "9de288bf",
   "metadata": {
    "ExecuteTime": {
     "start_time": "2023-04-02T18:50:54.976814Z",
     "end_time": "2023-04-02T18:50:55.024845Z"
    }
   },
   "outputs": [
    {
     "data": {
      "text/plain": "array([[0, 1, 2, 3, 4, 5, 6, 7, 8, 9]])"
     },
     "execution_count": 575,
     "metadata": {},
     "output_type": "execute_result"
    }
   ],
   "source": [
    "# фиктивная ось\n",
    "b[np.newaxis, :]"
   ]
  },
  {
   "cell_type": "code",
   "execution_count": 576,
   "id": "a92e43f0",
   "metadata": {
    "ExecuteTime": {
     "start_time": "2023-04-02T18:50:54.976918Z",
     "end_time": "2023-04-02T18:50:55.024957Z"
    }
   },
   "outputs": [
    {
     "data": {
      "text/plain": "array([[0],\n       [1],\n       [2],\n       [3],\n       [4],\n       [5],\n       [6],\n       [7],\n       [8],\n       [9]])"
     },
     "execution_count": 576,
     "metadata": {},
     "output_type": "execute_result"
    }
   ],
   "source": [
    "# вектор-столбец\n",
    "b[:, np.newaxis]"
   ]
  },
  {
   "cell_type": "code",
   "execution_count": 577,
   "id": "caab98c7",
   "metadata": {
    "ExecuteTime": {
     "start_time": "2023-04-02T18:50:54.976998Z",
     "end_time": "2023-04-02T18:50:55.025062Z"
    }
   },
   "outputs": [
    {
     "data": {
      "text/plain": "(1, 10, 1)"
     },
     "execution_count": 577,
     "metadata": {},
     "output_type": "execute_result"
    }
   ],
   "source": [
    "# добавление нескольких фиктивных осей\n",
    "b[np.newaxis, :, np.newaxis].shape"
   ]
  },
  {
   "cell_type": "code",
   "execution_count": 578,
   "id": "c145aa55",
   "metadata": {
    "ExecuteTime": {
     "start_time": "2023-04-02T18:50:54.977077Z",
     "end_time": "2023-04-02T18:50:55.025168Z"
    }
   },
   "outputs": [
    {
     "data": {
      "text/plain": "array([[0., 0.],\n       [0., 0.],\n       [0., 0.]])"
     },
     "execution_count": 578,
     "metadata": {},
     "output_type": "execute_result"
    }
   ],
   "source": [
    "# массив из нулей\n",
    "np.zeros(shape=(3,2))"
   ]
  },
  {
   "cell_type": "code",
   "execution_count": 579,
   "id": "712b4368",
   "metadata": {
    "ExecuteTime": {
     "start_time": "2023-04-02T18:50:54.977295Z",
     "end_time": "2023-04-02T18:50:55.025274Z"
    }
   },
   "outputs": [
    {
     "data": {
      "text/plain": "array([[0., 0., 0., 0., 0.],\n       [0., 0., 0., 0., 0.]])"
     },
     "execution_count": 579,
     "metadata": {},
     "output_type": "execute_result"
    }
   ],
   "source": [
    "# массив из нулей размерности\n",
    "# существующего массива\n",
    "np.zeros_like(a)"
   ]
  },
  {
   "cell_type": "code",
   "execution_count": 580,
   "id": "dc68c024",
   "metadata": {
    "ExecuteTime": {
     "start_time": "2023-04-02T18:50:54.977416Z",
     "end_time": "2023-04-02T18:50:55.025379Z"
    }
   },
   "outputs": [
    {
     "data": {
      "text/plain": "array([1., 1., 1., 1., 1.])"
     },
     "execution_count": 580,
     "metadata": {},
     "output_type": "execute_result"
    }
   ],
   "source": [
    "# массив единиц\n",
    "np.ones(5)"
   ]
  },
  {
   "cell_type": "code",
   "execution_count": 581,
   "id": "7b0f9cd1",
   "metadata": {
    "ExecuteTime": {
     "start_time": "2023-04-02T18:50:54.977494Z",
     "end_time": "2023-04-02T18:50:55.025509Z"
    }
   },
   "outputs": [
    {
     "data": {
      "text/plain": "array([[1., 0., 0., 0.],\n       [0., 1., 0., 0.],\n       [0., 0., 1., 0.],\n       [0., 0., 0., 1.]])"
     },
     "execution_count": 581,
     "metadata": {},
     "output_type": "execute_result"
    }
   ],
   "source": [
    "# единичная матрица\n",
    "np.eye(4)"
   ]
  },
  {
   "cell_type": "code",
   "execution_count": 582,
   "id": "52f4f5fb",
   "metadata": {
    "ExecuteTime": {
     "start_time": "2023-04-02T18:50:54.977584Z",
     "end_time": "2023-04-02T18:50:55.025616Z"
    }
   },
   "outputs": [
    {
     "data": {
      "text/plain": "array([1, 2, 3, 4, 5, 6, 7, 8, 9])"
     },
     "execution_count": 582,
     "metadata": {},
     "output_type": "execute_result"
    }
   ],
   "source": [
    "# различные способы ранжирования\n",
    "np.arange(1, 10)"
   ]
  },
  {
   "cell_type": "code",
   "execution_count": 583,
   "id": "014b2a28",
   "metadata": {
    "ExecuteTime": {
     "start_time": "2023-04-02T18:50:55.020308Z",
     "end_time": "2023-04-02T18:50:55.025969Z"
    }
   },
   "outputs": [
    {
     "data": {
      "text/plain": "array([1, 3, 5, 7, 9])"
     },
     "execution_count": 583,
     "metadata": {},
     "output_type": "execute_result"
    }
   ],
   "source": [
    "np.arange(1, 10, 2)"
   ]
  },
  {
   "cell_type": "code",
   "execution_count": 584,
   "id": "6621b149",
   "metadata": {
    "ExecuteTime": {
     "start_time": "2023-04-02T18:50:55.020414Z",
     "end_time": "2023-04-02T18:50:55.026094Z"
    }
   },
   "outputs": [
    {
     "data": {
      "text/plain": "array([1. , 1.5, 2. , 2.5, 3. , 3.5, 4. , 4.5, 5. , 5.5, 6. , 6.5, 7. ,\n       7.5, 8. , 8.5, 9. , 9.5])"
     },
     "execution_count": 584,
     "metadata": {},
     "output_type": "execute_result"
    }
   ],
   "source": [
    "np.arange(1, 10, 0.5)"
   ]
  },
  {
   "cell_type": "code",
   "execution_count": 585,
   "id": "96768510",
   "metadata": {
    "ExecuteTime": {
     "start_time": "2023-04-02T18:50:55.020501Z",
     "end_time": "2023-04-02T18:50:55.026203Z"
    }
   },
   "outputs": [
    {
     "data": {
      "text/plain": "array([0.  , 0.25, 0.5 , 0.75, 1.  ])"
     },
     "execution_count": 585,
     "metadata": {},
     "output_type": "execute_result"
    }
   ],
   "source": [
    "# разбивание диапазона на 4 равных отрезка\n",
    "np.linspace(0, 1, 5, endpoint=True)"
   ]
  },
  {
   "cell_type": "code",
   "execution_count": 586,
   "id": "6f3caee7",
   "metadata": {
    "ExecuteTime": {
     "start_time": "2023-04-02T18:50:55.020584Z",
     "end_time": "2023-04-02T18:50:55.026303Z"
    }
   },
   "outputs": [
    {
     "data": {
      "text/plain": "(array([0, 2, 3, 4, 5]), array([1, 2, 3, 4, 5]))"
     },
     "execution_count": 586,
     "metadata": {},
     "output_type": "execute_result"
    }
   ],
   "source": [
    "# избегаем ненужного копирования\n",
    "a = np.array([1, 2, 3, 4, 5])\n",
    "b = np.asarray(a)\n",
    "c = np.array(a)\n",
    "\n",
    "a[0] = 0\n",
    "\n",
    "b, c"
   ]
  },
  {
   "cell_type": "code",
   "execution_count": 587,
   "id": "fe2a7523",
   "metadata": {
    "ExecuteTime": {
     "start_time": "2023-04-02T18:50:55.020684Z",
     "end_time": "2023-04-02T18:50:55.027594Z"
    }
   },
   "outputs": [
    {
     "data": {
      "text/plain": "(array([1., 2., 3., 4., 5.], dtype=float32),\n array([1, 2, 3, 4, 5], dtype=int32),\n array([1., 2., 3., 4., 5.], dtype=float32))"
     },
     "execution_count": 587,
     "metadata": {},
     "output_type": "execute_result"
    }
   ],
   "source": [
    "# другой тип с помощью asarray\n",
    "a = np.array([1, 2, 3, 4, 5], dtype=np.float32)\n",
    "b = np.asarray(a, dtype=np.int32)\n",
    "c = np.array(a)\n",
    "\n",
    "a, b, c"
   ]
  },
  {
   "cell_type": "code",
   "execution_count": 588,
   "id": "bffcbc48",
   "metadata": {
    "ExecuteTime": {
     "start_time": "2023-04-02T18:50:55.020844Z",
     "end_time": "2023-04-02T18:50:55.027724Z"
    }
   },
   "outputs": [
    {
     "data": {
      "text/plain": "(array([0., 2., 3., 4., 5.], dtype=float32),\n array([1, 2, 3, 4, 5], dtype=int32),\n array([1., 2., 3., 4., 5.], dtype=float32))"
     },
     "execution_count": 588,
     "metadata": {},
     "output_type": "execute_result"
    }
   ],
   "source": [
    "# при этом уже будет создана копия\n",
    "a[0] = 0\n",
    "a, b, c"
   ]
  },
  {
   "cell_type": "code",
   "execution_count": 589,
   "id": "1b7548c4",
   "metadata": {
    "ExecuteTime": {
     "start_time": "2023-04-02T18:50:55.020943Z",
     "end_time": "2023-04-02T18:50:55.027881Z"
    }
   },
   "outputs": [
    {
     "data": {
      "text/plain": "array([1, 2, 3, 4, 5])"
     },
     "execution_count": 589,
     "metadata": {},
     "output_type": "execute_result"
    }
   ],
   "source": [
    "# массив из списка (снова копия)\n",
    "d = [1, 2, 3, 4 ,5]\n",
    "a = np.asarray(d)\n",
    "\n",
    "d[0] = 0\n",
    "a"
   ]
  },
  {
   "cell_type": "code",
   "execution_count": 589,
   "id": "c34efd97",
   "metadata": {
    "ExecuteTime": {
     "start_time": "2023-04-02T18:50:55.021038Z",
     "end_time": "2023-04-02T18:50:55.027933Z"
    }
   },
   "outputs": [],
   "source": []
  },
  {
   "cell_type": "code",
   "execution_count": 590,
   "id": "39d5c345",
   "metadata": {
    "ExecuteTime": {
     "start_time": "2023-04-02T18:50:55.021117Z",
     "end_time": "2023-04-02T18:50:55.027979Z"
    }
   },
   "outputs": [],
   "source": [
    "# ОПЕРАЦИИ СО СКАЛЯРАМИ И УНАРНЫЕ ОПЕРАЦИИ"
   ]
  },
  {
   "cell_type": "code",
   "execution_count": 591,
   "id": "8519f80a",
   "metadata": {
    "ExecuteTime": {
     "start_time": "2023-04-02T18:50:55.021195Z",
     "end_time": "2023-04-02T18:50:55.050511Z"
    }
   },
   "outputs": [
    {
     "data": {
      "text/plain": "array([[0, 1, 2, 3, 4],\n       [5, 6, 7, 8, 9]])"
     },
     "execution_count": 591,
     "metadata": {},
     "output_type": "execute_result"
    }
   ],
   "source": [
    "a = np.arange(10).reshape(2, -1)\n",
    "a"
   ]
  },
  {
   "cell_type": "code",
   "execution_count": 592,
   "id": "2219312e",
   "metadata": {
    "ExecuteTime": {
     "start_time": "2023-04-02T18:50:55.021319Z",
     "end_time": "2023-04-02T18:50:55.050714Z"
    }
   },
   "outputs": [
    {
     "data": {
      "text/plain": "array([[  0,   1,   8,  27,  64],\n       [125, 216, 343, 512, 729]])"
     },
     "execution_count": 592,
     "metadata": {},
     "output_type": "execute_result"
    }
   ],
   "source": [
    "a**3 # или np.power(a, 3)"
   ]
  },
  {
   "cell_type": "code",
   "execution_count": 593,
   "id": "bccb1449",
   "metadata": {
    "ExecuteTime": {
     "start_time": "2023-04-02T18:50:55.021405Z",
     "end_time": "2023-04-02T18:50:55.050851Z"
    }
   },
   "outputs": [
    {
     "data": {
      "text/plain": "array([[ 2,  3,  4,  5,  6],\n       [ 7,  8,  9, 10, 11]])"
     },
     "execution_count": 593,
     "metadata": {},
     "output_type": "execute_result"
    }
   ],
   "source": [
    "a+2 # или np.add(a, 2)"
   ]
  },
  {
   "cell_type": "code",
   "execution_count": 594,
   "id": "b9a75d44",
   "metadata": {
    "ExecuteTime": {
     "start_time": "2023-04-02T18:50:55.023280Z",
     "end_time": "2023-04-02T18:50:55.173075Z"
    }
   },
   "outputs": [
    {
     "data": {
      "text/plain": "array([[ 0,  2,  4,  6,  8],\n       [10, 12, 14, 16, 18]])"
     },
     "execution_count": 594,
     "metadata": {},
     "output_type": "execute_result"
    }
   ],
   "source": [
    "a*2 # или np.multiply(a, 2)"
   ]
  },
  {
   "cell_type": "code",
   "execution_count": 595,
   "id": "a1151f3a",
   "metadata": {
    "ExecuteTime": {
     "start_time": "2023-04-02T18:50:55.064455Z",
     "end_time": "2023-04-02T18:50:55.184812Z"
    }
   },
   "outputs": [
    {
     "data": {
      "text/plain": "array([[ 0,  2,  4,  6,  8],\n       [10, 12, 14, 16, 18]])"
     },
     "execution_count": 595,
     "metadata": {},
     "output_type": "execute_result"
    }
   ],
   "source": [
    "2*a # или np.multiply(2, a)"
   ]
  },
  {
   "cell_type": "code",
   "execution_count": 596,
   "id": "9f575bbf",
   "metadata": {
    "ExecuteTime": {
     "start_time": "2023-04-02T18:50:55.064609Z",
     "end_time": "2023-04-02T18:50:55.185024Z"
    }
   },
   "outputs": [
    {
     "data": {
      "text/plain": "array([[  1,   2,   4,   8,  16],\n       [ 32,  64, 128, 256, 512]])"
     },
     "execution_count": 596,
     "metadata": {},
     "output_type": "execute_result"
    }
   ],
   "source": [
    "2**a # или np.power(2, a)"
   ]
  },
  {
   "cell_type": "code",
   "execution_count": 597,
   "id": "5002c1ed",
   "metadata": {
    "ExecuteTime": {
     "start_time": "2023-04-02T18:50:55.064754Z",
     "end_time": "2023-04-02T18:50:55.185145Z"
    }
   },
   "outputs": [
    {
     "data": {
      "text/plain": "array([[0.        , 1.        , 1.41421356, 1.73205081, 2.        ],\n       [2.23606798, 2.44948974, 2.64575131, 2.82842712, 3.        ]])"
     },
     "execution_count": 597,
     "metadata": {},
     "output_type": "execute_result"
    }
   ],
   "source": [
    "np.sqrt(a)"
   ]
  },
  {
   "cell_type": "code",
   "execution_count": 598,
   "id": "54a5646f",
   "metadata": {
    "ExecuteTime": {
     "start_time": "2023-04-02T18:50:55.064904Z",
     "end_time": "2023-04-02T18:50:55.185275Z"
    }
   },
   "outputs": [
    {
     "data": {
      "text/plain": "array([[1.00000000e+00, 2.71828183e+00, 7.38905610e+00, 2.00855369e+01,\n        5.45981500e+01],\n       [1.48413159e+02, 4.03428793e+02, 1.09663316e+03, 2.98095799e+03,\n        8.10308393e+03]])"
     },
     "execution_count": 598,
     "metadata": {},
     "output_type": "execute_result"
    }
   ],
   "source": [
    "np.exp(a)"
   ]
  },
  {
   "cell_type": "code",
   "execution_count": 599,
   "id": "9fdc707c",
   "metadata": {
    "ExecuteTime": {
     "start_time": "2023-04-02T18:50:55.065106Z",
     "end_time": "2023-04-02T18:50:55.185398Z"
    }
   },
   "outputs": [
    {
     "data": {
      "text/plain": "array([[0.        , 0.69314718, 1.09861229, 1.38629436, 1.60943791],\n       [1.79175947, 1.94591015, 2.07944154, 2.19722458, 2.30258509]])"
     },
     "execution_count": 599,
     "metadata": {},
     "output_type": "execute_result"
    }
   ],
   "source": [
    "np.log(1+a)"
   ]
  },
  {
   "cell_type": "code",
   "execution_count": 600,
   "id": "bea676b2",
   "metadata": {
    "ExecuteTime": {
     "start_time": "2023-04-02T18:50:55.065221Z",
     "end_time": "2023-04-02T18:50:55.185527Z"
    }
   },
   "outputs": [
    {
     "data": {
      "text/plain": "array([[0.        , 1.        , 1.5849625 , 2.        , 2.32192809],\n       [2.5849625 , 2.80735492, 3.        , 3.169925  , 3.32192809]])"
     },
     "execution_count": 600,
     "metadata": {},
     "output_type": "execute_result"
    }
   ],
   "source": [
    "np.log2(1+a)"
   ]
  },
  {
   "cell_type": "code",
   "execution_count": 601,
   "id": "4a03d281",
   "metadata": {
    "ExecuteTime": {
     "start_time": "2023-04-02T18:50:55.065323Z",
     "end_time": "2023-04-02T18:50:55.185651Z"
    }
   },
   "outputs": [
    {
     "data": {
      "text/plain": "array([[ 0.        ,  0.84147098,  0.90929743,  0.14112001, -0.7568025 ],\n       [-0.95892427, -0.2794155 ,  0.6569866 ,  0.98935825,  0.41211849]])"
     },
     "execution_count": 601,
     "metadata": {},
     "output_type": "execute_result"
    }
   ],
   "source": [
    "np.sin(a)"
   ]
  },
  {
   "cell_type": "code",
   "execution_count": 602,
   "id": "7e153119",
   "metadata": {
    "ExecuteTime": {
     "start_time": "2023-04-02T18:50:55.065431Z",
     "end_time": "2023-04-02T18:50:55.185778Z"
    }
   },
   "outputs": [
    {
     "data": {
      "text/plain": "array([[False,  True,  True,  True,  True],\n       [ True,  True,  True,  True,  True]])"
     },
     "execution_count": 602,
     "metadata": {},
     "output_type": "execute_result"
    }
   ],
   "source": [
    "a>0 # или np.greater(a, 0)"
   ]
  },
  {
   "cell_type": "code",
   "execution_count": 602,
   "id": "9fa5da9c",
   "metadata": {
    "ExecuteTime": {
     "start_time": "2023-04-02T18:50:55.065520Z",
     "end_time": "2023-04-02T18:50:55.185836Z"
    }
   },
   "outputs": [],
   "source": []
  },
  {
   "cell_type": "code",
   "execution_count": 603,
   "id": "b388e4ab",
   "metadata": {
    "ExecuteTime": {
     "start_time": "2023-04-02T18:50:55.065627Z",
     "end_time": "2023-04-02T18:50:55.185891Z"
    }
   },
   "outputs": [],
   "source": [
    "# АГРЕГИРУЮЩИЕ ОПЕРАЦИИ"
   ]
  },
  {
   "cell_type": "code",
   "execution_count": 604,
   "id": "f7b338ae",
   "metadata": {
    "ExecuteTime": {
     "start_time": "2023-04-02T18:50:55.065699Z",
     "end_time": "2023-04-02T18:50:55.186011Z"
    }
   },
   "outputs": [
    {
     "data": {
      "text/plain": "array([ 4,  6,  7, 10,  0,  3,  5])"
     },
     "execution_count": 604,
     "metadata": {},
     "output_type": "execute_result"
    }
   ],
   "source": [
    "np.random.seed(5656)\n",
    "a=np.random.randint(0, 10, size=(7, ))\n",
    "a[3] = 10\n",
    "a"
   ]
  },
  {
   "cell_type": "code",
   "execution_count": 605,
   "id": "c6908351",
   "metadata": {
    "ExecuteTime": {
     "start_time": "2023-04-02T18:50:55.065775Z",
     "end_time": "2023-04-02T18:50:55.186627Z"
    }
   },
   "outputs": [
    {
     "data": {
      "text/plain": "(0, 10, 3, 35, 0, 5.0)"
     },
     "execution_count": 605,
     "metadata": {},
     "output_type": "execute_result"
    }
   ],
   "source": [
    "a.min(), a.max(), a.argmax(), a.sum(), a.prod(), a.mean()"
   ]
  },
  {
   "cell_type": "code",
   "execution_count": 606,
   "id": "7942672f",
   "metadata": {
    "ExecuteTime": {
     "start_time": "2023-04-02T18:50:55.108578Z",
     "end_time": "2023-04-02T18:50:55.186743Z"
    }
   },
   "outputs": [
    {
     "data": {
      "text/plain": "(0, 10, 3, 35, 0, 5.0)"
     },
     "execution_count": 606,
     "metadata": {},
     "output_type": "execute_result"
    }
   ],
   "source": [
    "np.min(a), np.max(a), np.argmax(a), np.sum(a), np.prod(a), np.mean(a)"
   ]
  },
  {
   "cell_type": "code",
   "execution_count": 607,
   "id": "abe83a53",
   "metadata": {
    "ExecuteTime": {
     "start_time": "2023-04-02T18:50:55.108736Z",
     "end_time": "2023-04-02T18:50:55.186858Z"
    }
   },
   "outputs": [
    {
     "data": {
      "text/plain": "array([[ 2,  3,  0,  5,  2,  0,  3],\n       [ 8,  8,  0, 15,  1,  5,  3],\n       [ 0,  1,  6,  2,  1,  4,  5]])"
     },
     "execution_count": 607,
     "metadata": {},
     "output_type": "execute_result"
    }
   ],
   "source": [
    "np.random.seed(5555)\n",
    "a=np.random.randint(0, 10, size=(3, 7))\n",
    "a[1, 3] = 15\n",
    "a"
   ]
  },
  {
   "cell_type": "code",
   "execution_count": 608,
   "id": "3946c6c0",
   "metadata": {
    "ExecuteTime": {
     "start_time": "2023-04-02T18:50:55.108888Z",
     "end_time": "2023-04-02T18:50:55.186965Z"
    }
   },
   "outputs": [
    {
     "data": {
      "text/plain": "array([ 8,  8,  6, 15,  2,  5,  5])"
     },
     "execution_count": 608,
     "metadata": {},
     "output_type": "execute_result"
    }
   ],
   "source": [
    "# максимумы по столбцам\n",
    "a.max(axis=0)"
   ]
  },
  {
   "cell_type": "code",
   "execution_count": 609,
   "id": "3739858f",
   "metadata": {
    "ExecuteTime": {
     "start_time": "2023-04-02T18:50:55.109011Z",
     "end_time": "2023-04-02T18:50:55.187071Z"
    }
   },
   "outputs": [
    {
     "data": {
      "text/plain": "array([15, 40, 19])"
     },
     "execution_count": 609,
     "metadata": {},
     "output_type": "execute_result"
    }
   ],
   "source": [
    "# сумма по строкам\n",
    "a.sum(axis=1)"
   ]
  },
  {
   "cell_type": "code",
   "execution_count": 610,
   "id": "1e52286a",
   "metadata": {
    "ExecuteTime": {
     "start_time": "2023-04-02T18:50:55.109152Z",
     "end_time": "2023-04-02T18:50:55.187179Z"
    }
   },
   "outputs": [
    {
     "data": {
      "text/plain": "10"
     },
     "execution_count": 610,
     "metadata": {},
     "output_type": "execute_result"
    }
   ],
   "source": [
    "a.argmax()"
   ]
  },
  {
   "cell_type": "code",
   "execution_count": 611,
   "id": "d9e150e0",
   "metadata": {
    "ExecuteTime": {
     "start_time": "2023-04-02T18:50:55.109315Z",
     "end_time": "2023-04-02T18:50:55.187279Z"
    }
   },
   "outputs": [
    {
     "data": {
      "text/plain": "15"
     },
     "execution_count": 611,
     "metadata": {},
     "output_type": "execute_result"
    }
   ],
   "source": [
    "a.ravel()[a.argmax()]"
   ]
  },
  {
   "cell_type": "code",
   "execution_count": 612,
   "id": "ce7d33fb",
   "metadata": {
    "ExecuteTime": {
     "start_time": "2023-04-02T18:50:55.109393Z",
     "end_time": "2023-04-02T18:50:55.187390Z"
    }
   },
   "outputs": [
    {
     "name": "stdout",
     "output_type": "stream",
     "text": [
      "index = (1, 3)\n"
     ]
    }
   ],
   "source": [
    "i = np.argmax(a)\n",
    "i, j = i // a.shape[1], i % a.shape[1]\n",
    "print(\"index =\", (i, j))"
   ]
  },
  {
   "cell_type": "code",
   "execution_count": 613,
   "id": "20c5c752",
   "metadata": {
    "ExecuteTime": {
     "start_time": "2023-04-02T18:50:55.109476Z",
     "end_time": "2023-04-02T18:50:55.187440Z"
    }
   },
   "outputs": [],
   "source": [
    "b = np.random.randint(0, 10, size=(1000, 1000))\n",
    "b[36, 42] = 20\n",
    "b = b.ravel()"
   ]
  },
  {
   "cell_type": "code",
   "execution_count": 614,
   "id": "3a204021",
   "metadata": {
    "ExecuteTime": {
     "start_time": "2023-04-02T18:50:55.109560Z",
     "end_time": "2023-04-02T18:51:04.482508Z"
    }
   },
   "outputs": [
    {
     "name": "stdout",
     "output_type": "stream",
     "text": [
      "116 µs ± 6.65 µs per loop (mean ± std. dev. of 7 runs, 10,000 loops each)\n"
     ]
    }
   ],
   "source": [
    "%%timeit\n",
    "\n",
    "# numpy\n",
    "b.max()"
   ]
  },
  {
   "cell_type": "code",
   "execution_count": 615,
   "id": "a9ebc52d",
   "metadata": {
    "ExecuteTime": {
     "start_time": "2023-04-02T18:51:04.756010Z",
     "end_time": "2023-04-02T18:51:07.179448Z"
    }
   },
   "outputs": [
    {
     "name": "stdout",
     "output_type": "stream",
     "text": [
      "33.1 ms ± 696 µs per loop (mean ± std. dev. of 7 runs, 10 loops each)\n"
     ]
    }
   ],
   "source": [
    "%%timeit\n",
    "\n",
    "# python\n",
    "max(b)"
   ]
  },
  {
   "cell_type": "code",
   "execution_count": 615,
   "id": "9f33157a",
   "metadata": {
    "ExecuteTime": {
     "start_time": "2023-04-02T18:51:07.178832Z",
     "end_time": "2023-04-02T18:51:07.181547Z"
    }
   },
   "outputs": [],
   "source": []
  },
  {
   "cell_type": "code",
   "execution_count": 616,
   "id": "b854adac",
   "metadata": {
    "ExecuteTime": {
     "start_time": "2023-04-02T18:51:07.181521Z",
     "end_time": "2023-04-02T18:51:07.183608Z"
    }
   },
   "outputs": [],
   "source": [
    "# УНАРНЫЕ ОПЕРАЦИИ НАД БУЛЕВЫМИ МАССИВАМИ"
   ]
  },
  {
   "cell_type": "code",
   "execution_count": 617,
   "id": "0eefbf80",
   "metadata": {
    "ExecuteTime": {
     "start_time": "2023-04-02T18:51:07.184325Z",
     "end_time": "2023-04-02T18:51:07.189583Z"
    }
   },
   "outputs": [
    {
     "data": {
      "text/plain": "array([ True, False,  True, False,  True])"
     },
     "execution_count": 617,
     "metadata": {},
     "output_type": "execute_result"
    }
   ],
   "source": [
    "a = np.asarray([True, False, True, False, True])\n",
    "a"
   ]
  },
  {
   "cell_type": "code",
   "execution_count": 618,
   "id": "ed0c212a",
   "metadata": {
    "ExecuteTime": {
     "start_time": "2023-04-02T18:51:07.189628Z",
     "end_time": "2023-04-02T18:51:07.244920Z"
    }
   },
   "outputs": [
    {
     "data": {
      "text/plain": "(True, True, True)"
     },
     "execution_count": 618,
     "metadata": {},
     "output_type": "execute_result"
    }
   ],
   "source": [
    "a.any(), np.any(a), any(a)"
   ]
  },
  {
   "cell_type": "code",
   "execution_count": 619,
   "id": "352657bb",
   "metadata": {
    "ExecuteTime": {
     "start_time": "2023-04-02T18:51:07.236327Z",
     "end_time": "2023-04-02T18:51:07.245069Z"
    }
   },
   "outputs": [
    {
     "data": {
      "text/plain": "(False, False, False)"
     },
     "execution_count": 619,
     "metadata": {},
     "output_type": "execute_result"
    }
   ],
   "source": [
    "a.all(), np.all(a), all(a)"
   ]
  },
  {
   "cell_type": "code",
   "execution_count": 620,
   "id": "98074c50",
   "metadata": {
    "ExecuteTime": {
     "start_time": "2023-04-02T18:51:07.236406Z",
     "end_time": "2023-04-02T18:51:07.245189Z"
    }
   },
   "outputs": [
    {
     "data": {
      "text/plain": "array([[ True, False,  True, False,  True],\n       [False,  True, False,  True, False]])"
     },
     "execution_count": 620,
     "metadata": {},
     "output_type": "execute_result"
    }
   ],
   "source": [
    "a = np.asarray([[True, False, True, False, True],\n",
    "                [False, True, False, True, False]])\n",
    "a"
   ]
  },
  {
   "cell_type": "code",
   "execution_count": 621,
   "id": "20b7ebdd",
   "metadata": {
    "ExecuteTime": {
     "start_time": "2023-04-02T18:51:07.236540Z",
     "end_time": "2023-04-02T18:51:07.245303Z"
    }
   },
   "outputs": [
    {
     "data": {
      "text/plain": "array([ True,  True,  True,  True,  True])"
     },
     "execution_count": 621,
     "metadata": {},
     "output_type": "execute_result"
    }
   ],
   "source": [
    "a.any(axis=0)"
   ]
  },
  {
   "cell_type": "code",
   "execution_count": 622,
   "id": "249cf284",
   "metadata": {
    "ExecuteTime": {
     "start_time": "2023-04-02T18:51:07.236631Z",
     "end_time": "2023-04-02T18:51:07.245409Z"
    }
   },
   "outputs": [
    {
     "data": {
      "text/plain": "array([False, False])"
     },
     "execution_count": 622,
     "metadata": {},
     "output_type": "execute_result"
    }
   ],
   "source": [
    "a.all(axis=1)"
   ]
  },
  {
   "cell_type": "code",
   "execution_count": 623,
   "id": "3bb21382",
   "metadata": {
    "ExecuteTime": {
     "start_time": "2023-04-02T18:51:07.236785Z",
     "end_time": "2023-04-02T18:51:07.245514Z"
    }
   },
   "outputs": [
    {
     "data": {
      "text/plain": "array([[False,  True, False,  True, False],\n       [ True, False,  True, False,  True]])"
     },
     "execution_count": 623,
     "metadata": {},
     "output_type": "execute_result"
    }
   ],
   "source": [
    "np.logical_not(a)"
   ]
  },
  {
   "cell_type": "code",
   "execution_count": 623,
   "id": "c736f435",
   "metadata": {
    "ExecuteTime": {
     "start_time": "2023-04-02T18:51:07.236878Z",
     "end_time": "2023-04-02T18:51:07.245570Z"
    }
   },
   "outputs": [],
   "source": []
  },
  {
   "cell_type": "code",
   "execution_count": 624,
   "id": "8a51e51f",
   "metadata": {
    "ExecuteTime": {
     "start_time": "2023-04-02T18:51:07.237009Z",
     "end_time": "2023-04-02T18:51:07.245619Z"
    }
   },
   "outputs": [],
   "source": [
    "# БИНАРНЫЕ ОПЕРАЦИИ"
   ]
  },
  {
   "cell_type": "code",
   "execution_count": 625,
   "id": "5010ad7f",
   "metadata": {
    "ExecuteTime": {
     "start_time": "2023-04-02T18:51:07.237117Z",
     "end_time": "2023-04-02T18:51:07.245725Z"
    }
   },
   "outputs": [
    {
     "data": {
      "text/plain": "array([[1, 0, 1, 0, 1],\n       [0, 1, 0, 1, 0]])"
     },
     "execution_count": 625,
     "metadata": {},
     "output_type": "execute_result"
    }
   ],
   "source": [
    "a = a.astype(int)\n",
    "a"
   ]
  },
  {
   "cell_type": "code",
   "execution_count": 626,
   "id": "d68dca4c",
   "metadata": {
    "ExecuteTime": {
     "start_time": "2023-04-02T18:51:07.237205Z",
     "end_time": "2023-04-02T18:51:07.245834Z"
    }
   },
   "outputs": [
    {
     "data": {
      "text/plain": "array([[3, 0, 8, 1, 3],\n       [1, 0, 2, 7, 8]])"
     },
     "execution_count": 626,
     "metadata": {},
     "output_type": "execute_result"
    }
   ],
   "source": [
    "np.random.seed(4968)\n",
    "b = np.random.randint(0, 10, size=a.shape)\n",
    "b"
   ]
  },
  {
   "cell_type": "code",
   "execution_count": 627,
   "id": "10ab3885",
   "metadata": {
    "ExecuteTime": {
     "start_time": "2023-04-02T18:51:07.237289Z",
     "end_time": "2023-04-02T18:51:07.245938Z"
    }
   },
   "outputs": [
    {
     "data": {
      "text/plain": "array([[3, 0, 8, 0, 3],\n       [0, 0, 0, 7, 0]])"
     },
     "execution_count": 627,
     "metadata": {},
     "output_type": "execute_result"
    }
   ],
   "source": [
    "a*b # или np.multiply(a, b)"
   ]
  },
  {
   "cell_type": "code",
   "execution_count": 628,
   "id": "86f67bec",
   "metadata": {
    "ExecuteTime": {
     "start_time": "2023-04-02T18:51:07.237430Z",
     "end_time": "2023-04-02T18:51:07.246041Z"
    }
   },
   "outputs": [
    {
     "data": {
      "text/plain": "array([[4, 0, 9, 1, 4],\n       [1, 1, 2, 8, 8]])"
     },
     "execution_count": 628,
     "metadata": {},
     "output_type": "execute_result"
    }
   ],
   "source": [
    "a+b # или np.add(a, b)"
   ]
  },
  {
   "cell_type": "code",
   "execution_count": 629,
   "id": "dea0db5a",
   "metadata": {
    "ExecuteTime": {
     "start_time": "2023-04-02T18:51:07.237504Z",
     "end_time": "2023-04-02T18:51:07.246148Z"
    }
   },
   "outputs": [
    {
     "data": {
      "text/plain": "array([[3, 0, 8, 1, 3],\n       [1, 1, 2, 7, 8]])"
     },
     "execution_count": 629,
     "metadata": {},
     "output_type": "execute_result"
    }
   ],
   "source": [
    "np.fmax(a, b)"
   ]
  },
  {
   "cell_type": "code",
   "execution_count": 630,
   "id": "df70fadd",
   "metadata": {
    "ExecuteTime": {
     "start_time": "2023-04-02T18:51:07.237570Z",
     "end_time": "2023-04-02T18:51:07.246256Z"
    }
   },
   "outputs": [
    {
     "data": {
      "text/plain": "array([[False, False, False, False, False],\n       [False,  True, False, False, False]])"
     },
     "execution_count": 630,
     "metadata": {},
     "output_type": "execute_result"
    }
   ],
   "source": [
    "a>b # или np.greater(a, b)"
   ]
  },
  {
   "cell_type": "code",
   "execution_count": 631,
   "id": "baf06e75",
   "metadata": {
    "ExecuteTime": {
     "start_time": "2023-04-02T18:51:07.237645Z",
     "end_time": "2023-04-02T18:51:07.246308Z"
    }
   },
   "outputs": [],
   "source": [
    "np.random.seed(4987)\n",
    "a = np.random.random(size=(2, 5))\n",
    "b = a + np.random.random(size=(2, 5))*1e-5"
   ]
  },
  {
   "cell_type": "code",
   "execution_count": 632,
   "id": "827da6b4",
   "metadata": {
    "ExecuteTime": {
     "start_time": "2023-04-02T18:51:07.237754Z",
     "end_time": "2023-04-02T18:51:07.325730Z"
    }
   },
   "outputs": [
    {
     "data": {
      "text/plain": "array([[0.71700122, 0.2663399 , 0.363807  , 0.21265099, 0.97651262],\n       [0.61392251, 0.62911827, 0.19253836, 0.96386783, 0.50772562]])"
     },
     "execution_count": 632,
     "metadata": {},
     "output_type": "execute_result"
    }
   ],
   "source": [
    "a"
   ]
  },
  {
   "cell_type": "code",
   "execution_count": 633,
   "id": "df83aff0",
   "metadata": {
    "ExecuteTime": {
     "start_time": "2023-04-02T18:51:07.284309Z",
     "end_time": "2023-04-02T18:51:07.343778Z"
    }
   },
   "outputs": [
    {
     "data": {
      "text/plain": "array([[0.71700756, 0.2663407 , 0.36381509, 0.21265902, 0.97651597],\n       [0.61392769, 0.62912558, 0.19254206, 0.96387406, 0.50773147]])"
     },
     "execution_count": 633,
     "metadata": {},
     "output_type": "execute_result"
    }
   ],
   "source": [
    "b"
   ]
  },
  {
   "cell_type": "code",
   "execution_count": 634,
   "id": "1ec54115",
   "metadata": {
    "ExecuteTime": {
     "start_time": "2023-04-02T18:51:07.284404Z",
     "end_time": "2023-04-02T18:51:07.343950Z"
    }
   },
   "outputs": [
    {
     "data": {
      "text/plain": "array([[ True,  True, False, False,  True],\n       [ True, False, False,  True, False]])"
     },
     "execution_count": 634,
     "metadata": {},
     "output_type": "execute_result"
    }
   ],
   "source": [
    "np.isclose(a, b)"
   ]
  },
  {
   "cell_type": "code",
   "execution_count": 635,
   "id": "fa48abc1",
   "metadata": {
    "ExecuteTime": {
     "start_time": "2023-04-02T18:51:07.284490Z",
     "end_time": "2023-04-02T18:51:07.344074Z"
    }
   },
   "outputs": [
    {
     "data": {
      "text/plain": "False"
     },
     "execution_count": 635,
     "metadata": {},
     "output_type": "execute_result"
    }
   ],
   "source": [
    "np.allclose(a, b)"
   ]
  },
  {
   "cell_type": "code",
   "execution_count": 636,
   "id": "6461a9e5",
   "metadata": {
    "ExecuteTime": {
     "start_time": "2023-04-02T18:51:07.284569Z",
     "end_time": "2023-04-02T18:51:07.344249Z"
    }
   },
   "outputs": [
    {
     "data": {
      "text/plain": "True"
     },
     "execution_count": 636,
     "metadata": {},
     "output_type": "execute_result"
    }
   ],
   "source": [
    "np.isclose(a, b).any()"
   ]
  },
  {
   "cell_type": "code",
   "execution_count": 637,
   "id": "7fe4b3d5",
   "metadata": {
    "ExecuteTime": {
     "start_time": "2023-04-02T18:51:07.284645Z",
     "end_time": "2023-04-02T18:51:07.344392Z"
    }
   },
   "outputs": [
    {
     "data": {
      "text/plain": "array([ True,  True,  True,  True,  True])"
     },
     "execution_count": 637,
     "metadata": {},
     "output_type": "execute_result"
    }
   ],
   "source": [
    "np.random.seed(4987)\n",
    "a = (np.random.random(size=(5, )) - 0.5) * 1e-7\n",
    "np.isclose(a, 0, atol=1e-6)"
   ]
  },
  {
   "cell_type": "code",
   "execution_count": 637,
   "id": "8b558938",
   "metadata": {
    "ExecuteTime": {
     "start_time": "2023-04-02T18:51:07.284785Z",
     "end_time": "2023-04-02T18:51:07.344463Z"
    }
   },
   "outputs": [],
   "source": []
  },
  {
   "cell_type": "code",
   "execution_count": 638,
   "id": "a2f3e819",
   "metadata": {
    "ExecuteTime": {
     "start_time": "2023-04-02T18:51:07.284857Z",
     "end_time": "2023-04-02T18:51:07.344531Z"
    }
   },
   "outputs": [],
   "source": [
    "# БИНАРНЫЕ ОПЕРАЦИИ НАД БУЛЕВЫМИ МАССИВАМИ"
   ]
  },
  {
   "cell_type": "code",
   "execution_count": 639,
   "id": "5cbb5ba8",
   "metadata": {
    "ExecuteTime": {
     "start_time": "2023-04-02T18:51:07.284927Z",
     "end_time": "2023-04-02T18:51:07.344680Z"
    }
   },
   "outputs": [
    {
     "data": {
      "text/plain": "(array([ True,  True, False, False,  True]),\n array([ True, False, False,  True, False]))"
     },
     "execution_count": 639,
     "metadata": {},
     "output_type": "execute_result"
    }
   ],
   "source": [
    "a = np.asarray([ True,  True, False, False,  True])\n",
    "b = np.asarray([ True, False, False,  True, False])\n",
    "a, b"
   ]
  },
  {
   "cell_type": "code",
   "execution_count": 640,
   "id": "d5de5dcd",
   "metadata": {
    "ExecuteTime": {
     "start_time": "2023-04-02T18:51:07.285031Z",
     "end_time": "2023-04-02T18:51:07.344856Z"
    }
   },
   "outputs": [
    {
     "data": {
      "text/plain": "(array([ True, False, False, False, False]),\n array([ True,  True, False,  True,  True]),\n array([False,  True, False,  True,  True]))"
     },
     "execution_count": 640,
     "metadata": {},
     "output_type": "execute_result"
    }
   ],
   "source": [
    "np.logical_and(a, b), np.logical_or(a, b), np.logical_xor(a, b)"
   ]
  },
  {
   "cell_type": "code",
   "execution_count": 641,
   "id": "88fba27c",
   "metadata": {
    "ExecuteTime": {
     "start_time": "2023-04-02T18:51:07.285122Z",
     "end_time": "2023-04-02T18:51:07.345067Z"
    }
   },
   "outputs": [
    {
     "data": {
      "text/plain": "(array([ True, False, False, False, False]),\n array([ True,  True, False,  True,  True]),\n array([False,  True, False,  True,  True]))"
     },
     "execution_count": 641,
     "metadata": {},
     "output_type": "execute_result"
    }
   ],
   "source": [
    "a & b, a | b, a ^ b"
   ]
  },
  {
   "cell_type": "code",
   "execution_count": 642,
   "id": "e451a353",
   "metadata": {
    "ExecuteTime": {
     "start_time": "2023-04-02T18:51:07.285259Z",
     "end_time": "2023-04-02T18:51:07.345229Z"
    }
   },
   "outputs": [
    {
     "data": {
      "text/plain": "(array([ True, False, False, False, False]),\n array([ True,  True, False,  True,  True]),\n array([False,  True, False,  True,  True]))"
     },
     "execution_count": 642,
     "metadata": {},
     "output_type": "execute_result"
    }
   ],
   "source": [
    "np.bitwise_and(a, b), np.bitwise_or(a, b), np.bitwise_xor(a, b)"
   ]
  },
  {
   "cell_type": "code",
   "execution_count": 642,
   "id": "44e561f3",
   "metadata": {
    "ExecuteTime": {
     "start_time": "2023-04-02T18:51:07.285347Z",
     "end_time": "2023-04-02T18:51:07.345341Z"
    }
   },
   "outputs": [],
   "source": []
  },
  {
   "cell_type": "code",
   "execution_count": 643,
   "id": "42b92828",
   "metadata": {
    "ExecuteTime": {
     "start_time": "2023-04-02T18:51:07.285414Z",
     "end_time": "2023-04-02T18:51:07.345519Z"
    }
   },
   "outputs": [
    {
     "data": {
      "text/plain": "array([[ 0,  1,  2,  3,  4,  5,  6,  7,  8,  9],\n       [10, 11, 12, 13, 14, 15, 16, 17, 18, 19],\n       [20, 21, 22, 23, 24, 25, 26, 27, 28, 29]])"
     },
     "execution_count": 643,
     "metadata": {},
     "output_type": "execute_result"
    }
   ],
   "source": [
    "# сложение массивов разных размеров\n",
    "\n",
    "a = np.arange(30).reshape(3, -1)\n",
    "a"
   ]
  },
  {
   "cell_type": "code",
   "execution_count": 644,
   "id": "c8a7ed22",
   "metadata": {
    "ExecuteTime": {
     "start_time": "2023-04-02T18:51:07.285493Z",
     "end_time": "2023-04-02T18:51:07.345692Z"
    }
   },
   "outputs": [
    {
     "data": {
      "text/plain": "array([0, 1, 2, 3, 4, 5, 6, 7, 8, 9])"
     },
     "execution_count": 644,
     "metadata": {},
     "output_type": "execute_result"
    }
   ],
   "source": [
    "b = np.arange(a.shape[1])\n",
    "b"
   ]
  },
  {
   "cell_type": "code",
   "execution_count": 645,
   "id": "a5f28d2f",
   "metadata": {
    "ExecuteTime": {
     "start_time": "2023-04-02T18:51:07.285558Z",
     "end_time": "2023-04-02T18:51:07.345860Z"
    }
   },
   "outputs": [
    {
     "name": "stdout",
     "output_type": "stream",
     "text": [
      "a.shape = (3, 10)\n",
      "b.shape = (10,)\n"
     ]
    }
   ],
   "source": [
    "print(\"a.shape =\", a.shape)\n",
    "print(\"b.shape =\", b.shape)"
   ]
  },
  {
   "cell_type": "code",
   "execution_count": 646,
   "id": "c80accdb",
   "metadata": {
    "ExecuteTime": {
     "start_time": "2023-04-02T18:51:07.285641Z",
     "end_time": "2023-04-02T18:51:07.346025Z"
    }
   },
   "outputs": [
    {
     "data": {
      "text/plain": "array([[ 0,  2,  4,  6,  8, 10, 12, 14, 16, 18],\n       [10, 12, 14, 16, 18, 20, 22, 24, 26, 28],\n       [20, 22, 24, 26, 28, 30, 32, 34, 36, 38]])"
     },
     "execution_count": 646,
     "metadata": {},
     "output_type": "execute_result"
    }
   ],
   "source": [
    "a+b"
   ]
  },
  {
   "cell_type": "code",
   "execution_count": 647,
   "id": "54692205",
   "metadata": {
    "ExecuteTime": {
     "start_time": "2023-04-02T18:51:07.285707Z",
     "end_time": "2023-04-02T18:51:07.346224Z"
    }
   },
   "outputs": [
    {
     "data": {
      "text/plain": "array([0, 1, 2])"
     },
     "execution_count": 647,
     "metadata": {},
     "output_type": "execute_result"
    }
   ],
   "source": [
    "b = np.arange(a.shape[0])\n",
    "b"
   ]
  },
  {
   "cell_type": "code",
   "execution_count": 648,
   "id": "754b8da1",
   "metadata": {
    "ExecuteTime": {
     "start_time": "2023-04-02T18:51:07.287294Z",
     "end_time": "2023-04-02T18:51:07.348094Z"
    }
   },
   "outputs": [
    {
     "name": "stdout",
     "output_type": "stream",
     "text": [
      "a.shape = (3, 10)\n",
      "b.shape = (3,)\n"
     ]
    }
   ],
   "source": [
    "print(\"a.shape =\", a.shape)\n",
    "print(\"b.shape =\", b.shape)"
   ]
  },
  {
   "cell_type": "code",
   "execution_count": 650,
   "id": "3354c00d",
   "metadata": {
    "ExecuteTime": {
     "start_time": "2023-04-02T18:14:57.177465Z",
     "end_time": "2023-04-02T18:14:57.207384Z"
    }
   },
   "outputs": [
    {
     "ename": "ValueError",
     "evalue": "operands could not be broadcast together with shapes (3,10) (3,) ",
     "output_type": "error",
     "traceback": [
      "\u001B[0;31m---------------------------------------------------------------------------\u001B[0m",
      "\u001B[0;31mValueError\u001B[0m                                Traceback (most recent call last)",
      "Cell \u001B[0;32mIn[650], line 3\u001B[0m\n\u001B[1;32m      1\u001B[0m \u001B[38;5;66;03m# не получится\u001B[39;00m\n\u001B[0;32m----> 3\u001B[0m \u001B[43ma\u001B[49m\u001B[38;5;241;43m+\u001B[39;49m\u001B[43mb\u001B[49m\n",
      "\u001B[0;31mValueError\u001B[0m: operands could not be broadcast together with shapes (3,10) (3,) "
     ]
    }
   ],
   "source": [
    "# не получится\n",
    "\n",
    "a+b"
   ]
  },
  {
   "cell_type": "code",
   "execution_count": 651,
   "id": "548c2083",
   "metadata": {
    "ExecuteTime": {
     "start_time": "2023-04-02T18:51:57.946743Z",
     "end_time": "2023-04-02T18:51:57.995645Z"
    }
   },
   "outputs": [
    {
     "data": {
      "text/plain": "array([[0],\n       [1],\n       [2]])"
     },
     "execution_count": 651,
     "metadata": {},
     "output_type": "execute_result"
    }
   ],
   "source": [
    "b = np.arange(a.shape[0])[:, np.newaxis]\n",
    "b"
   ]
  },
  {
   "cell_type": "code",
   "execution_count": 652,
   "id": "75a79475",
   "metadata": {
    "ExecuteTime": {
     "start_time": "2023-04-02T18:51:58.333407Z",
     "end_time": "2023-04-02T18:51:58.408817Z"
    }
   },
   "outputs": [
    {
     "name": "stdout",
     "output_type": "stream",
     "text": [
      "a.shape = (3, 10)\n",
      "b.shape = (3, 1)\n"
     ]
    }
   ],
   "source": [
    "print(\"a.shape =\", a.shape)\n",
    "print(\"b.shape =\", b.shape)"
   ]
  },
  {
   "cell_type": "code",
   "execution_count": 653,
   "id": "575cb939",
   "metadata": {
    "ExecuteTime": {
     "start_time": "2023-04-02T18:51:58.680255Z",
     "end_time": "2023-04-02T18:51:58.726194Z"
    }
   },
   "outputs": [
    {
     "data": {
      "text/plain": "array([[ 0,  1,  2,  3,  4,  5,  6,  7,  8,  9],\n       [11, 12, 13, 14, 15, 16, 17, 18, 19, 20],\n       [22, 23, 24, 25, 26, 27, 28, 29, 30, 31]])"
     },
     "execution_count": 653,
     "metadata": {},
     "output_type": "execute_result"
    }
   ],
   "source": [
    "a+b"
   ]
  },
  {
   "cell_type": "code",
   "execution_count": 653,
   "id": "d7e00028",
   "metadata": {
    "ExecuteTime": {
     "start_time": "2023-04-02T18:51:58.884182Z",
     "end_time": "2023-04-02T18:51:58.972942Z"
    }
   },
   "outputs": [],
   "source": []
  },
  {
   "cell_type": "code",
   "execution_count": 654,
   "id": "13da642e",
   "metadata": {
    "ExecuteTime": {
     "start_time": "2023-04-02T18:51:59.132282Z",
     "end_time": "2023-04-02T18:51:59.189568Z"
    }
   },
   "outputs": [
    {
     "data": {
      "text/plain": "array([[0, 1, 2, 3, 4]])"
     },
     "execution_count": 654,
     "metadata": {},
     "output_type": "execute_result"
    }
   ],
   "source": [
    "a = np.arange(5).reshape(1, -1)\n",
    "a"
   ]
  },
  {
   "cell_type": "code",
   "execution_count": 655,
   "id": "2428fa60",
   "metadata": {
    "ExecuteTime": {
     "start_time": "2023-04-02T18:51:59.586726Z",
     "end_time": "2023-04-02T18:52:00.075341Z"
    }
   },
   "outputs": [
    {
     "data": {
      "text/plain": "array([[0],\n       [1],\n       [2],\n       [3],\n       [4]])"
     },
     "execution_count": 655,
     "metadata": {},
     "output_type": "execute_result"
    }
   ],
   "source": [
    "b = a.reshape(-1, 1)\n",
    "b"
   ]
  },
  {
   "cell_type": "code",
   "execution_count": 656,
   "id": "ad199431",
   "metadata": {
    "ExecuteTime": {
     "start_time": "2023-04-02T18:51:59.623598Z",
     "end_time": "2023-04-02T18:52:00.376185Z"
    }
   },
   "outputs": [
    {
     "name": "stdout",
     "output_type": "stream",
     "text": [
      "a.shape = (1, 5)\n",
      "b.shape = (5, 1)\n"
     ]
    }
   ],
   "source": [
    "print(\"a.shape =\", a.shape)\n",
    "print(\"b.shape =\", b.shape)"
   ]
  },
  {
   "cell_type": "code",
   "execution_count": 657,
   "id": "347d1ed0",
   "metadata": {
    "ExecuteTime": {
     "start_time": "2023-04-02T18:51:59.661832Z",
     "end_time": "2023-04-02T18:52:00.645451Z"
    }
   },
   "outputs": [
    {
     "data": {
      "text/plain": "array([[0, 1, 2, 3, 4],\n       [1, 2, 3, 4, 5],\n       [2, 3, 4, 5, 6],\n       [3, 4, 5, 6, 7],\n       [4, 5, 6, 7, 8]])"
     },
     "execution_count": 657,
     "metadata": {},
     "output_type": "execute_result"
    }
   ],
   "source": [
    "a+b"
   ]
  },
  {
   "cell_type": "code",
   "execution_count": 658,
   "id": "27592917",
   "metadata": {
    "ExecuteTime": {
     "start_time": "2023-04-02T18:51:59.704260Z",
     "end_time": "2023-04-02T18:52:00.646376Z"
    }
   },
   "outputs": [
    {
     "data": {
      "text/plain": "array([[ True,  True,  True,  True,  True],\n       [False,  True,  True,  True,  True],\n       [False, False,  True,  True,  True],\n       [False, False, False,  True,  True],\n       [False, False, False, False,  True]])"
     },
     "execution_count": 658,
     "metadata": {},
     "output_type": "execute_result"
    }
   ],
   "source": [
    "a>=b"
   ]
  },
  {
   "cell_type": "code",
   "execution_count": 658,
   "id": "40dc0ca7",
   "metadata": {
    "ExecuteTime": {
     "start_time": "2023-04-02T18:51:59.724120Z",
     "end_time": "2023-04-02T18:52:01.283156Z"
    }
   },
   "outputs": [],
   "source": []
  },
  {
   "cell_type": "code",
   "execution_count": 659,
   "id": "ec22b96f",
   "metadata": {
    "ExecuteTime": {
     "start_time": "2023-04-02T18:51:59.799092Z",
     "end_time": "2023-04-02T18:52:01.322442Z"
    }
   },
   "outputs": [
    {
     "data": {
      "text/plain": "array([[ 0,  1,  2,  3,  4],\n       [ 5,  6,  7,  8,  9],\n       [10, 11, 12, 13, 14],\n       [15, 16, 17, 18, 19]])"
     },
     "execution_count": 659,
     "metadata": {},
     "output_type": "execute_result"
    }
   ],
   "source": [
    "a = np.arange(20).reshape(4, -1)\n",
    "a"
   ]
  },
  {
   "cell_type": "code",
   "execution_count": 660,
   "id": "0b96e87b",
   "metadata": {
    "ExecuteTime": {
     "start_time": "2023-04-02T18:51:59.840290Z",
     "end_time": "2023-04-02T18:52:01.323997Z"
    }
   },
   "outputs": [
    {
     "data": {
      "text/plain": "array([[-1,  1,  1,  1,  1],\n       [ 1, -1, -1,  0,  0],\n       [ 0,  1,  0,  1, -1],\n       [-1,  0, -1, -1,  0]])"
     },
     "execution_count": 660,
     "metadata": {},
     "output_type": "execute_result"
    }
   ],
   "source": [
    "np.random.seed(1987)\n",
    "\n",
    "b = np.random.randint(-1, 2, size=(4, 5))\n",
    "b"
   ]
  },
  {
   "cell_type": "code",
   "execution_count": 661,
   "id": "23e0b33e",
   "metadata": {
    "ExecuteTime": {
     "start_time": "2023-04-02T18:51:59.842587Z",
     "end_time": "2023-04-02T18:52:01.393250Z"
    }
   },
   "outputs": [
    {
     "data": {
      "text/plain": "array([[  0,   1,   2,   3,   4],\n       [  5,  -6,  -7,   0,   0],\n       [  0,  11,   0,  13, -14],\n       [-15,   0, -17, -18,   0]])"
     },
     "execution_count": 661,
     "metadata": {},
     "output_type": "execute_result"
    }
   ],
   "source": [
    "a*b"
   ]
  },
  {
   "cell_type": "code",
   "execution_count": 662,
   "id": "78f8952b",
   "metadata": {
    "ExecuteTime": {
     "start_time": "2023-04-02T18:51:59.896585Z",
     "end_time": "2023-04-02T18:52:01.426334Z"
    }
   },
   "outputs": [
    {
     "data": {
      "text/plain": "array([[ 0,  1,  2,  3,  4],\n       [ 5,  6,  7,  8,  9],\n       [10, 11, 12, 13, 14],\n       [15, 16, 17, 18, 19]])"
     },
     "execution_count": 662,
     "metadata": {},
     "output_type": "execute_result"
    }
   ],
   "source": [
    "a"
   ]
  },
  {
   "cell_type": "code",
   "execution_count": 663,
   "id": "c58b446f",
   "metadata": {
    "ExecuteTime": {
     "start_time": "2023-04-02T18:51:59.920769Z",
     "end_time": "2023-04-02T18:52:01.447832Z"
    }
   },
   "outputs": [
    {
     "data": {
      "text/plain": "array([[-1],\n       [ 1],\n       [ 1],\n       [ 0]])"
     },
     "execution_count": 663,
     "metadata": {},
     "output_type": "execute_result"
    }
   ],
   "source": [
    "np.random.seed(7892)\n",
    "\n",
    "b = np.random.randint(-1, 2, size=(4, 1))\n",
    "b"
   ]
  },
  {
   "cell_type": "code",
   "execution_count": 664,
   "id": "932aad37",
   "metadata": {
    "ExecuteTime": {
     "start_time": "2023-04-02T18:51:59.960131Z",
     "end_time": "2023-04-02T18:52:01.487217Z"
    }
   },
   "outputs": [
    {
     "name": "stdout",
     "output_type": "stream",
     "text": [
      "a.shape = (4, 5)\n",
      "b.shape = (4, 1)\n"
     ]
    }
   ],
   "source": [
    "print(\"a.shape =\", a.shape)\n",
    "print(\"b.shape =\", b.shape)"
   ]
  },
  {
   "cell_type": "code",
   "execution_count": 665,
   "id": "0d4e82f2",
   "metadata": {
    "ExecuteTime": {
     "start_time": "2023-04-02T18:51:59.990597Z",
     "end_time": "2023-04-02T18:52:01.510261Z"
    }
   },
   "outputs": [
    {
     "data": {
      "text/plain": "array([[ 0, -1, -2, -3, -4],\n       [ 5,  6,  7,  8,  9],\n       [10, 11, 12, 13, 14],\n       [ 0,  0,  0,  0,  0]])"
     },
     "execution_count": 665,
     "metadata": {},
     "output_type": "execute_result"
    }
   ],
   "source": [
    "a*b # здесь столбец b повторился 5 раз, чтобы получить ту же размерность"
   ]
  },
  {
   "cell_type": "code",
   "execution_count": 666,
   "id": "68dd1ea3",
   "metadata": {
    "ExecuteTime": {
     "start_time": "2023-04-02T18:52:00.014923Z",
     "end_time": "2023-04-02T18:52:01.537863Z"
    }
   },
   "outputs": [
    {
     "data": {
      "text/plain": "array([[-1, -1, -1, -1, -1],\n       [ 1,  1,  1,  1,  1],\n       [ 1,  1,  1,  1,  1],\n       [ 0,  0,  0,  0,  0]])"
     },
     "execution_count": 666,
     "metadata": {},
     "output_type": "execute_result"
    }
   ],
   "source": [
    "c = np.repeat(b, a.shape[1], axis=1)\n",
    "c"
   ]
  },
  {
   "cell_type": "code",
   "execution_count": 667,
   "id": "21caa560",
   "metadata": {
    "ExecuteTime": {
     "start_time": "2023-04-02T18:52:00.039218Z",
     "end_time": "2023-04-02T18:52:01.582466Z"
    }
   },
   "outputs": [
    {
     "name": "stdout",
     "output_type": "stream",
     "text": [
      "a.shape = (4, 5)\n",
      "c.shape = (4, 5)\n"
     ]
    }
   ],
   "source": [
    "print(\"a.shape =\", a.shape)\n",
    "print(\"c.shape =\", c.shape)"
   ]
  },
  {
   "cell_type": "code",
   "execution_count": 668,
   "id": "1484dc72",
   "metadata": {
    "ExecuteTime": {
     "start_time": "2023-04-02T18:52:00.080238Z",
     "end_time": "2023-04-02T18:52:01.582710Z"
    }
   },
   "outputs": [
    {
     "data": {
      "text/plain": "array([[ 0, -1, -2, -3, -4],\n       [ 5,  6,  7,  8,  9],\n       [10, 11, 12, 13, 14],\n       [ 0,  0,  0,  0,  0]])"
     },
     "execution_count": 668,
     "metadata": {},
     "output_type": "execute_result"
    }
   ],
   "source": [
    "a*c # результат тот же"
   ]
  },
  {
   "cell_type": "code",
   "execution_count": 669,
   "id": "e818f7aa",
   "metadata": {
    "ExecuteTime": {
     "start_time": "2023-04-02T18:52:00.092965Z",
     "end_time": "2023-04-02T18:52:01.634332Z"
    }
   },
   "outputs": [
    {
     "data": {
      "text/plain": "array([[ 0,  1,  2,  3,  4],\n       [ 5,  6,  7,  8,  9],\n       [10, 11, 12, 13, 14],\n       [15, 16, 17, 18, 19]])"
     },
     "execution_count": 669,
     "metadata": {},
     "output_type": "execute_result"
    }
   ],
   "source": [
    "a = np.arange(20).reshape(-1, 5)\n",
    "a"
   ]
  },
  {
   "cell_type": "code",
   "execution_count": 670,
   "id": "18cdffcb",
   "metadata": {
    "ExecuteTime": {
     "start_time": "2023-04-02T18:52:00.137986Z",
     "end_time": "2023-04-02T18:52:01.682349Z"
    }
   },
   "outputs": [
    {
     "data": {
      "text/plain": "array([0, 0, 1, 1, 0])"
     },
     "execution_count": 670,
     "metadata": {},
     "output_type": "execute_result"
    }
   ],
   "source": [
    "np.random.seed(6579)\n",
    "\n",
    "b = np.random.randint(0, 2, size=5)\n",
    "b"
   ]
  },
  {
   "cell_type": "code",
   "execution_count": 671,
   "id": "ff4ba2d2",
   "metadata": {
    "ExecuteTime": {
     "start_time": "2023-04-02T18:52:00.177169Z",
     "end_time": "2023-04-02T18:52:01.730167Z"
    }
   },
   "outputs": [
    {
     "name": "stdout",
     "output_type": "stream",
     "text": [
      "a.shape = (4, 5)\n",
      "b.shape = (5,)\n"
     ]
    }
   ],
   "source": [
    "print(\"a.shape =\", a.shape)\n",
    "print(\"b.shape =\", b.shape)"
   ]
  },
  {
   "cell_type": "code",
   "execution_count": 672,
   "id": "ea7537c2",
   "metadata": {
    "ExecuteTime": {
     "start_time": "2023-04-02T18:52:00.201668Z",
     "end_time": "2023-04-02T18:52:01.759643Z"
    }
   },
   "outputs": [
    {
     "data": {
      "text/plain": "array([[ 0,  0,  2,  3,  0],\n       [ 0,  0,  7,  8,  0],\n       [ 0,  0, 12, 13,  0],\n       [ 0,  0, 17, 18,  0]])"
     },
     "execution_count": 672,
     "metadata": {},
     "output_type": "execute_result"
    }
   ],
   "source": [
    "a*b"
   ]
  },
  {
   "cell_type": "code",
   "execution_count": 673,
   "id": "7953759c",
   "metadata": {
    "ExecuteTime": {
     "start_time": "2023-04-02T18:52:00.242752Z",
     "end_time": "2023-04-02T18:52:01.788414Z"
    }
   },
   "outputs": [
    {
     "data": {
      "text/plain": "array([[0, 0, 1, 1, 0]])"
     },
     "execution_count": 673,
     "metadata": {},
     "output_type": "execute_result"
    }
   ],
   "source": [
    "c = b[np.newaxis, :]\n",
    "c"
   ]
  },
  {
   "cell_type": "code",
   "execution_count": 674,
   "id": "5470f235",
   "metadata": {
    "ExecuteTime": {
     "start_time": "2023-04-02T18:52:00.273002Z",
     "end_time": "2023-04-02T18:52:01.826692Z"
    }
   },
   "outputs": [
    {
     "name": "stdout",
     "output_type": "stream",
     "text": [
      "a.shape = (4, 5)\n",
      "c.shape = (1, 5)\n"
     ]
    }
   ],
   "source": [
    "print(\"a.shape =\", a.shape)\n",
    "print(\"c.shape =\", c.shape)"
   ]
  },
  {
   "cell_type": "code",
   "execution_count": 675,
   "id": "da79c976",
   "metadata": {
    "ExecuteTime": {
     "start_time": "2023-04-02T18:52:00.306316Z",
     "end_time": "2023-04-02T18:52:01.848419Z"
    }
   },
   "outputs": [
    {
     "data": {
      "text/plain": "array([[ 0,  0,  2,  3,  0],\n       [ 0,  0,  7,  8,  0],\n       [ 0,  0, 12, 13,  0],\n       [ 0,  0, 17, 18,  0]])"
     },
     "execution_count": 675,
     "metadata": {},
     "output_type": "execute_result"
    }
   ],
   "source": [
    "c*a"
   ]
  },
  {
   "cell_type": "code",
   "execution_count": 675,
   "id": "f2444b67",
   "metadata": {
    "ExecuteTime": {
     "start_time": "2023-04-02T18:52:00.330174Z",
     "end_time": "2023-04-02T18:52:01.887334Z"
    }
   },
   "outputs": [],
   "source": []
  },
  {
   "cell_type": "code",
   "execution_count": 676,
   "id": "e1358637",
   "metadata": {
    "ExecuteTime": {
     "start_time": "2023-04-02T18:52:00.353701Z",
     "end_time": "2023-04-02T18:52:01.970457Z"
    }
   },
   "outputs": [],
   "source": [
    "# МАТРИЧНЫЕ ОПЕРАЦИИ НАД МАССИВАМИ"
   ]
  },
  {
   "cell_type": "code",
   "execution_count": 677,
   "id": "9096c888",
   "metadata": {
    "ExecuteTime": {
     "start_time": "2023-04-02T18:52:00.389366Z",
     "end_time": "2023-04-02T18:52:01.998318Z"
    }
   },
   "outputs": [
    {
     "data": {
      "text/plain": "array([[1, 2],\n       [3, 4]])"
     },
     "execution_count": 677,
     "metadata": {},
     "output_type": "execute_result"
    }
   ],
   "source": [
    "av = np.arange(1, 5).reshape(-1, 2)\n",
    "av"
   ]
  },
  {
   "cell_type": "code",
   "execution_count": 678,
   "id": "9d5184e5",
   "metadata": {
    "ExecuteTime": {
     "start_time": "2023-04-02T18:52:00.423130Z",
     "end_time": "2023-04-02T18:52:02.036016Z"
    }
   },
   "outputs": [
    {
     "data": {
      "text/plain": "array([[ 1,  2],\n       [-2,  1]])"
     },
     "execution_count": 678,
     "metadata": {},
     "output_type": "execute_result"
    }
   ],
   "source": [
    "bv = np.array([[1, 2], [-2, 1]])\n",
    "bv"
   ]
  },
  {
   "cell_type": "code",
   "execution_count": 679,
   "id": "4b6024d8",
   "metadata": {
    "ExecuteTime": {
     "start_time": "2023-04-02T18:52:00.446467Z",
     "end_time": "2023-04-02T18:52:02.057490Z"
    }
   },
   "outputs": [
    {
     "data": {
      "text/plain": "array([[ 1,  4],\n       [-6,  4]])"
     },
     "execution_count": 679,
     "metadata": {},
     "output_type": "execute_result"
    }
   ],
   "source": [
    "av*bv # поэлементное умножение"
   ]
  },
  {
   "cell_type": "code",
   "execution_count": 680,
   "id": "d809ac4c",
   "metadata": {
    "ExecuteTime": {
     "start_time": "2023-04-02T18:52:00.475906Z",
     "end_time": "2023-04-02T18:52:02.134442Z"
    }
   },
   "outputs": [
    {
     "data": {
      "text/plain": "array([[-3,  4],\n       [-5, 10]])"
     },
     "execution_count": 680,
     "metadata": {},
     "output_type": "execute_result"
    }
   ],
   "source": [
    "np.matmul(av, bv) # умножение матриц"
   ]
  },
  {
   "cell_type": "code",
   "execution_count": 681,
   "id": "65c5528e",
   "metadata": {
    "ExecuteTime": {
     "start_time": "2023-04-02T18:52:00.500540Z",
     "end_time": "2023-04-02T18:52:02.191621Z"
    }
   },
   "outputs": [
    {
     "data": {
      "text/plain": "array([[-3,  4],\n       [-5, 10]])"
     },
     "execution_count": 681,
     "metadata": {},
     "output_type": "execute_result"
    }
   ],
   "source": [
    "np.dot(av, bv) # скалярное умножение векторов"
   ]
  },
  {
   "cell_type": "code",
   "execution_count": 682,
   "id": "4c929993",
   "metadata": {
    "ExecuteTime": {
     "start_time": "2023-04-02T18:52:00.535788Z",
     "end_time": "2023-04-02T18:52:02.261418Z"
    }
   },
   "outputs": [
    {
     "data": {
      "text/plain": "(matrix([[1, 2],\n         [3, 4]]),\n matrix([[ 1,  2],\n         [-2,  1]]))"
     },
     "execution_count": 682,
     "metadata": {},
     "output_type": "execute_result"
    }
   ],
   "source": [
    "# без копирования\n",
    "\n",
    "am = np.asmatrix(av)\n",
    "bm = np.asmatrix(bv)\n",
    "\n",
    "am, bm"
   ]
  },
  {
   "cell_type": "code",
   "execution_count": 683,
   "id": "87636fd2",
   "metadata": {
    "ExecuteTime": {
     "start_time": "2023-04-02T18:52:00.565722Z",
     "end_time": "2023-04-02T18:52:02.286799Z"
    }
   },
   "outputs": [
    {
     "data": {
      "text/plain": "matrix([[-3,  4],\n        [-5, 10]])"
     },
     "execution_count": 683,
     "metadata": {},
     "output_type": "execute_result"
    }
   ],
   "source": [
    "am * bm # матричное умножение"
   ]
  },
  {
   "cell_type": "code",
   "execution_count": 684,
   "id": "ad3f4656",
   "metadata": {
    "ExecuteTime": {
     "start_time": "2023-04-02T18:52:00.589122Z",
     "end_time": "2023-04-02T18:52:02.315976Z"
    }
   },
   "outputs": [
    {
     "data": {
      "text/plain": "array([[ 1,  4],\n       [ 9, 16]])"
     },
     "execution_count": 684,
     "metadata": {},
     "output_type": "execute_result"
    }
   ],
   "source": [
    "av**2 # поэлементное возведение в степень"
   ]
  },
  {
   "cell_type": "code",
   "execution_count": 685,
   "id": "d1e37fa3",
   "metadata": {
    "ExecuteTime": {
     "start_time": "2023-04-02T18:52:00.613072Z",
     "end_time": "2023-04-02T18:52:02.344583Z"
    }
   },
   "outputs": [
    {
     "data": {
      "text/plain": "matrix([[ 7, 10],\n        [15, 22]])"
     },
     "execution_count": 685,
     "metadata": {},
     "output_type": "execute_result"
    }
   ],
   "source": [
    "am**2 # матричное возведение в степень"
   ]
  },
  {
   "cell_type": "code",
   "execution_count": 685,
   "id": "44b2c446",
   "metadata": {
    "ExecuteTime": {
     "start_time": "2023-04-02T18:52:00.656211Z",
     "end_time": "2023-04-02T18:52:02.344705Z"
    }
   },
   "outputs": [],
   "source": []
  },
  {
   "cell_type": "code",
   "execution_count": 686,
   "id": "6f51573b",
   "metadata": {
    "ExecuteTime": {
     "start_time": "2023-04-02T18:52:00.661794Z",
     "end_time": "2023-04-02T18:52:02.443995Z"
    }
   },
   "outputs": [],
   "source": [
    "# ИНДЕКСАЦИЯ В ОДНОМЕРНЫХ МАССИВАХ"
   ]
  },
  {
   "cell_type": "code",
   "execution_count": 687,
   "id": "5ec619ef",
   "metadata": {
    "ExecuteTime": {
     "start_time": "2023-04-02T18:52:00.707123Z",
     "end_time": "2023-04-02T18:52:02.480757Z"
    }
   },
   "outputs": [
    {
     "data": {
      "text/plain": "array([ 0,  1,  2,  3,  4,  5,  6,  7,  8,  9, 10, 11, 12, 13, 14])"
     },
     "execution_count": 687,
     "metadata": {},
     "output_type": "execute_result"
    }
   ],
   "source": [
    "a = np.arange(15)\n",
    "a"
   ]
  },
  {
   "cell_type": "code",
   "execution_count": 688,
   "id": "5893208b",
   "metadata": {
    "ExecuteTime": {
     "start_time": "2023-04-02T18:52:00.748258Z",
     "end_time": "2023-04-02T18:52:02.480922Z"
    }
   },
   "outputs": [
    {
     "data": {
      "text/plain": "(0, 5, 14)"
     },
     "execution_count": 688,
     "metadata": {},
     "output_type": "execute_result"
    }
   ],
   "source": [
    "a[0], a[5], a[len(a)-1]"
   ]
  },
  {
   "cell_type": "code",
   "execution_count": 689,
   "id": "4894208e",
   "metadata": {
    "ExecuteTime": {
     "start_time": "2023-04-02T18:52:00.770172Z",
     "end_time": "2023-04-02T18:52:02.547407Z"
    }
   },
   "outputs": [
    {
     "data": {
      "text/plain": "(14, 14)"
     },
     "execution_count": 689,
     "metadata": {},
     "output_type": "execute_result"
    }
   ],
   "source": [
    "a[len(a)-1], a[-1]"
   ]
  },
  {
   "cell_type": "code",
   "execution_count": 690,
   "id": "2cb187ac",
   "metadata": {
    "ExecuteTime": {
     "start_time": "2023-04-02T18:52:00.814844Z",
     "end_time": "2023-04-02T18:52:02.621683Z"
    }
   },
   "outputs": [
    {
     "data": {
      "text/plain": "(10, 10)"
     },
     "execution_count": 690,
     "metadata": {},
     "output_type": "execute_result"
    }
   ],
   "source": [
    "a[len(a)-5], a[-5]"
   ]
  },
  {
   "cell_type": "code",
   "execution_count": 691,
   "id": "68184796",
   "metadata": {
    "ExecuteTime": {
     "start_time": "2023-04-02T18:52:00.838586Z",
     "end_time": "2023-04-02T18:52:02.658021Z"
    }
   },
   "outputs": [
    {
     "name": "stdout",
     "output_type": "stream",
     "text": [
      "array([0, 1, 2, 3, 4])\n",
      "array([0, 1, 2, 3, 4])\n",
      "array([0, 1, 2, 3, 4])\n"
     ]
    }
   ],
   "source": [
    "variants = [a[0:5:1], a[0:5], a[:5]]\n",
    "print(*map(repr, variants), sep='\\n')"
   ]
  },
  {
   "cell_type": "code",
   "execution_count": 692,
   "id": "5ba03d13",
   "metadata": {
    "ExecuteTime": {
     "start_time": "2023-04-02T18:52:00.880234Z",
     "end_time": "2023-04-02T18:52:02.658502Z"
    }
   },
   "outputs": [
    {
     "name": "stdout",
     "output_type": "stream",
     "text": [
      "array([ 0,  2,  4,  6,  8, 10, 12, 14])\n",
      "array([ 0,  2,  4,  6,  8, 10, 12, 14])\n",
      "array([ 0,  2,  4,  6,  8, 10, 12, 14])\n"
     ]
    }
   ],
   "source": [
    "variants = [a[0:len(a):2], a[0::2], a[::2]]\n",
    "print(*map(repr, variants), sep='\\n')"
   ]
  },
  {
   "cell_type": "code",
   "execution_count": 693,
   "id": "0f0ab7da",
   "metadata": {
    "ExecuteTime": {
     "start_time": "2023-04-02T18:52:00.884756Z",
     "end_time": "2023-04-02T18:52:02.773970Z"
    }
   },
   "outputs": [
    {
     "name": "stdout",
     "output_type": "stream",
     "text": [
      "array([ 1,  3,  5,  7,  9, 11, 13])\n",
      "array([ 1,  3,  5,  7,  9, 11, 13])\n"
     ]
    }
   ],
   "source": [
    "variants = [a[1:len(a):2], a[1::2]]\n",
    "print(*map(repr, variants), sep='\\n')"
   ]
  },
  {
   "cell_type": "code",
   "execution_count": 694,
   "id": "b7341c7b",
   "metadata": {
    "ExecuteTime": {
     "start_time": "2023-04-02T18:52:00.929848Z",
     "end_time": "2023-04-02T18:52:02.796907Z"
    }
   },
   "outputs": [
    {
     "name": "stdout",
     "output_type": "stream",
     "text": [
      "array([3, 6, 9])\n",
      "array([3, 6, 9])\n"
     ]
    }
   ],
   "source": [
    "variants = [a[3:12:3], a[3:-3:3]]\n",
    "print(*map(repr, variants), sep='\\n')"
   ]
  },
  {
   "cell_type": "code",
   "execution_count": 695,
   "id": "dbfdbb49",
   "metadata": {
    "ExecuteTime": {
     "start_time": "2023-04-02T18:52:00.953492Z",
     "end_time": "2023-04-02T18:52:02.824851Z"
    }
   },
   "outputs": [
    {
     "name": "stdout",
     "output_type": "stream",
     "text": [
      "array([12,  9,  6,  3])\n",
      "array([12,  9,  6,  3])\n",
      "array([12,  9,  6,  3])\n"
     ]
    }
   ],
   "source": [
    "variants = [a[3:13:3][::-1], a[12:2:-3], a[-3:2:-3]]\n",
    "print(*map(repr, variants), sep='\\n')"
   ]
  },
  {
   "cell_type": "code",
   "execution_count": 695,
   "id": "e637cf36",
   "metadata": {
    "ExecuteTime": {
     "start_time": "2023-04-02T18:52:00.996238Z",
     "end_time": "2023-04-02T18:52:02.825130Z"
    }
   },
   "outputs": [],
   "source": []
  },
  {
   "cell_type": "code",
   "execution_count": 696,
   "id": "7739fb15",
   "metadata": {
    "ExecuteTime": {
     "start_time": "2023-04-02T18:52:01.048274Z",
     "end_time": "2023-04-02T18:52:02.853510Z"
    }
   },
   "outputs": [],
   "source": [
    "# БУЛЕВА ИНДЕКСАЦИЯ"
   ]
  },
  {
   "cell_type": "code",
   "execution_count": 697,
   "id": "ca7cc27c",
   "metadata": {
    "ExecuteTime": {
     "start_time": "2023-04-02T18:52:01.072722Z",
     "end_time": "2023-04-02T18:52:03.318256Z"
    }
   },
   "outputs": [
    {
     "data": {
      "text/plain": "array([ 1,  4,  3,  2,  6, -1,  5,  4,  6, -2,  3, -2,  4,  0, -2,  3,  0,\n        4,  1,  5, -2, -2,  1,  0,  1, -1,  1, -1,  1,  5, -1,  5,  2, -2])"
     },
     "execution_count": 697,
     "metadata": {},
     "output_type": "execute_result"
    }
   ],
   "source": [
    "np.random.seed(1234)\n",
    "\n",
    "a = np.random.randint(-2, 7, 34)\n",
    "a"
   ]
  },
  {
   "cell_type": "code",
   "execution_count": 698,
   "id": "0a6ec44a",
   "metadata": {
    "ExecuteTime": {
     "start_time": "2023-04-02T18:52:01.130414Z",
     "end_time": "2023-04-02T18:52:03.354336Z"
    }
   },
   "outputs": [
    {
     "data": {
      "text/plain": "array([False, False, False, False, False,  True, False, False, False,\n        True, False,  True, False, False,  True, False, False, False,\n       False, False,  True,  True, False, False, False,  True, False,\n        True, False, False,  True, False, False,  True])"
     },
     "execution_count": 698,
     "metadata": {},
     "output_type": "execute_result"
    }
   ],
   "source": [
    "a<0"
   ]
  },
  {
   "cell_type": "code",
   "execution_count": 699,
   "id": "41143210",
   "metadata": {
    "ExecuteTime": {
     "start_time": "2023-04-02T18:52:01.172251Z",
     "end_time": "2023-04-02T18:52:03.354548Z"
    }
   },
   "outputs": [
    {
     "data": {
      "text/plain": "array([-1, -2, -2, -2, -2, -2, -1, -1, -1, -2])"
     },
     "execution_count": 699,
     "metadata": {},
     "output_type": "execute_result"
    }
   ],
   "source": [
    "a[a<0]"
   ]
  },
  {
   "cell_type": "code",
   "execution_count": 700,
   "id": "7dab4ea8",
   "metadata": {
    "ExecuteTime": {
     "start_time": "2023-04-02T18:52:01.210806Z",
     "end_time": "2023-04-02T18:52:03.417993Z"
    }
   },
   "outputs": [
    {
     "name": "stdout",
     "output_type": "stream",
     "text": [
      "array([3, 6, 6, 3, 0, 3, 0, 0])\n",
      "array([3, 6, 6, 3, 0, 3, 0, 0])\n",
      "array([3, 6, 6, 3, 0, 3, 0, 0])\n"
     ]
    }
   ],
   "source": [
    "variants = [a[a%3==0], a[np.logical_not(a%3)], a[~((a%3).astype(bool))]]\n",
    "print(*map(repr, variants), sep='\\n')"
   ]
  },
  {
   "cell_type": "code",
   "execution_count": 701,
   "id": "c1cd60d8",
   "metadata": {
    "ExecuteTime": {
     "start_time": "2023-04-02T18:52:01.915996Z",
     "end_time": "2023-04-02T18:52:03.473610Z"
    }
   },
   "outputs": [
    {
     "data": {
      "text/plain": "array([3, 6, 5, 4, 8, 1, 7, 6, 8, 0, 5, 0, 6, 2, 0, 5, 2, 6, 3, 7, 0, 0,\n       3])"
     },
     "execution_count": 701,
     "metadata": {},
     "output_type": "execute_result"
    }
   ],
   "source": [
    "np.random.seed(1234)\n",
    "\n",
    "a = np.random.randint(0, 9, 23)\n",
    "a"
   ]
  },
  {
   "cell_type": "code",
   "execution_count": 702,
   "id": "a898f602",
   "metadata": {
    "ExecuteTime": {
     "start_time": "2023-04-02T18:52:02.097261Z",
     "end_time": "2023-04-02T18:52:03.497239Z"
    }
   },
   "outputs": [
    {
     "name": "stdout",
     "output_type": "stream",
     "text": [
      "array([3, 6, 5, 6, 0, 5, 0, 6, 0, 5, 6, 3, 0, 0, 3])\n",
      "array([3, 6, 5, 6, 0, 5, 0, 6, 0, 5, 6, 3, 0, 0, 3])\n"
     ]
    }
   ],
   "source": [
    "mask3 = a % 3 == 0\n",
    "mask5 = a % 5 == 0\n",
    "\n",
    "variants = [a[np.logical_or(mask3, mask5)], a[mask3 | mask5]]\n",
    "print(*map(repr, variants), sep='\\n')"
   ]
  },
  {
   "cell_type": "code",
   "execution_count": 703,
   "id": "cc05cb7e",
   "metadata": {
    "ExecuteTime": {
     "start_time": "2023-04-02T18:52:02.209620Z",
     "end_time": "2023-04-02T18:52:03.532475Z"
    }
   },
   "outputs": [
    {
     "name": "stdout",
     "output_type": "stream",
     "text": [
      "array([6, 6, 0, 0, 6, 0, 6, 0, 0])\n",
      "array([6, 6, 0, 0, 6, 0, 6, 0, 0])\n",
      "array([6, 6, 0, 0, 6, 0, 6, 0, 0])\n"
     ]
    }
   ],
   "source": [
    "mask2 = a % 2 == 0\n",
    "mask3 = a % 3 == 0\n",
    "\n",
    "variants = [a[np.logical_and(mask2, mask3)], a[mask2 & mask3], a[a % 6 == 0]]\n",
    "print(*map(repr, variants), sep='\\n')"
   ]
  },
  {
   "cell_type": "code",
   "execution_count": 703,
   "id": "b81fb651",
   "metadata": {
    "ExecuteTime": {
     "start_time": "2023-04-02T18:52:02.424344Z",
     "end_time": "2023-04-02T18:52:03.631751Z"
    }
   },
   "outputs": [],
   "source": []
  },
  {
   "cell_type": "code",
   "execution_count": 704,
   "id": "357967d8",
   "metadata": {
    "ExecuteTime": {
     "start_time": "2023-04-02T18:52:02.570144Z",
     "end_time": "2023-04-02T18:52:03.691255Z"
    }
   },
   "outputs": [],
   "source": [
    "# ИНДЕКСАЦИЯ В МНОГОМЕРНЫХ МАССИВАХ"
   ]
  },
  {
   "cell_type": "code",
   "execution_count": 705,
   "id": "ee6e9166",
   "metadata": {
    "ExecuteTime": {
     "start_time": "2023-04-02T18:52:02.724617Z",
     "end_time": "2023-04-02T18:52:03.765138Z"
    }
   },
   "outputs": [
    {
     "data": {
      "text/plain": "array([[ 0,  1,  2,  3,  4,  5],\n       [ 6,  7,  8,  9, 10, 11],\n       [12, 13, 14, 15, 16, 17],\n       [18, 19, 20, 21, 22, 23],\n       [24, 25, 26, 27, 28, 29]])"
     },
     "execution_count": 705,
     "metadata": {},
     "output_type": "execute_result"
    }
   ],
   "source": [
    "a = np.arange(30).reshape(5, -1)\n",
    "a"
   ]
  },
  {
   "cell_type": "code",
   "execution_count": 706,
   "id": "f549ed5b",
   "metadata": {
    "ExecuteTime": {
     "start_time": "2023-04-02T18:52:03.014959Z",
     "end_time": "2023-04-02T18:52:03.791522Z"
    }
   },
   "outputs": [
    {
     "data": {
      "text/plain": "(0, 2, 7, 28)"
     },
     "execution_count": 706,
     "metadata": {},
     "output_type": "execute_result"
    }
   ],
   "source": [
    "# не рекомендуется\n",
    "\n",
    "a[0][0], a[0][2], a[1][1], a[-1][-2]"
   ]
  },
  {
   "cell_type": "code",
   "execution_count": 707,
   "id": "dfcf7b3a",
   "metadata": {
    "ExecuteTime": {
     "start_time": "2023-04-02T18:52:03.157251Z",
     "end_time": "2023-04-02T18:52:03.975396Z"
    }
   },
   "outputs": [
    {
     "data": {
      "text/plain": "(0, 2, 7, 28)"
     },
     "execution_count": 707,
     "metadata": {},
     "output_type": "execute_result"
    }
   ],
   "source": [
    "# рекомендуется\n",
    "\n",
    "a[0,0], a[0,2], a[1,1], a[-1,-2]"
   ]
  },
  {
   "cell_type": "code",
   "execution_count": 708,
   "id": "68b59383",
   "metadata": {
    "ExecuteTime": {
     "start_time": "2023-04-02T18:52:03.247493Z",
     "end_time": "2023-04-02T18:52:04.010502Z"
    }
   },
   "outputs": [
    {
     "name": "stdout",
     "output_type": "stream",
     "text": [
      "array([12, 13, 14, 15, 16, 17])\n",
      "array([12, 13, 14, 15, 16, 17])\n"
     ]
    }
   ],
   "source": [
    "variants = [a[2], a[2,:]]\n",
    "print(*map(repr, variants), sep='\\n')"
   ]
  },
  {
   "cell_type": "code",
   "execution_count": 709,
   "id": "6a87f928",
   "metadata": {
    "ExecuteTime": {
     "start_time": "2023-04-02T18:52:03.398113Z",
     "end_time": "2023-04-02T18:52:04.045489Z"
    }
   },
   "outputs": [
    {
     "data": {
      "text/plain": "array([ 3,  9, 15, 21, 27])"
     },
     "execution_count": 709,
     "metadata": {},
     "output_type": "execute_result"
    }
   ],
   "source": [
    "a[:,3]"
   ]
  },
  {
   "cell_type": "code",
   "execution_count": 710,
   "id": "ce926715",
   "metadata": {
    "ExecuteTime": {
     "start_time": "2023-04-02T18:52:03.572158Z",
     "end_time": "2023-04-02T18:52:04.142007Z"
    }
   },
   "outputs": [
    {
     "data": {
      "text/plain": "array([[ 0,  2,  4],\n       [ 6,  8, 10],\n       [12, 14, 16],\n       [18, 20, 22],\n       [24, 26, 28]])"
     },
     "execution_count": 710,
     "metadata": {},
     "output_type": "execute_result"
    }
   ],
   "source": [
    "a[:,::2]"
   ]
  },
  {
   "cell_type": "code",
   "execution_count": 711,
   "id": "1ebba2de",
   "metadata": {
    "ExecuteTime": {
     "start_time": "2023-04-02T18:52:03.730670Z",
     "end_time": "2023-04-02T18:52:04.205645Z"
    }
   },
   "outputs": [
    {
     "data": {
      "text/plain": "array([1, 3, 5])"
     },
     "execution_count": 711,
     "metadata": {},
     "output_type": "execute_result"
    }
   ],
   "source": [
    "a[0,1::2]"
   ]
  },
  {
   "cell_type": "code",
   "execution_count": 712,
   "id": "55e6c851",
   "metadata": {
    "ExecuteTime": {
     "start_time": "2023-04-02T18:52:03.927337Z",
     "end_time": "2023-04-02T18:52:04.245656Z"
    }
   },
   "outputs": [
    {
     "data": {
      "text/plain": "array([[20, 23],\n       [ 8, 11]])"
     },
     "execution_count": 712,
     "metadata": {},
     "output_type": "execute_result"
    }
   ],
   "source": [
    "# a[i,j]: i-нечет., j%3=2, индексация по строкам обратная\n",
    "\n",
    "a[1::2, 2::3][::-1]"
   ]
  },
  {
   "cell_type": "code",
   "execution_count": 713,
   "id": "b9094876",
   "metadata": {
    "ExecuteTime": {
     "start_time": "2023-04-02T18:52:04.091992Z",
     "end_time": "2023-04-02T18:52:04.382472Z"
    }
   },
   "outputs": [
    {
     "data": {
      "text/plain": "array([[ 3,  2, -1, -3,  4],\n       [ 3, -2, -2, -2, -5],\n       [ 3,  2, -1,  1,  1],\n       [ 2,  0,  4, -2,  0],\n       [ 0,  4,  1,  2,  4]])"
     },
     "execution_count": 713,
     "metadata": {},
     "output_type": "execute_result"
    }
   ],
   "source": [
    "np.random.seed(2238)\n",
    "\n",
    "a = np.random.randint(-5, 5, size=(5, 5))\n",
    "a"
   ]
  },
  {
   "cell_type": "code",
   "execution_count": 714,
   "id": "ad9ed053",
   "metadata": {
    "ExecuteTime": {
     "start_time": "2023-04-02T18:52:04.301281Z",
     "end_time": "2023-04-02T18:52:04.425721Z"
    }
   },
   "outputs": [
    {
     "data": {
      "text/plain": "array([[ 2,  0,  4, -2,  0],\n       [ 0,  4,  1,  2,  4]])"
     },
     "execution_count": 714,
     "metadata": {},
     "output_type": "execute_result"
    }
   ],
   "source": [
    "a[(a==0).any(axis=1)]"
   ]
  },
  {
   "cell_type": "code",
   "execution_count": 715,
   "id": "c6380aba",
   "metadata": {
    "ExecuteTime": {
     "start_time": "2023-04-02T18:52:04.740304Z",
     "end_time": "2023-04-02T18:52:05.063724Z"
    }
   },
   "outputs": [
    {
     "data": {
      "text/plain": "array([[ 3,  2,  4],\n       [ 3, -2, -5],\n       [ 3,  2,  1],\n       [ 2,  0,  0],\n       [ 0,  4,  4]])"
     },
     "execution_count": 715,
     "metadata": {},
     "output_type": "execute_result"
    }
   ],
   "source": [
    "a[:, (a>0).sum(axis=0) > (a<0).sum(axis=0)]"
   ]
  },
  {
   "cell_type": "code",
   "execution_count": 716,
   "id": "a264022f",
   "metadata": {
    "ExecuteTime": {
     "start_time": "2023-04-02T18:52:04.758283Z",
     "end_time": "2023-04-02T18:52:05.227649Z"
    }
   },
   "outputs": [
    {
     "data": {
      "text/plain": "array([3, 2, 4, 3, 3, 2, 1, 1, 2, 4, 4, 1, 2, 4])"
     },
     "execution_count": 716,
     "metadata": {},
     "output_type": "execute_result"
    }
   ],
   "source": [
    "a[a>0]"
   ]
  },
  {
   "cell_type": "code",
   "execution_count": 717,
   "id": "a9685ba3",
   "metadata": {
    "ExecuteTime": {
     "start_time": "2023-04-02T18:52:04.818933Z",
     "end_time": "2023-04-02T18:52:05.368709Z"
    }
   },
   "outputs": [
    {
     "data": {
      "text/plain": "(array([0, 0, 0, 1, 2, 2, 2, 2, 3, 3, 4, 4, 4, 4]),\n array([0, 1, 4, 0, 0, 1, 3, 4, 0, 2, 1, 2, 3, 4]))"
     },
     "execution_count": 717,
     "metadata": {},
     "output_type": "execute_result"
    }
   ],
   "source": [
    "np.where(a>0)"
   ]
  },
  {
   "cell_type": "code",
   "execution_count": 718,
   "id": "53903691",
   "metadata": {
    "ExecuteTime": {
     "start_time": "2023-04-02T18:52:04.899262Z",
     "end_time": "2023-04-02T18:52:05.454613Z"
    }
   },
   "outputs": [
    {
     "data": {
      "text/plain": "array([3, 2, 4, 3, 3, 2, 1, 1, 2, 4, 4, 1, 2, 4])"
     },
     "execution_count": 718,
     "metadata": {},
     "output_type": "execute_result"
    }
   ],
   "source": [
    "a[np.where(a>0)]"
   ]
  },
  {
   "cell_type": "code",
   "execution_count": 718,
   "id": "f1b27a98",
   "metadata": {
    "ExecuteTime": {
     "start_time": "2023-04-02T18:52:05.127195Z",
     "end_time": "2023-04-02T18:52:05.714545Z"
    }
   },
   "outputs": [],
   "source": []
  },
  {
   "cell_type": "code",
   "execution_count": 719,
   "id": "55fa1256",
   "metadata": {
    "ExecuteTime": {
     "start_time": "2023-04-02T18:52:05.346451Z",
     "end_time": "2023-04-02T18:52:05.905909Z"
    }
   },
   "outputs": [],
   "source": [
    "# FANCY INDEXING"
   ]
  },
  {
   "cell_type": "code",
   "execution_count": 720,
   "id": "612bfdaf",
   "metadata": {
    "ExecuteTime": {
     "start_time": "2023-04-02T18:52:08.544563Z",
     "end_time": "2023-04-02T18:52:08.593670Z"
    }
   },
   "outputs": [
    {
     "data": {
      "text/plain": "array([[ 3,  2, -1, -3,  4],\n       [ 3, -2, -2, -2, -5],\n       [ 3,  2, -1,  1,  1],\n       [ 2,  0,  4, -2,  0],\n       [ 0,  4,  1,  2,  4]])"
     },
     "execution_count": 720,
     "metadata": {},
     "output_type": "execute_result"
    }
   ],
   "source": [
    "a"
   ]
  },
  {
   "cell_type": "code",
   "execution_count": 721,
   "id": "698a3a09",
   "metadata": {
    "ExecuteTime": {
     "start_time": "2023-04-02T18:52:09.694226Z",
     "end_time": "2023-04-02T18:52:09.743200Z"
    }
   },
   "outputs": [
    {
     "data": {
      "text/plain": "array([[ 3,  2, -1,  1,  1],\n       [ 0,  4,  1,  2,  4],\n       [ 2,  0,  4, -2,  0]])"
     },
     "execution_count": 721,
     "metadata": {},
     "output_type": "execute_result"
    }
   ],
   "source": [
    "a[[2, 4, 3]] #2,3,4 строки"
   ]
  },
  {
   "cell_type": "code",
   "execution_count": 722,
   "id": "572a7d89",
   "metadata": {
    "ExecuteTime": {
     "start_time": "2023-04-02T18:52:10.180632Z",
     "end_time": "2023-04-02T18:52:10.257923Z"
    }
   },
   "outputs": [
    {
     "data": {
      "text/plain": "array([[3, 1],\n       [0, 4],\n       [2, 0]])"
     },
     "execution_count": 722,
     "metadata": {},
     "output_type": "execute_result"
    }
   ],
   "source": [
    "a[[2, 4, 3]][:, [0, -1]] #2,3,4 строки и 1 и последний столбец (с копированием)"
   ]
  },
  {
   "cell_type": "code",
   "execution_count": 723,
   "id": "9ef9d7c1",
   "metadata": {
    "ExecuteTime": {
     "start_time": "2023-04-02T18:52:10.660244Z",
     "end_time": "2023-04-02T18:52:10.686280Z"
    }
   },
   "outputs": [
    {
     "data": {
      "text/plain": "array([[3, 1],\n       [0, 4],\n       [2, 0]])"
     },
     "execution_count": 723,
     "metadata": {},
     "output_type": "execute_result"
    }
   ],
   "source": [
    "a[np.ix_([2,4,3],[0,-1])] # то же самое (без копирования)"
   ]
  },
  {
   "cell_type": "code",
   "execution_count": 723,
   "id": "d04e1d03",
   "metadata": {
    "ExecuteTime": {
     "start_time": "2023-04-02T18:52:14.193143Z",
     "end_time": "2023-04-02T18:52:14.244926Z"
    }
   },
   "outputs": [],
   "source": []
  },
  {
   "cell_type": "code",
   "execution_count": 724,
   "id": "1873339f",
   "metadata": {
    "ExecuteTime": {
     "start_time": "2023-04-02T18:52:14.466654Z",
     "end_time": "2023-04-02T18:52:14.542351Z"
    }
   },
   "outputs": [],
   "source": [
    "# СОКРАЩЕННАЯ ИНДЕКСАЦИЯ"
   ]
  },
  {
   "cell_type": "code",
   "execution_count": 725,
   "id": "69a88655",
   "metadata": {
    "ExecuteTime": {
     "start_time": "2023-04-02T18:52:14.686020Z",
     "end_time": "2023-04-02T18:52:14.766836Z"
    }
   },
   "outputs": [
    {
     "data": {
      "text/plain": "array([[[ 0,  1,  2,  3],\n        [ 4,  5,  6,  7],\n        [ 8,  9, 10, 11]],\n\n       [[12, 13, 14, 15],\n        [16, 17, 18, 19],\n        [20, 21, 22, 23]]])"
     },
     "execution_count": 725,
     "metadata": {},
     "output_type": "execute_result"
    }
   ],
   "source": [
    "a = np.arange(24).reshape(2,3,4)\n",
    "a"
   ]
  },
  {
   "cell_type": "code",
   "execution_count": 726,
   "id": "23bad629",
   "metadata": {
    "ExecuteTime": {
     "start_time": "2023-04-02T18:52:14.872748Z",
     "end_time": "2023-04-02T18:52:14.958303Z"
    }
   },
   "outputs": [
    {
     "data": {
      "text/plain": "array([[ 0,  4,  8],\n       [12, 16, 20]])"
     },
     "execution_count": 726,
     "metadata": {},
     "output_type": "execute_result"
    }
   ],
   "source": [
    "a[..., 0]"
   ]
  },
  {
   "cell_type": "code",
   "execution_count": 727,
   "id": "83e7738a",
   "metadata": {
    "ExecuteTime": {
     "start_time": "2023-04-02T18:52:15.074272Z",
     "end_time": "2023-04-02T18:52:15.199328Z"
    }
   },
   "outputs": [
    {
     "data": {
      "text/plain": "array([[ 0,  1,  2,  3],\n       [ 4,  5,  6,  7],\n       [ 8,  9, 10, 11]])"
     },
     "execution_count": 727,
     "metadata": {},
     "output_type": "execute_result"
    }
   ],
   "source": [
    "a[0, ...]"
   ]
  },
  {
   "cell_type": "code",
   "execution_count": 728,
   "id": "bfa014e5",
   "metadata": {
    "ExecuteTime": {
     "start_time": "2023-04-02T18:52:15.270399Z",
     "end_time": "2023-04-02T18:52:15.438046Z"
    }
   },
   "outputs": [
    {
     "data": {
      "text/plain": "array([[ 0,  1,  2,  3],\n       [12, 13, 14, 15]])"
     },
     "execution_count": 728,
     "metadata": {},
     "output_type": "execute_result"
    }
   ],
   "source": [
    "a[..., 0, :]"
   ]
  },
  {
   "cell_type": "code",
   "execution_count": 728,
   "id": "fe46501e",
   "metadata": {
    "ExecuteTime": {
     "start_time": "2023-04-02T18:52:15.416259Z",
     "end_time": "2023-04-02T18:52:15.522342Z"
    }
   },
   "outputs": [],
   "source": []
  },
  {
   "cell_type": "code",
   "execution_count": 729,
   "id": "fb3c9fb3",
   "metadata": {
    "ExecuteTime": {
     "start_time": "2023-04-02T18:52:15.592901Z",
     "end_time": "2023-04-02T18:52:15.785306Z"
    }
   },
   "outputs": [],
   "source": [
    "# ГЕНЕРАЦИЯ СЛУЧАЙНЫХ ЧИСЕЛ"
   ]
  },
  {
   "cell_type": "code",
   "execution_count": 730,
   "id": "ca1a7b04",
   "metadata": {
    "ExecuteTime": {
     "start_time": "2023-04-02T18:52:15.739220Z",
     "end_time": "2023-04-02T18:52:15.858653Z"
    }
   },
   "outputs": [
    {
     "data": {
      "text/plain": "array([0.22024735, 0.88293447, 0.69184538, 0.00523532, 0.48975893,\n       0.78255915, 0.4244878 , 0.45827732, 0.0449126 , 0.5361042 ])"
     },
     "execution_count": 730,
     "metadata": {},
     "output_type": "execute_result"
    }
   ],
   "source": [
    "np.random.rand(10) # 10 случ. чисел от 0 до 1"
   ]
  },
  {
   "cell_type": "code",
   "execution_count": 731,
   "id": "460bcbf7",
   "metadata": {
    "ExecuteTime": {
     "start_time": "2023-04-02T18:52:15.984220Z",
     "end_time": "2023-04-02T18:52:16.049432Z"
    }
   },
   "outputs": [
    {
     "data": {
      "text/plain": "array([8, 1, 5, 3, 8, 9, 7, 2, 1, 0])"
     },
     "execution_count": 731,
     "metadata": {},
     "output_type": "execute_result"
    }
   ],
   "source": [
    "np.random.randint(0,10,10) # 10 случ. целых чисел от 0 до 10"
   ]
  },
  {
   "cell_type": "code",
   "execution_count": 732,
   "id": "dd07d6cf",
   "metadata": {
    "ExecuteTime": {
     "start_time": "2023-04-02T18:52:16.122984Z",
     "end_time": "2023-04-02T18:52:16.293365Z"
    }
   },
   "outputs": [
    {
     "data": {
      "text/plain": "array([6, 8, 5, 4, 9, 3, 1, 0, 2, 7])"
     },
     "execution_count": 732,
     "metadata": {},
     "output_type": "execute_result"
    }
   ],
   "source": [
    "np.random.permutation(10) # перестановка 10 чисел"
   ]
  },
  {
   "cell_type": "code",
   "execution_count": 733,
   "id": "2b83a35d",
   "metadata": {
    "ExecuteTime": {
     "start_time": "2023-04-02T18:52:16.310509Z",
     "end_time": "2023-04-02T18:52:16.381276Z"
    }
   },
   "outputs": [
    {
     "data": {
      "text/plain": "array([4, 0, 2, 5, 7, 9, 3, 5, 4, 4])"
     },
     "execution_count": 733,
     "metadata": {},
     "output_type": "execute_result"
    }
   ],
   "source": [
    "np.random.choice(10, size=10) # выборка с повторениями "
   ]
  },
  {
   "cell_type": "code",
   "execution_count": 733,
   "id": "1e463e8f",
   "metadata": {
    "ExecuteTime": {
     "start_time": "2023-04-02T18:52:16.544259Z",
     "end_time": "2023-04-02T18:52:16.608360Z"
    }
   },
   "outputs": [],
   "source": []
  },
  {
   "cell_type": "code",
   "execution_count": 734,
   "id": "6e8f78bc",
   "metadata": {
    "ExecuteTime": {
     "start_time": "2023-04-02T18:52:16.780225Z",
     "end_time": "2023-04-02T18:52:16.831450Z"
    }
   },
   "outputs": [],
   "source": [
    "# СОРТИРОВКА"
   ]
  },
  {
   "cell_type": "code",
   "execution_count": 735,
   "id": "768a28dc",
   "metadata": {
    "ExecuteTime": {
     "start_time": "2023-04-02T18:52:16.867499Z",
     "end_time": "2023-04-02T18:52:16.993534Z"
    }
   },
   "outputs": [
    {
     "data": {
      "text/plain": "array([[6, 0, 3, 1, 5, 3, 1, 6, 6, 4],\n       [5, 3, 7, 1, 3, 0, 5, 5, 3, 6],\n       [4, 1, 1, 0, 4, 3, 3, 3, 2, 1]])"
     },
     "execution_count": 735,
     "metadata": {},
     "output_type": "execute_result"
    }
   ],
   "source": [
    "np.random.seed(4445)\n",
    "\n",
    "a = np.random.choice(10, size=(3,10))\n",
    "a"
   ]
  },
  {
   "cell_type": "code",
   "execution_count": 736,
   "id": "a9baa5e1",
   "metadata": {
    "ExecuteTime": {
     "start_time": "2023-04-02T18:52:17.092230Z",
     "end_time": "2023-04-02T18:52:17.213825Z"
    }
   },
   "outputs": [
    {
     "data": {
      "text/plain": "array([0, 0, 0, 1, 1, 1, 1, 1, 1, 2, 3, 3, 3, 3, 3, 3, 3, 3, 4, 4, 4, 5,\n       5, 5, 5, 6, 6, 6, 6, 7])"
     },
     "execution_count": 736,
     "metadata": {},
     "output_type": "execute_result"
    }
   ],
   "source": [
    "np.sort(a.ravel()) # отсортированная копия"
   ]
  },
  {
   "cell_type": "code",
   "execution_count": 737,
   "id": "75164373",
   "metadata": {
    "ExecuteTime": {
     "start_time": "2023-04-02T18:52:17.232495Z",
     "end_time": "2023-04-02T18:52:17.349527Z"
    }
   },
   "outputs": [
    {
     "data": {
      "text/plain": "array([[4, 0, 1, 0, 3, 0, 1, 3, 2, 1],\n       [5, 1, 3, 1, 4, 3, 3, 5, 3, 4],\n       [6, 3, 7, 1, 5, 3, 5, 6, 6, 6]])"
     },
     "execution_count": 737,
     "metadata": {},
     "output_type": "execute_result"
    }
   ],
   "source": [
    "a.sort(axis=0) # сортировка по столбцам (без копии)\n",
    "a"
   ]
  },
  {
   "cell_type": "code",
   "execution_count": 738,
   "id": "9ff84319",
   "metadata": {
    "ExecuteTime": {
     "start_time": "2023-04-02T18:52:17.400414Z",
     "end_time": "2023-04-02T18:52:17.498956Z"
    }
   },
   "outputs": [
    {
     "data": {
      "text/plain": "array([[0, 0, 0, 1, 1, 1, 2, 3, 3, 4],\n       [1, 1, 3, 3, 3, 3, 4, 4, 5, 5],\n       [1, 3, 3, 5, 5, 6, 6, 6, 6, 7]])"
     },
     "execution_count": 738,
     "metadata": {},
     "output_type": "execute_result"
    }
   ],
   "source": [
    "a.sort(axis=1) # сортировка по строкам\n",
    "a"
   ]
  },
  {
   "cell_type": "code",
   "execution_count": 739,
   "id": "1eb9dad3",
   "metadata": {
    "ExecuteTime": {
     "start_time": "2023-04-02T18:52:17.600233Z",
     "end_time": "2023-04-02T18:52:17.778623Z"
    }
   },
   "outputs": [
    {
     "data": {
      "text/plain": "array([[6, 0, 3, 1, 5, 3, 1, 6, 6, 4],\n       [5, 3, 7, 1, 3, 0, 5, 5, 3, 6],\n       [4, 1, 1, 0, 4, 3, 3, 3, 2, 1]])"
     },
     "execution_count": 739,
     "metadata": {},
     "output_type": "execute_result"
    }
   ],
   "source": [
    "np.random.seed(4445)\n",
    "\n",
    "a = np.random.choice(10, size=(3,10))\n",
    "a"
   ]
  },
  {
   "cell_type": "code",
   "execution_count": 740,
   "id": "398e865f",
   "metadata": {
    "ExecuteTime": {
     "start_time": "2023-04-02T18:52:17.738995Z",
     "end_time": "2023-04-02T18:52:17.846096Z"
    }
   },
   "outputs": [
    {
     "data": {
      "text/plain": "array([[2, 0, 2, 2, 1, 1, 0, 2, 2, 2],\n       [1, 2, 0, 0, 2, 0, 2, 1, 1, 0],\n       [0, 1, 1, 1, 0, 2, 1, 0, 0, 1]])"
     },
     "execution_count": 740,
     "metadata": {},
     "output_type": "execute_result"
    }
   ],
   "source": [
    "a.argsort(axis=0) # сортировка по индексам столбцов"
   ]
  },
  {
   "cell_type": "code",
   "execution_count": 741,
   "id": "50b6d3fc",
   "metadata": {
    "ExecuteTime": {
     "start_time": "2023-04-02T18:52:17.928230Z",
     "end_time": "2023-04-02T18:52:18.154581Z"
    }
   },
   "outputs": [
    {
     "data": {
      "text/plain": "array([[1, 3, 6, 2, 5, 9, 4, 0, 7, 8],\n       [5, 3, 1, 4, 8, 0, 6, 7, 9, 2],\n       [3, 1, 2, 9, 8, 5, 6, 7, 0, 4]])"
     },
     "execution_count": 741,
     "metadata": {},
     "output_type": "execute_result"
    }
   ],
   "source": [
    "a.argsort(axis=1) # сортировка по индексам строк"
   ]
  },
  {
   "cell_type": "code",
   "execution_count": 742,
   "id": "b84d9708",
   "metadata": {
    "ExecuteTime": {
     "start_time": "2023-04-02T18:52:18.136224Z",
     "end_time": "2023-04-02T18:52:18.314549Z"
    }
   },
   "outputs": [
    {
     "data": {
      "text/plain": "array([0, 1, 2, 3, 4, 5, 6, 7])"
     },
     "execution_count": 742,
     "metadata": {},
     "output_type": "execute_result"
    }
   ],
   "source": [
    "np.unique(a)"
   ]
  },
  {
   "cell_type": "code",
   "execution_count": 742,
   "id": "ab47cadf",
   "metadata": {
    "ExecuteTime": {
     "start_time": "2023-04-02T18:52:18.256350Z",
     "end_time": "2023-04-02T18:52:18.398804Z"
    }
   },
   "outputs": [],
   "source": []
  },
  {
   "cell_type": "code",
   "execution_count": 743,
   "id": "812df255",
   "metadata": {
    "ExecuteTime": {
     "start_time": "2023-04-02T18:52:18.420461Z",
     "end_time": "2023-04-02T18:52:18.516937Z"
    }
   },
   "outputs": [],
   "source": [
    "# ОБЪЕДИНЕНИЕ МАССИВОВ"
   ]
  },
  {
   "cell_type": "code",
   "execution_count": 744,
   "id": "c02809c4",
   "metadata": {
    "ExecuteTime": {
     "start_time": "2023-04-02T18:52:18.672283Z",
     "end_time": "2023-04-02T18:52:18.849246Z"
    }
   },
   "outputs": [],
   "source": [
    "from itertools import chain, zip_longest\n",
    "def print_as_columns(*args, sep='\\t'):\n",
    "    args = list(map(lambda s: s.split('\\n'), args))\n",
    "    width = max(map(len, chain.from_iterable(args)))\n",
    "    \n",
    "    fill = lambda s: '{:<{width}s}'.format(s, width=width)\n",
    "    fillvalue = fill('')\n",
    "    \n",
    "    args = map(lambda e: map(fill, e), args)\n",
    "    args = map(sep.join, zip_longest(*args, fillvalue=fillvalue))\n",
    "    print(*args, sep='\\n')"
   ]
  },
  {
   "cell_type": "code",
   "execution_count": 745,
   "id": "a622dcdf",
   "metadata": {
    "ExecuteTime": {
     "start_time": "2023-04-02T18:52:18.767685Z",
     "end_time": "2023-04-02T18:52:18.962646Z"
    }
   },
   "outputs": [],
   "source": [
    "np.random.seed(1398)\n",
    "\n",
    "c = np.random.permutation(np.arange(0, 12))\n",
    "i = c.shape[0] // 2\n",
    "\n",
    "a, b = c[:i], c[i:]\n",
    "a, b = a.reshape(3, 2), b.reshape(3, 2) "
   ]
  },
  {
   "cell_type": "code",
   "execution_count": 746,
   "id": "6d58ccc3",
   "metadata": {
    "ExecuteTime": {
     "start_time": "2023-04-02T18:52:18.943163Z",
     "end_time": "2023-04-02T18:52:19.028578Z"
    }
   },
   "outputs": [
    {
     "name": "stdout",
     "output_type": "stream",
     "text": [
      "array([[8, 4],   \tarray([[ 1,  2], \n",
      "       [0, 3],   \t       [11,  5], \n",
      "       [7, 6]])  \t       [ 9, 10]])\n"
     ]
    },
    {
     "data": {
      "text/plain": "array([[ 8,  4],\n       [ 0,  3],\n       [ 7,  6],\n       [ 1,  2],\n       [11,  5],\n       [ 9, 10]])"
     },
     "execution_count": 746,
     "metadata": {},
     "output_type": "execute_result"
    }
   ],
   "source": [
    "print_as_columns(repr(a), repr(b))\n",
    "np.vstack((a, b))"
   ]
  },
  {
   "cell_type": "code",
   "execution_count": 747,
   "id": "ff938982",
   "metadata": {
    "ExecuteTime": {
     "start_time": "2023-04-02T18:52:19.184228Z",
     "end_time": "2023-04-02T18:52:19.270681Z"
    }
   },
   "outputs": [
    {
     "data": {
      "text/plain": "array([[ 8,  4],\n       [ 0,  3],\n       [ 7,  6],\n       [ 1,  2],\n       [11,  5],\n       [ 9, 10]])"
     },
     "execution_count": 747,
     "metadata": {},
     "output_type": "execute_result"
    }
   ],
   "source": [
    "np.concatenate((a, b), axis=0) # то же самое"
   ]
  },
  {
   "cell_type": "code",
   "execution_count": 748,
   "id": "f5e99a17",
   "metadata": {
    "ExecuteTime": {
     "start_time": "2023-04-02T18:52:19.305401Z",
     "end_time": "2023-04-02T18:52:19.405479Z"
    }
   },
   "outputs": [
    {
     "name": "stdout",
     "output_type": "stream",
     "text": [
      "array([[8, 4],   \tarray([[ 1,  2], \n",
      "       [0, 3],   \t       [11,  5], \n",
      "       [7, 6]])  \t       [ 9, 10]])\n"
     ]
    },
    {
     "data": {
      "text/plain": "array([[ 8,  4,  1,  2],\n       [ 0,  3, 11,  5],\n       [ 7,  6,  9, 10]])"
     },
     "execution_count": 748,
     "metadata": {},
     "output_type": "execute_result"
    }
   ],
   "source": [
    "print_as_columns(repr(a), repr(b))\n",
    "np.hstack((a, b))"
   ]
  },
  {
   "cell_type": "code",
   "execution_count": 749,
   "id": "04a23384",
   "metadata": {
    "ExecuteTime": {
     "start_time": "2023-04-02T18:52:19.501711Z",
     "end_time": "2023-04-02T18:52:19.601381Z"
    }
   },
   "outputs": [
    {
     "data": {
      "text/plain": "array([[ 8,  4,  1,  2],\n       [ 0,  3, 11,  5],\n       [ 7,  6,  9, 10]])"
     },
     "execution_count": 749,
     "metadata": {},
     "output_type": "execute_result"
    }
   ],
   "source": [
    "np.concatenate((a, b), axis=1) # то же самое"
   ]
  },
  {
   "cell_type": "code",
   "execution_count": 749,
   "id": "77b72db0",
   "metadata": {
    "ExecuteTime": {
     "start_time": "2023-04-02T18:52:19.731913Z",
     "end_time": "2023-04-02T18:52:19.893142Z"
    }
   },
   "outputs": [],
   "source": []
  },
  {
   "cell_type": "code",
   "execution_count": 750,
   "id": "1b31f2d2",
   "metadata": {
    "ExecuteTime": {
     "start_time": "2023-04-02T18:52:19.829321Z",
     "end_time": "2023-04-02T18:52:19.941170Z"
    }
   },
   "outputs": [],
   "source": [
    "# РАССТОЯНИЕ МЕЖДУ ТОЧКАМИ"
   ]
  },
  {
   "cell_type": "code",
   "execution_count": 751,
   "id": "42d98c1b",
   "metadata": {
    "ExecuteTime": {
     "start_time": "2023-04-02T18:52:20.084267Z",
     "end_time": "2023-04-02T18:52:20.154092Z"
    }
   },
   "outputs": [
    {
     "data": {
      "text/plain": "array([[0.33823417, 2.08502959],\n       [1.20627581, 5.15557834],\n       [4.34896139, 2.34885034],\n       [9.38091212, 0.89160899],\n       [5.77386694, 4.41725834]])"
     },
     "execution_count": 751,
     "metadata": {},
     "output_type": "execute_result"
    }
   ],
   "source": [
    "from scipy.spatial.distance import pdist, squareform\n",
    "\n",
    "np.random.seed(9872)\n",
    "X = np.random.random(size=(5, 2))*10\n",
    "X"
   ]
  },
  {
   "cell_type": "code",
   "execution_count": 752,
   "id": "701abbb8",
   "metadata": {
    "ExecuteTime": {
     "start_time": "2023-04-02T18:52:20.226818Z",
     "end_time": "2023-04-02T18:52:20.368213Z"
    }
   },
   "outputs": [
    {
     "data": {
      "text/plain": "array([3.19088795, 4.01939476, 9.1210897 , 5.91484527, 4.21357267,\n       9.219876  , 4.62687855, 5.23870982, 2.51170609, 5.04390507])"
     },
     "execution_count": 752,
     "metadata": {},
     "output_type": "execute_result"
    }
   ],
   "source": [
    "d = pdist(X)\n",
    "d"
   ]
  },
  {
   "cell_type": "code",
   "execution_count": 753,
   "id": "969a211d",
   "metadata": {
    "ExecuteTime": {
     "start_time": "2023-04-02T18:52:20.780220Z",
     "end_time": "2023-04-02T18:52:20.820977Z"
    }
   },
   "outputs": [
    {
     "data": {
      "text/plain": "array([[0.        , 3.19088795, 4.01939476, 9.1210897 , 5.91484527],\n       [3.19088795, 0.        , 4.21357267, 9.219876  , 4.62687855],\n       [4.01939476, 4.21357267, 0.        , 5.23870982, 2.51170609],\n       [9.1210897 , 9.219876  , 5.23870982, 0.        , 5.04390507],\n       [5.91484527, 4.62687855, 2.51170609, 5.04390507, 0.        ]])"
     },
     "execution_count": 753,
     "metadata": {},
     "output_type": "execute_result"
    }
   ],
   "source": [
    "squareform(d)"
   ]
  },
  {
   "cell_type": "code",
   "execution_count": 754,
   "id": "cef4aec2",
   "metadata": {
    "ExecuteTime": {
     "start_time": "2023-04-02T18:52:21.437515Z",
     "end_time": "2023-04-02T18:52:21.503977Z"
    }
   },
   "outputs": [
    {
     "data": {
      "text/plain": "array([2.11228567, 5.29481722, 4.9427283 , 9.42318836, 7.26978064])"
     },
     "execution_count": 754,
     "metadata": {},
     "output_type": "execute_result"
    }
   ],
   "source": [
    "norm = np.linalg.norm(X, ord=2, axis=1)\n",
    "norm"
   ]
  },
  {
   "cell_type": "code",
   "execution_count": 755,
   "id": "6e655a4f",
   "metadata": {
    "ExecuteTime": {
     "start_time": "2023-04-02T18:52:22.103009Z",
     "end_time": "2023-04-02T18:52:22.178043Z"
    }
   },
   "outputs": [
    {
     "data": {
      "text/plain": "array([[0.        , 0.06900716, 0.88320724, 1.22245132, 0.73897735],\n       [0.06900716, 0.        , 0.82076742, 1.16710728, 0.67441346],\n       [0.88320724, 0.82076742, 0.        , 0.39777586, 0.15768922],\n       [1.22245132, 1.16710728, 0.39777586, 0.        , 0.55107649],\n       [0.73897735, 0.67441346, 0.15768922, 0.55107649, 0.        ]])"
     },
     "execution_count": 755,
     "metadata": {},
     "output_type": "execute_result"
    }
   ],
   "source": [
    "squareform(pdist(X / norm[:, np.newaxis]))"
   ]
  },
  {
   "cell_type": "code",
   "execution_count": 756,
   "id": "4526b6be",
   "metadata": {
    "ExecuteTime": {
     "start_time": "2023-04-02T18:52:22.766195Z",
     "end_time": "2023-04-02T18:52:22.870797Z"
    }
   },
   "outputs": [
    {
     "data": {
      "text/plain": "array([0.00238099, 0.39002751, 0.74719361, 0.27304377, 0.33682958,\n       0.6810697 , 0.22741676, 0.07911282, 0.01243295, 0.15184265])"
     },
     "execution_count": 756,
     "metadata": {},
     "output_type": "execute_result"
    }
   ],
   "source": [
    "pdist(X, metric='cosine')"
   ]
  },
  {
   "cell_type": "code",
   "execution_count": null,
   "outputs": [],
   "source": [],
   "metadata": {
    "collapsed": false
   }
  }
 ],
 "metadata": {
  "kernelspec": {
   "display_name": "Python 3 (ipykernel)",
   "language": "python",
   "name": "python3"
  },
  "language_info": {
   "codemirror_mode": {
    "name": "ipython",
    "version": 3
   },
   "file_extension": ".py",
   "mimetype": "text/x-python",
   "name": "python",
   "nbconvert_exporter": "python",
   "pygments_lexer": "ipython3",
   "version": "3.10.6"
  }
 },
 "nbformat": 4,
 "nbformat_minor": 5
}
