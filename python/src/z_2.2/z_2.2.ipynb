{
 "cells": [
  {
   "cell_type": "markdown",
   "source": [
    "https://archive-beta.ics.uci.edu/dataset/352/online+retail\n",
    "\n",
    "\n",
    "InvoiceNo: Номер счета. 6-значный целочисленный номер, однозначно присвоенный каждой транзакции. Если этот код начинается с буквы «с», это означает отмену.\n",
    "StockCode: Код продукта (элемента). 5-значный целочисленный номер, однозначно присвоенный каждому отдельному продукту.\n",
    "Description: Название продукта (элемента).\n",
    "Quantity: Количество каждого продукта (элемента) за транзакцию.\n",
    "InvoiceDate: Дата и время счета. День и время создания каждой транзакции.\n",
    "UnitPrice:Цена товара за единицу в фунтах стерлингов.\n",
    "ID клиента: номер клиента. Номинал, 5-значный целочисленный номер, однозначно присвоенный каждому покупателю.\n",
    "Country: Название страны, в которой проживает каждый клиент.\n",
    "\n"
   ],
   "metadata": {
    "collapsed": false
   }
  },
  {
   "cell_type": "code",
   "execution_count": 1,
   "metadata": {},
   "outputs": [],
   "source": [
    "import pandas as pd"
   ]
  },
  {
   "cell_type": "markdown",
   "source": [
    "### Task 3\n",
    "Read exel"
   ],
   "metadata": {
    "collapsed": false
   }
  },
  {
   "cell_type": "code",
   "execution_count": 2,
   "metadata": {},
   "outputs": [
    {
     "data": {
      "text/plain": "      InvoiceNo StockCode                          Description  Quantity  \\\n0        536365    85123A   WHITE HANGING HEART T-LIGHT HOLDER         6   \n1        536365     71053                  WHITE METAL LANTERN         6   \n2        536365    84406B       CREAM CUPID HEARTS COAT HANGER         8   \n3        536365    84029G  KNITTED UNION FLAG HOT WATER BOTTLE         6   \n4        536365    84029E       RED WOOLLY HOTTIE WHITE HEART.         6   \n...         ...       ...                                  ...       ...   \n19996    537999     22034                                  NaN      -223   \n19997    538000     22942          CHRISTMAS LIGHTS 10 SANTAS          5   \n19998    538000     79321                        CHILLI LIGHTS        12   \n19999    538001     35958                                  NaN        10   \n20000    538002     22690        DOORMAT HOME SWEET HOME BLUE          2   \n\n              InvoiceDate  UnitPrice  CustomerID          Country  \n0     2010-12-01 08:26:00       2.55     17850.0   United Kingdom  \n1     2010-12-01 08:26:00       3.39     17850.0   United Kingdom  \n2     2010-12-01 08:26:00       2.75     17850.0   United Kingdom  \n3     2010-12-01 08:26:00       3.39     17850.0   United Kingdom  \n4     2010-12-01 08:26:00       3.39     17850.0   United Kingdom  \n...                   ...        ...         ...              ...  \n19996 2010-12-09 11:44:00       0.00         NaN   United Kingdom  \n19997 2010-12-09 11:44:00       8.50     12748.0   United Kingdom  \n19998 2010-12-09 11:44:00       4.95     12748.0   United Kingdom  \n19999 2010-12-09 11:45:00       0.00         NaN   United Kingdom  \n20000 2010-12-09 11:48:00       7.95     14932.0  Channel Islands  \n\n[20001 rows x 8 columns]",
      "text/html": "<div>\n<style scoped>\n    .dataframe tbody tr th:only-of-type {\n        vertical-align: middle;\n    }\n\n    .dataframe tbody tr th {\n        vertical-align: top;\n    }\n\n    .dataframe thead th {\n        text-align: right;\n    }\n</style>\n<table border=\"1\" class=\"dataframe\">\n  <thead>\n    <tr style=\"text-align: right;\">\n      <th></th>\n      <th>InvoiceNo</th>\n      <th>StockCode</th>\n      <th>Description</th>\n      <th>Quantity</th>\n      <th>InvoiceDate</th>\n      <th>UnitPrice</th>\n      <th>CustomerID</th>\n      <th>Country</th>\n    </tr>\n  </thead>\n  <tbody>\n    <tr>\n      <th>0</th>\n      <td>536365</td>\n      <td>85123A</td>\n      <td>WHITE HANGING HEART T-LIGHT HOLDER</td>\n      <td>6</td>\n      <td>2010-12-01 08:26:00</td>\n      <td>2.55</td>\n      <td>17850.0</td>\n      <td>United Kingdom</td>\n    </tr>\n    <tr>\n      <th>1</th>\n      <td>536365</td>\n      <td>71053</td>\n      <td>WHITE METAL LANTERN</td>\n      <td>6</td>\n      <td>2010-12-01 08:26:00</td>\n      <td>3.39</td>\n      <td>17850.0</td>\n      <td>United Kingdom</td>\n    </tr>\n    <tr>\n      <th>2</th>\n      <td>536365</td>\n      <td>84406B</td>\n      <td>CREAM CUPID HEARTS COAT HANGER</td>\n      <td>8</td>\n      <td>2010-12-01 08:26:00</td>\n      <td>2.75</td>\n      <td>17850.0</td>\n      <td>United Kingdom</td>\n    </tr>\n    <tr>\n      <th>3</th>\n      <td>536365</td>\n      <td>84029G</td>\n      <td>KNITTED UNION FLAG HOT WATER BOTTLE</td>\n      <td>6</td>\n      <td>2010-12-01 08:26:00</td>\n      <td>3.39</td>\n      <td>17850.0</td>\n      <td>United Kingdom</td>\n    </tr>\n    <tr>\n      <th>4</th>\n      <td>536365</td>\n      <td>84029E</td>\n      <td>RED WOOLLY HOTTIE WHITE HEART.</td>\n      <td>6</td>\n      <td>2010-12-01 08:26:00</td>\n      <td>3.39</td>\n      <td>17850.0</td>\n      <td>United Kingdom</td>\n    </tr>\n    <tr>\n      <th>...</th>\n      <td>...</td>\n      <td>...</td>\n      <td>...</td>\n      <td>...</td>\n      <td>...</td>\n      <td>...</td>\n      <td>...</td>\n      <td>...</td>\n    </tr>\n    <tr>\n      <th>19996</th>\n      <td>537999</td>\n      <td>22034</td>\n      <td>NaN</td>\n      <td>-223</td>\n      <td>2010-12-09 11:44:00</td>\n      <td>0.00</td>\n      <td>NaN</td>\n      <td>United Kingdom</td>\n    </tr>\n    <tr>\n      <th>19997</th>\n      <td>538000</td>\n      <td>22942</td>\n      <td>CHRISTMAS LIGHTS 10 SANTAS</td>\n      <td>5</td>\n      <td>2010-12-09 11:44:00</td>\n      <td>8.50</td>\n      <td>12748.0</td>\n      <td>United Kingdom</td>\n    </tr>\n    <tr>\n      <th>19998</th>\n      <td>538000</td>\n      <td>79321</td>\n      <td>CHILLI LIGHTS</td>\n      <td>12</td>\n      <td>2010-12-09 11:44:00</td>\n      <td>4.95</td>\n      <td>12748.0</td>\n      <td>United Kingdom</td>\n    </tr>\n    <tr>\n      <th>19999</th>\n      <td>538001</td>\n      <td>35958</td>\n      <td>NaN</td>\n      <td>10</td>\n      <td>2010-12-09 11:45:00</td>\n      <td>0.00</td>\n      <td>NaN</td>\n      <td>United Kingdom</td>\n    </tr>\n    <tr>\n      <th>20000</th>\n      <td>538002</td>\n      <td>22690</td>\n      <td>DOORMAT HOME SWEET HOME BLUE</td>\n      <td>2</td>\n      <td>2010-12-09 11:48:00</td>\n      <td>7.95</td>\n      <td>14932.0</td>\n      <td>Channel Islands</td>\n    </tr>\n  </tbody>\n</table>\n<p>20001 rows × 8 columns</p>\n</div>"
     },
     "execution_count": 2,
     "metadata": {},
     "output_type": "execute_result"
    }
   ],
   "source": [
    "df = pd.read_excel(\"../../dataset/online_retail.xlsx\")\n",
    "df"
   ]
  },
  {
   "cell_type": "markdown",
   "source": [
    "### Size of data"
   ],
   "metadata": {
    "collapsed": false
   }
  },
  {
   "cell_type": "code",
   "execution_count": 3,
   "metadata": {},
   "outputs": [
    {
     "data": {
      "text/plain": "20001"
     },
     "execution_count": 3,
     "metadata": {},
     "output_type": "execute_result"
    }
   ],
   "source": [
    "df.shape[0]"
   ]
  },
  {
   "cell_type": "markdown",
   "source": [
    "### Split data into some parts"
   ],
   "metadata": {
    "collapsed": false
   }
  },
  {
   "cell_type": "code",
   "execution_count": 4,
   "outputs": [],
   "source": [
    "size_of_one_part = 2001\n",
    "num = 1\n",
    "for i in range(0, df.shape[0], size_of_one_part):\n",
    "    tmp = df.loc[i:i + size_of_one_part - 1]\n",
    "    tmp.to_excel(f'../../dataset/z_2.2/parts/part{num}.xlsx', index=False)\n",
    "    num += 1"
   ],
   "metadata": {
    "collapsed": false
   }
  },
  {
   "cell_type": "code",
   "execution_count": 5,
   "outputs": [
    {
     "data": {
      "text/plain": "     InvoiceNo StockCode                          Description  Quantity  \\\n0       536365    85123A   WHITE HANGING HEART T-LIGHT HOLDER         6   \n1       536365     71053                  WHITE METAL LANTERN         6   \n2       536365    84406B       CREAM CUPID HEARTS COAT HANGER         8   \n3       536365    84029G  KNITTED UNION FLAG HOT WATER BOTTLE         6   \n4       536365    84029E       RED WOOLLY HOTTIE WHITE HEART.         6   \n...        ...       ...                                  ...       ...   \n1996    537792     22916                    HERB MARKER THYME         1   \n1997    537792     22919                     HERB MARKER MINT         1   \n1998    537792     47420     ASSORTED COLOUR SUCTION CUP HOOK         2   \n1999    537792     22938             CUPCAKE LACE PAPER SET 6         1   \n2000    537792     22911               PAPER CHAIN KIT LONDON         2   \n\n             InvoiceDate  UnitPrice  CustomerID         Country  \n0    2010-12-01 08:26:00       2.55     17850.0  United Kingdom  \n1    2010-12-01 08:26:00       3.39     17850.0  United Kingdom  \n2    2010-12-01 08:26:00       2.75     17850.0  United Kingdom  \n3    2010-12-01 08:26:00       3.39     17850.0  United Kingdom  \n4    2010-12-01 08:26:00       3.39     17850.0  United Kingdom  \n...                  ...        ...         ...             ...  \n1996 2010-12-08 12:56:00       0.65     16385.0  United Kingdom  \n1997 2010-12-08 12:56:00       0.65     16385.0  United Kingdom  \n1998 2010-12-08 12:56:00       0.19     16385.0  United Kingdom  \n1999 2010-12-08 12:56:00       1.95     16385.0  United Kingdom  \n2000 2010-12-08 12:56:00       2.95     16385.0  United Kingdom  \n\n[20001 rows x 8 columns]",
      "text/html": "<div>\n<style scoped>\n    .dataframe tbody tr th:only-of-type {\n        vertical-align: middle;\n    }\n\n    .dataframe tbody tr th {\n        vertical-align: top;\n    }\n\n    .dataframe thead th {\n        text-align: right;\n    }\n</style>\n<table border=\"1\" class=\"dataframe\">\n  <thead>\n    <tr style=\"text-align: right;\">\n      <th></th>\n      <th>InvoiceNo</th>\n      <th>StockCode</th>\n      <th>Description</th>\n      <th>Quantity</th>\n      <th>InvoiceDate</th>\n      <th>UnitPrice</th>\n      <th>CustomerID</th>\n      <th>Country</th>\n    </tr>\n  </thead>\n  <tbody>\n    <tr>\n      <th>0</th>\n      <td>536365</td>\n      <td>85123A</td>\n      <td>WHITE HANGING HEART T-LIGHT HOLDER</td>\n      <td>6</td>\n      <td>2010-12-01 08:26:00</td>\n      <td>2.55</td>\n      <td>17850.0</td>\n      <td>United Kingdom</td>\n    </tr>\n    <tr>\n      <th>1</th>\n      <td>536365</td>\n      <td>71053</td>\n      <td>WHITE METAL LANTERN</td>\n      <td>6</td>\n      <td>2010-12-01 08:26:00</td>\n      <td>3.39</td>\n      <td>17850.0</td>\n      <td>United Kingdom</td>\n    </tr>\n    <tr>\n      <th>2</th>\n      <td>536365</td>\n      <td>84406B</td>\n      <td>CREAM CUPID HEARTS COAT HANGER</td>\n      <td>8</td>\n      <td>2010-12-01 08:26:00</td>\n      <td>2.75</td>\n      <td>17850.0</td>\n      <td>United Kingdom</td>\n    </tr>\n    <tr>\n      <th>3</th>\n      <td>536365</td>\n      <td>84029G</td>\n      <td>KNITTED UNION FLAG HOT WATER BOTTLE</td>\n      <td>6</td>\n      <td>2010-12-01 08:26:00</td>\n      <td>3.39</td>\n      <td>17850.0</td>\n      <td>United Kingdom</td>\n    </tr>\n    <tr>\n      <th>4</th>\n      <td>536365</td>\n      <td>84029E</td>\n      <td>RED WOOLLY HOTTIE WHITE HEART.</td>\n      <td>6</td>\n      <td>2010-12-01 08:26:00</td>\n      <td>3.39</td>\n      <td>17850.0</td>\n      <td>United Kingdom</td>\n    </tr>\n    <tr>\n      <th>...</th>\n      <td>...</td>\n      <td>...</td>\n      <td>...</td>\n      <td>...</td>\n      <td>...</td>\n      <td>...</td>\n      <td>...</td>\n      <td>...</td>\n    </tr>\n    <tr>\n      <th>1996</th>\n      <td>537792</td>\n      <td>22916</td>\n      <td>HERB MARKER THYME</td>\n      <td>1</td>\n      <td>2010-12-08 12:56:00</td>\n      <td>0.65</td>\n      <td>16385.0</td>\n      <td>United Kingdom</td>\n    </tr>\n    <tr>\n      <th>1997</th>\n      <td>537792</td>\n      <td>22919</td>\n      <td>HERB MARKER MINT</td>\n      <td>1</td>\n      <td>2010-12-08 12:56:00</td>\n      <td>0.65</td>\n      <td>16385.0</td>\n      <td>United Kingdom</td>\n    </tr>\n    <tr>\n      <th>1998</th>\n      <td>537792</td>\n      <td>47420</td>\n      <td>ASSORTED COLOUR SUCTION CUP HOOK</td>\n      <td>2</td>\n      <td>2010-12-08 12:56:00</td>\n      <td>0.19</td>\n      <td>16385.0</td>\n      <td>United Kingdom</td>\n    </tr>\n    <tr>\n      <th>1999</th>\n      <td>537792</td>\n      <td>22938</td>\n      <td>CUPCAKE LACE PAPER SET 6</td>\n      <td>1</td>\n      <td>2010-12-08 12:56:00</td>\n      <td>1.95</td>\n      <td>16385.0</td>\n      <td>United Kingdom</td>\n    </tr>\n    <tr>\n      <th>2000</th>\n      <td>537792</td>\n      <td>22911</td>\n      <td>PAPER CHAIN KIT LONDON</td>\n      <td>2</td>\n      <td>2010-12-08 12:56:00</td>\n      <td>2.95</td>\n      <td>16385.0</td>\n      <td>United Kingdom</td>\n    </tr>\n  </tbody>\n</table>\n<p>20001 rows × 8 columns</p>\n</div>"
     },
     "execution_count": 5,
     "metadata": {},
     "output_type": "execute_result"
    }
   ],
   "source": [
    "import os\n",
    "\n",
    "df_all = pd.DataFrame()\n",
    "path = \"../../dataset/z_2.2/parts/\"\n",
    "for f in os.listdir(path):\n",
    "    tmp = pd.read_excel(path + f)\n",
    "    df_all = pd.concat([df_all, tmp])\n",
    "\n",
    "df_all"
   ],
   "metadata": {
    "collapsed": false
   }
  },
  {
   "cell_type": "markdown",
   "source": [
    "Reindex dataframe"
   ],
   "metadata": {
    "collapsed": false
   }
  },
  {
   "cell_type": "code",
   "execution_count": 6,
   "outputs": [
    {
     "data": {
      "text/plain": "      InvoiceNo StockCode                          Description  Quantity  \\\n0        536365    85123A   WHITE HANGING HEART T-LIGHT HOLDER         6   \n1        536365     71053                  WHITE METAL LANTERN         6   \n2        536365    84406B       CREAM CUPID HEARTS COAT HANGER         8   \n3        536365    84029G  KNITTED UNION FLAG HOT WATER BOTTLE         6   \n4        536365    84029E       RED WOOLLY HOTTIE WHITE HEART.         6   \n...         ...       ...                                  ...       ...   \n19996    537792     22916                    HERB MARKER THYME         1   \n19997    537792     22919                     HERB MARKER MINT         1   \n19998    537792     47420     ASSORTED COLOUR SUCTION CUP HOOK         2   \n19999    537792     22938             CUPCAKE LACE PAPER SET 6         1   \n20000    537792     22911               PAPER CHAIN KIT LONDON         2   \n\n              InvoiceDate  UnitPrice  CustomerID         Country  \n0     2010-12-01 08:26:00       2.55     17850.0  United Kingdom  \n1     2010-12-01 08:26:00       3.39     17850.0  United Kingdom  \n2     2010-12-01 08:26:00       2.75     17850.0  United Kingdom  \n3     2010-12-01 08:26:00       3.39     17850.0  United Kingdom  \n4     2010-12-01 08:26:00       3.39     17850.0  United Kingdom  \n...                   ...        ...         ...             ...  \n19996 2010-12-08 12:56:00       0.65     16385.0  United Kingdom  \n19997 2010-12-08 12:56:00       0.65     16385.0  United Kingdom  \n19998 2010-12-08 12:56:00       0.19     16385.0  United Kingdom  \n19999 2010-12-08 12:56:00       1.95     16385.0  United Kingdom  \n20000 2010-12-08 12:56:00       2.95     16385.0  United Kingdom  \n\n[20001 rows x 8 columns]",
      "text/html": "<div>\n<style scoped>\n    .dataframe tbody tr th:only-of-type {\n        vertical-align: middle;\n    }\n\n    .dataframe tbody tr th {\n        vertical-align: top;\n    }\n\n    .dataframe thead th {\n        text-align: right;\n    }\n</style>\n<table border=\"1\" class=\"dataframe\">\n  <thead>\n    <tr style=\"text-align: right;\">\n      <th></th>\n      <th>InvoiceNo</th>\n      <th>StockCode</th>\n      <th>Description</th>\n      <th>Quantity</th>\n      <th>InvoiceDate</th>\n      <th>UnitPrice</th>\n      <th>CustomerID</th>\n      <th>Country</th>\n    </tr>\n  </thead>\n  <tbody>\n    <tr>\n      <th>0</th>\n      <td>536365</td>\n      <td>85123A</td>\n      <td>WHITE HANGING HEART T-LIGHT HOLDER</td>\n      <td>6</td>\n      <td>2010-12-01 08:26:00</td>\n      <td>2.55</td>\n      <td>17850.0</td>\n      <td>United Kingdom</td>\n    </tr>\n    <tr>\n      <th>1</th>\n      <td>536365</td>\n      <td>71053</td>\n      <td>WHITE METAL LANTERN</td>\n      <td>6</td>\n      <td>2010-12-01 08:26:00</td>\n      <td>3.39</td>\n      <td>17850.0</td>\n      <td>United Kingdom</td>\n    </tr>\n    <tr>\n      <th>2</th>\n      <td>536365</td>\n      <td>84406B</td>\n      <td>CREAM CUPID HEARTS COAT HANGER</td>\n      <td>8</td>\n      <td>2010-12-01 08:26:00</td>\n      <td>2.75</td>\n      <td>17850.0</td>\n      <td>United Kingdom</td>\n    </tr>\n    <tr>\n      <th>3</th>\n      <td>536365</td>\n      <td>84029G</td>\n      <td>KNITTED UNION FLAG HOT WATER BOTTLE</td>\n      <td>6</td>\n      <td>2010-12-01 08:26:00</td>\n      <td>3.39</td>\n      <td>17850.0</td>\n      <td>United Kingdom</td>\n    </tr>\n    <tr>\n      <th>4</th>\n      <td>536365</td>\n      <td>84029E</td>\n      <td>RED WOOLLY HOTTIE WHITE HEART.</td>\n      <td>6</td>\n      <td>2010-12-01 08:26:00</td>\n      <td>3.39</td>\n      <td>17850.0</td>\n      <td>United Kingdom</td>\n    </tr>\n    <tr>\n      <th>...</th>\n      <td>...</td>\n      <td>...</td>\n      <td>...</td>\n      <td>...</td>\n      <td>...</td>\n      <td>...</td>\n      <td>...</td>\n      <td>...</td>\n    </tr>\n    <tr>\n      <th>19996</th>\n      <td>537792</td>\n      <td>22916</td>\n      <td>HERB MARKER THYME</td>\n      <td>1</td>\n      <td>2010-12-08 12:56:00</td>\n      <td>0.65</td>\n      <td>16385.0</td>\n      <td>United Kingdom</td>\n    </tr>\n    <tr>\n      <th>19997</th>\n      <td>537792</td>\n      <td>22919</td>\n      <td>HERB MARKER MINT</td>\n      <td>1</td>\n      <td>2010-12-08 12:56:00</td>\n      <td>0.65</td>\n      <td>16385.0</td>\n      <td>United Kingdom</td>\n    </tr>\n    <tr>\n      <th>19998</th>\n      <td>537792</td>\n      <td>47420</td>\n      <td>ASSORTED COLOUR SUCTION CUP HOOK</td>\n      <td>2</td>\n      <td>2010-12-08 12:56:00</td>\n      <td>0.19</td>\n      <td>16385.0</td>\n      <td>United Kingdom</td>\n    </tr>\n    <tr>\n      <th>19999</th>\n      <td>537792</td>\n      <td>22938</td>\n      <td>CUPCAKE LACE PAPER SET 6</td>\n      <td>1</td>\n      <td>2010-12-08 12:56:00</td>\n      <td>1.95</td>\n      <td>16385.0</td>\n      <td>United Kingdom</td>\n    </tr>\n    <tr>\n      <th>20000</th>\n      <td>537792</td>\n      <td>22911</td>\n      <td>PAPER CHAIN KIT LONDON</td>\n      <td>2</td>\n      <td>2010-12-08 12:56:00</td>\n      <td>2.95</td>\n      <td>16385.0</td>\n      <td>United Kingdom</td>\n    </tr>\n  </tbody>\n</table>\n<p>20001 rows × 8 columns</p>\n</div>"
     },
     "execution_count": 6,
     "metadata": {},
     "output_type": "execute_result"
    }
   ],
   "source": [
    "df_all.reset_index(inplace=True, drop=True)\n",
    "df_all"
   ],
   "metadata": {
    "collapsed": false
   }
  },
  {
   "cell_type": "markdown",
   "source": [
    "### aggregate, group by and sort"
   ],
   "metadata": {
    "collapsed": false
   }
  },
  {
   "cell_type": "code",
   "execution_count": 7,
   "outputs": [
    {
     "data": {
      "text/plain": "      StockCode       Sum\n2377  AMAZONFEE  66325.74\n2381        DOT   9840.70\n2382          M   1944.04\n1036      22423   1129.37\n2380          D    604.91\n...         ...       ...\n2126     84968E      0.00\n826       22145      0.00\n1538      35951      0.00\n453       21535      0.00\n394       21414      0.00\n\n[2385 rows x 2 columns]",
      "text/html": "<div>\n<style scoped>\n    .dataframe tbody tr th:only-of-type {\n        vertical-align: middle;\n    }\n\n    .dataframe tbody tr th {\n        vertical-align: top;\n    }\n\n    .dataframe thead th {\n        text-align: right;\n    }\n</style>\n<table border=\"1\" class=\"dataframe\">\n  <thead>\n    <tr style=\"text-align: right;\">\n      <th></th>\n      <th>StockCode</th>\n      <th>Sum</th>\n    </tr>\n  </thead>\n  <tbody>\n    <tr>\n      <th>2377</th>\n      <td>AMAZONFEE</td>\n      <td>66325.74</td>\n    </tr>\n    <tr>\n      <th>2381</th>\n      <td>DOT</td>\n      <td>9840.70</td>\n    </tr>\n    <tr>\n      <th>2382</th>\n      <td>M</td>\n      <td>1944.04</td>\n    </tr>\n    <tr>\n      <th>1036</th>\n      <td>22423</td>\n      <td>1129.37</td>\n    </tr>\n    <tr>\n      <th>2380</th>\n      <td>D</td>\n      <td>604.91</td>\n    </tr>\n    <tr>\n      <th>...</th>\n      <td>...</td>\n      <td>...</td>\n    </tr>\n    <tr>\n      <th>2126</th>\n      <td>84968E</td>\n      <td>0.00</td>\n    </tr>\n    <tr>\n      <th>826</th>\n      <td>22145</td>\n      <td>0.00</td>\n    </tr>\n    <tr>\n      <th>1538</th>\n      <td>35951</td>\n      <td>0.00</td>\n    </tr>\n    <tr>\n      <th>453</th>\n      <td>21535</td>\n      <td>0.00</td>\n    </tr>\n    <tr>\n      <th>394</th>\n      <td>21414</td>\n      <td>0.00</td>\n    </tr>\n  </tbody>\n</table>\n<p>2385 rows × 2 columns</p>\n</div>"
     },
     "execution_count": 7,
     "metadata": {},
     "output_type": "execute_result"
    }
   ],
   "source": [
    "sum_by_StockCode = df_all.query(\"Country == 'United Kingdom'\") \\\n",
    "    .groupby(['StockCode'], as_index=False) \\\n",
    "    .aggregate({'UnitPrice': 'sum'}) \\\n",
    "    .sort_values('UnitPrice', ascending=False) \\\n",
    "    .rename(columns={'UnitPrice': 'Sum'})\n",
    "sum_by_StockCode.to_excel('../../dataset/z_2.2/sum_by_StockCode.xlsx', index=False)\n",
    "sum_by_StockCode"
   ],
   "metadata": {
    "collapsed": false
   }
  },
  {
   "cell_type": "code",
   "execution_count": 8,
   "outputs": [
    {
     "name": "stdout",
     "output_type": "stream",
     "text": [
      "<class 'pandas.core.frame.DataFrame'>\n",
      "RangeIndex: 20001 entries, 0 to 20000\n",
      "Data columns (total 8 columns):\n",
      " #   Column       Non-Null Count  Dtype         \n",
      "---  ------       --------------  -----         \n",
      " 0   InvoiceNo    20001 non-null  object        \n",
      " 1   StockCode    20001 non-null  object        \n",
      " 2   Description  19930 non-null  object        \n",
      " 3   Quantity     20001 non-null  int64         \n",
      " 4   InvoiceDate  20001 non-null  datetime64[ns]\n",
      " 5   UnitPrice    20001 non-null  float64       \n",
      " 6   CustomerID   13348 non-null  float64       \n",
      " 7   Country      20001 non-null  object        \n",
      "dtypes: datetime64[ns](1), float64(2), int64(1), object(4)\n",
      "memory usage: 1.2+ MB\n"
     ]
    }
   ],
   "source": [
    "df_all.info()"
   ],
   "metadata": {
    "collapsed": false
   }
  },
  {
   "cell_type": "code",
   "execution_count": 9,
   "outputs": [
    {
     "data": {
      "text/plain": "      InvoiceNo StockCode                          Description  Quantity  \\\n0        536365    85123A   WHITE HANGING HEART T-LIGHT HOLDER         6   \n1        536365     71053                  WHITE METAL LANTERN         6   \n2        536365    84406B       CREAM CUPID HEARTS COAT HANGER         8   \n3        536365    84029G  KNITTED UNION FLAG HOT WATER BOTTLE         6   \n4        536365    84029E       RED WOOLLY HOTTIE WHITE HEART.         6   \n...         ...       ...                                  ...       ...   \n19996    537792     22916                    HERB MARKER THYME         1   \n19997    537792     22919                     HERB MARKER MINT         1   \n19998    537792     47420     ASSORTED COLOUR SUCTION CUP HOOK         2   \n19999    537792     22938             CUPCAKE LACE PAPER SET 6         1   \n20000    537792     22911               PAPER CHAIN KIT LONDON         2   \n\n              InvoiceDate  UnitPrice  CustomerID         Country   Day name  \n0     2010-12-01 08:26:00       2.55     17850.0  United Kingdom  Wednesday  \n1     2010-12-01 08:26:00       3.39     17850.0  United Kingdom  Wednesday  \n2     2010-12-01 08:26:00       2.75     17850.0  United Kingdom  Wednesday  \n3     2010-12-01 08:26:00       3.39     17850.0  United Kingdom  Wednesday  \n4     2010-12-01 08:26:00       3.39     17850.0  United Kingdom  Wednesday  \n...                   ...        ...         ...             ...        ...  \n19996 2010-12-08 12:56:00       0.65     16385.0  United Kingdom  Wednesday  \n19997 2010-12-08 12:56:00       0.65     16385.0  United Kingdom  Wednesday  \n19998 2010-12-08 12:56:00       0.19     16385.0  United Kingdom  Wednesday  \n19999 2010-12-08 12:56:00       1.95     16385.0  United Kingdom  Wednesday  \n20000 2010-12-08 12:56:00       2.95     16385.0  United Kingdom  Wednesday  \n\n[20001 rows x 9 columns]",
      "text/html": "<div>\n<style scoped>\n    .dataframe tbody tr th:only-of-type {\n        vertical-align: middle;\n    }\n\n    .dataframe tbody tr th {\n        vertical-align: top;\n    }\n\n    .dataframe thead th {\n        text-align: right;\n    }\n</style>\n<table border=\"1\" class=\"dataframe\">\n  <thead>\n    <tr style=\"text-align: right;\">\n      <th></th>\n      <th>InvoiceNo</th>\n      <th>StockCode</th>\n      <th>Description</th>\n      <th>Quantity</th>\n      <th>InvoiceDate</th>\n      <th>UnitPrice</th>\n      <th>CustomerID</th>\n      <th>Country</th>\n      <th>Day name</th>\n    </tr>\n  </thead>\n  <tbody>\n    <tr>\n      <th>0</th>\n      <td>536365</td>\n      <td>85123A</td>\n      <td>WHITE HANGING HEART T-LIGHT HOLDER</td>\n      <td>6</td>\n      <td>2010-12-01 08:26:00</td>\n      <td>2.55</td>\n      <td>17850.0</td>\n      <td>United Kingdom</td>\n      <td>Wednesday</td>\n    </tr>\n    <tr>\n      <th>1</th>\n      <td>536365</td>\n      <td>71053</td>\n      <td>WHITE METAL LANTERN</td>\n      <td>6</td>\n      <td>2010-12-01 08:26:00</td>\n      <td>3.39</td>\n      <td>17850.0</td>\n      <td>United Kingdom</td>\n      <td>Wednesday</td>\n    </tr>\n    <tr>\n      <th>2</th>\n      <td>536365</td>\n      <td>84406B</td>\n      <td>CREAM CUPID HEARTS COAT HANGER</td>\n      <td>8</td>\n      <td>2010-12-01 08:26:00</td>\n      <td>2.75</td>\n      <td>17850.0</td>\n      <td>United Kingdom</td>\n      <td>Wednesday</td>\n    </tr>\n    <tr>\n      <th>3</th>\n      <td>536365</td>\n      <td>84029G</td>\n      <td>KNITTED UNION FLAG HOT WATER BOTTLE</td>\n      <td>6</td>\n      <td>2010-12-01 08:26:00</td>\n      <td>3.39</td>\n      <td>17850.0</td>\n      <td>United Kingdom</td>\n      <td>Wednesday</td>\n    </tr>\n    <tr>\n      <th>4</th>\n      <td>536365</td>\n      <td>84029E</td>\n      <td>RED WOOLLY HOTTIE WHITE HEART.</td>\n      <td>6</td>\n      <td>2010-12-01 08:26:00</td>\n      <td>3.39</td>\n      <td>17850.0</td>\n      <td>United Kingdom</td>\n      <td>Wednesday</td>\n    </tr>\n    <tr>\n      <th>...</th>\n      <td>...</td>\n      <td>...</td>\n      <td>...</td>\n      <td>...</td>\n      <td>...</td>\n      <td>...</td>\n      <td>...</td>\n      <td>...</td>\n      <td>...</td>\n    </tr>\n    <tr>\n      <th>19996</th>\n      <td>537792</td>\n      <td>22916</td>\n      <td>HERB MARKER THYME</td>\n      <td>1</td>\n      <td>2010-12-08 12:56:00</td>\n      <td>0.65</td>\n      <td>16385.0</td>\n      <td>United Kingdom</td>\n      <td>Wednesday</td>\n    </tr>\n    <tr>\n      <th>19997</th>\n      <td>537792</td>\n      <td>22919</td>\n      <td>HERB MARKER MINT</td>\n      <td>1</td>\n      <td>2010-12-08 12:56:00</td>\n      <td>0.65</td>\n      <td>16385.0</td>\n      <td>United Kingdom</td>\n      <td>Wednesday</td>\n    </tr>\n    <tr>\n      <th>19998</th>\n      <td>537792</td>\n      <td>47420</td>\n      <td>ASSORTED COLOUR SUCTION CUP HOOK</td>\n      <td>2</td>\n      <td>2010-12-08 12:56:00</td>\n      <td>0.19</td>\n      <td>16385.0</td>\n      <td>United Kingdom</td>\n      <td>Wednesday</td>\n    </tr>\n    <tr>\n      <th>19999</th>\n      <td>537792</td>\n      <td>22938</td>\n      <td>CUPCAKE LACE PAPER SET 6</td>\n      <td>1</td>\n      <td>2010-12-08 12:56:00</td>\n      <td>1.95</td>\n      <td>16385.0</td>\n      <td>United Kingdom</td>\n      <td>Wednesday</td>\n    </tr>\n    <tr>\n      <th>20000</th>\n      <td>537792</td>\n      <td>22911</td>\n      <td>PAPER CHAIN KIT LONDON</td>\n      <td>2</td>\n      <td>2010-12-08 12:56:00</td>\n      <td>2.95</td>\n      <td>16385.0</td>\n      <td>United Kingdom</td>\n      <td>Wednesday</td>\n    </tr>\n  </tbody>\n</table>\n<p>20001 rows × 9 columns</p>\n</div>"
     },
     "execution_count": 9,
     "metadata": {},
     "output_type": "execute_result"
    }
   ],
   "source": [
    "df_all['Day name'] = df_all.InvoiceDate.dt.day_name()\n",
    "df_all"
   ],
   "metadata": {
    "collapsed": false
   }
  },
  {
   "cell_type": "code",
   "execution_count": 10,
   "outputs": [
    {
     "data": {
      "text/plain": "Day name\nFriday       11114.09\nMonday       17678.78\nSunday        7893.17\nThursday      8190.04\nTuesday      85152.09\nWednesday    22882.31\nName: UnitPrice, dtype: float64"
     },
     "execution_count": 10,
     "metadata": {},
     "output_type": "execute_result"
    }
   ],
   "source": [
    "for_diagram = df_all.groupby('Day name').sum(numeric_only = True)['UnitPrice']\n",
    "for_diagram"
   ],
   "metadata": {
    "collapsed": false
   }
  },
  {
   "cell_type": "code",
   "execution_count": 10,
   "outputs": [],
   "source": [],
   "metadata": {
    "collapsed": false
   }
  },
  {
   "cell_type": "code",
   "execution_count": 11,
   "outputs": [],
   "source": [
    "import matplotlib.pyplot as plt"
   ],
   "metadata": {
    "collapsed": false
   }
  },
  {
   "cell_type": "code",
   "execution_count": 12,
   "outputs": [
    {
     "data": {
      "text/plain": "<bound method Series.info of Day name\nFriday       11114.09\nMonday       17678.78\nSunday        7893.17\nThursday      8190.04\nTuesday      85152.09\nWednesday    22882.31\nName: UnitPrice, dtype: float64>"
     },
     "execution_count": 12,
     "metadata": {},
     "output_type": "execute_result"
    }
   ],
   "source": [
    "for_diagram.info"
   ],
   "metadata": {
    "collapsed": false
   }
  },
  {
   "cell_type": "code",
   "execution_count": 13,
   "outputs": [
    {
     "data": {
      "text/plain": "<BarContainer object of 6 artists>"
     },
     "execution_count": 13,
     "metadata": {},
     "output_type": "execute_result"
    },
    {
     "data": {
      "text/plain": "<Figure size 640x480 with 1 Axes>",
      "image/png": "[encoded data removed]"
     },
     "metadata": {},
     "output_type": "display_data"
    }
   ],
   "source": [
    "plt.bar(for_diagram.index, for_diagram.values)"
   ],
   "metadata": {
    "collapsed": false
   }
  },
  {
   "cell_type": "code",
   "execution_count": 13,
   "outputs": [],
   "source": [],
   "metadata": {
    "collapsed": false
   }
  }
 ],
 "metadata": {
  "kernelspec": {
   "display_name": "Python 3 (ipykernel)",
   "language": "python",
   "name": "python3"
  },
  "language_info": {
   "codemirror_mode": {
    "name": "ipython",
    "version": 3
   },
   "file_extension": ".py",
   "mimetype": "text/x-python",
   "name": "python",
   "nbconvert_exporter": "python",
   "pygments_lexer": "ipython3",
   "version": "3.10.6"
  }
 },
 "nbformat": 4,
 "nbformat_minor": 1
}
