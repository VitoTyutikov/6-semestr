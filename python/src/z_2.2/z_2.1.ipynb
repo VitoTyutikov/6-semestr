{
 "cells": [
  {
   "cell_type": "markdown",
   "source": [],
   "metadata": {
    "collapsed": false
   }
  },
  {
   "cell_type": "code",
   "execution_count": 18,
   "metadata": {},
   "outputs": [],
   "source": [
    "import pandas as pd"
   ]
  },
  {
   "cell_type": "markdown",
   "source": [
    "### Task 3\n",
    "Read exel"
   ],
   "metadata": {
    "collapsed": false
   }
  },
  {
   "cell_type": "code",
   "execution_count": 19,
   "metadata": {},
   "outputs": [
    {
     "data": {
      "text/plain": "      InvoiceNo StockCode                          Description  Quantity  \\\n0        536365    85123A   WHITE HANGING HEART T-LIGHT HOLDER         6   \n1        536365     71053                  WHITE METAL LANTERN         6   \n2        536365    84406B       CREAM CUPID HEARTS COAT HANGER         8   \n3        536365    84029G  KNITTED UNION FLAG HOT WATER BOTTLE         6   \n4        536365    84029E       RED WOOLLY HOTTIE WHITE HEART.         6   \n...         ...       ...                                  ...       ...   \n9996     537224     22623        BOX OF VINTAGE JIGSAW BLOCKS          2   \n9997     537224     21363              HOME SMALL WOOD LETTERS         2   \n9998     537224     21556         CERAMIC STRAWBERRY MONEY BOX         2   \n9999     537224     22497      SET OF 2 TINS VINTAGE BATHROOM          2   \n10000    537224     22500     SET OF 2 TINS JARDIN DE PROVENCE         2   \n\n              InvoiceDate  UnitPrice  CustomerID         Country  \n0     2010-12-01 08:26:00       2.55     17850.0  United Kingdom  \n1     2010-12-01 08:26:00       3.39     17850.0  United Kingdom  \n2     2010-12-01 08:26:00       2.75     17850.0  United Kingdom  \n3     2010-12-01 08:26:00       3.39     17850.0  United Kingdom  \n4     2010-12-01 08:26:00       3.39     17850.0  United Kingdom  \n...                   ...        ...         ...             ...  \n9996  2010-12-05 16:24:00       4.95     13174.0  United Kingdom  \n9997  2010-12-05 16:24:00       4.95     13174.0  United Kingdom  \n9998  2010-12-05 16:24:00       2.55     13174.0  United Kingdom  \n9999  2010-12-05 16:24:00       4.25     13174.0  United Kingdom  \n10000 2010-12-05 16:24:00       4.95     13174.0  United Kingdom  \n\n[10001 rows x 8 columns]",
      "text/html": "<div>\n<style scoped>\n    .dataframe tbody tr th:only-of-type {\n        vertical-align: middle;\n    }\n\n    .dataframe tbody tr th {\n        vertical-align: top;\n    }\n\n    .dataframe thead th {\n        text-align: right;\n    }\n</style>\n<table border=\"1\" class=\"dataframe\">\n  <thead>\n    <tr style=\"text-align: right;\">\n      <th></th>\n      <th>InvoiceNo</th>\n      <th>StockCode</th>\n      <th>Description</th>\n      <th>Quantity</th>\n      <th>InvoiceDate</th>\n      <th>UnitPrice</th>\n      <th>CustomerID</th>\n      <th>Country</th>\n    </tr>\n  </thead>\n  <tbody>\n    <tr>\n      <th>0</th>\n      <td>536365</td>\n      <td>85123A</td>\n      <td>WHITE HANGING HEART T-LIGHT HOLDER</td>\n      <td>6</td>\n      <td>2010-12-01 08:26:00</td>\n      <td>2.55</td>\n      <td>17850.0</td>\n      <td>United Kingdom</td>\n    </tr>\n    <tr>\n      <th>1</th>\n      <td>536365</td>\n      <td>71053</td>\n      <td>WHITE METAL LANTERN</td>\n      <td>6</td>\n      <td>2010-12-01 08:26:00</td>\n      <td>3.39</td>\n      <td>17850.0</td>\n      <td>United Kingdom</td>\n    </tr>\n    <tr>\n      <th>2</th>\n      <td>536365</td>\n      <td>84406B</td>\n      <td>CREAM CUPID HEARTS COAT HANGER</td>\n      <td>8</td>\n      <td>2010-12-01 08:26:00</td>\n      <td>2.75</td>\n      <td>17850.0</td>\n      <td>United Kingdom</td>\n    </tr>\n    <tr>\n      <th>3</th>\n      <td>536365</td>\n      <td>84029G</td>\n      <td>KNITTED UNION FLAG HOT WATER BOTTLE</td>\n      <td>6</td>\n      <td>2010-12-01 08:26:00</td>\n      <td>3.39</td>\n      <td>17850.0</td>\n      <td>United Kingdom</td>\n    </tr>\n    <tr>\n      <th>4</th>\n      <td>536365</td>\n      <td>84029E</td>\n      <td>RED WOOLLY HOTTIE WHITE HEART.</td>\n      <td>6</td>\n      <td>2010-12-01 08:26:00</td>\n      <td>3.39</td>\n      <td>17850.0</td>\n      <td>United Kingdom</td>\n    </tr>\n    <tr>\n      <th>...</th>\n      <td>...</td>\n      <td>...</td>\n      <td>...</td>\n      <td>...</td>\n      <td>...</td>\n      <td>...</td>\n      <td>...</td>\n      <td>...</td>\n    </tr>\n    <tr>\n      <th>9996</th>\n      <td>537224</td>\n      <td>22623</td>\n      <td>BOX OF VINTAGE JIGSAW BLOCKS</td>\n      <td>2</td>\n      <td>2010-12-05 16:24:00</td>\n      <td>4.95</td>\n      <td>13174.0</td>\n      <td>United Kingdom</td>\n    </tr>\n    <tr>\n      <th>9997</th>\n      <td>537224</td>\n      <td>21363</td>\n      <td>HOME SMALL WOOD LETTERS</td>\n      <td>2</td>\n      <td>2010-12-05 16:24:00</td>\n      <td>4.95</td>\n      <td>13174.0</td>\n      <td>United Kingdom</td>\n    </tr>\n    <tr>\n      <th>9998</th>\n      <td>537224</td>\n      <td>21556</td>\n      <td>CERAMIC STRAWBERRY MONEY BOX</td>\n      <td>2</td>\n      <td>2010-12-05 16:24:00</td>\n      <td>2.55</td>\n      <td>13174.0</td>\n      <td>United Kingdom</td>\n    </tr>\n    <tr>\n      <th>9999</th>\n      <td>537224</td>\n      <td>22497</td>\n      <td>SET OF 2 TINS VINTAGE BATHROOM</td>\n      <td>2</td>\n      <td>2010-12-05 16:24:00</td>\n      <td>4.25</td>\n      <td>13174.0</td>\n      <td>United Kingdom</td>\n    </tr>\n    <tr>\n      <th>10000</th>\n      <td>537224</td>\n      <td>22500</td>\n      <td>SET OF 2 TINS JARDIN DE PROVENCE</td>\n      <td>2</td>\n      <td>2010-12-05 16:24:00</td>\n      <td>4.95</td>\n      <td>13174.0</td>\n      <td>United Kingdom</td>\n    </tr>\n  </tbody>\n</table>\n<p>10001 rows × 8 columns</p>\n</div>"
     },
     "execution_count": 19,
     "metadata": {},
     "output_type": "execute_result"
    }
   ],
   "source": [
    "df = pd.read_excel(\"../../dataset/online_retail.xlsx\")\n",
    "df"
   ]
  },
  {
   "cell_type": "markdown",
   "source": [
    "### Size of data"
   ],
   "metadata": {
    "collapsed": false
   }
  },
  {
   "cell_type": "code",
   "execution_count": 20,
   "metadata": {},
   "outputs": [
    {
     "data": {
      "text/plain": "10001"
     },
     "execution_count": 20,
     "metadata": {},
     "output_type": "execute_result"
    }
   ],
   "source": [
    "df.shape[0]"
   ]
  },
  {
   "cell_type": "markdown",
   "source": [
    "### Split data into some parts"
   ],
   "metadata": {
    "collapsed": false
   }
  },
  {
   "cell_type": "code",
   "execution_count": 22,
   "outputs": [],
   "source": [
    "size_of_one_part = 2001\n",
    "num = 1\n",
    "for i in range(0, df.shape[0], size_of_one_part):\n",
    "    tmp = df.loc[i:i + size_of_one_part - 1]\n",
    "    tmp.to_excel(f'../../dataset/z_2.2/parts/part{num}.xlsx', index=False)\n",
    "    num += 1"
   ],
   "metadata": {
    "collapsed": false
   }
  },
  {
   "cell_type": "markdown",
   "source": [
    "# Need screenshot\n",
    "### Union parts into one file"
   ],
   "metadata": {
    "collapsed": false
   }
  },
  {
   "cell_type": "code",
   "execution_count": 28,
   "outputs": [
    {
     "data": {
      "text/plain": "     InvoiceNo StockCode                          Description  Quantity  \\\n0       536365    85123A   WHITE HANGING HEART T-LIGHT HOLDER         6   \n1       536365     71053                  WHITE METAL LANTERN         6   \n2       536365    84406B       CREAM CUPID HEARTS COAT HANGER         8   \n3       536365    84029G  KNITTED UNION FLAG HOT WATER BOTTLE         6   \n4       536365    84029E       RED WOOLLY HOTTIE WHITE HEART.         6   \n...        ...       ...                                  ...       ...   \n1992    537224     22623        BOX OF VINTAGE JIGSAW BLOCKS          2   \n1993    537224     21363              HOME SMALL WOOD LETTERS         2   \n1994    537224     21556         CERAMIC STRAWBERRY MONEY BOX         2   \n1995    537224     22497      SET OF 2 TINS VINTAGE BATHROOM          2   \n1996    537224     22500     SET OF 2 TINS JARDIN DE PROVENCE         2   \n\n             InvoiceDate  UnitPrice  CustomerID         Country  \n0    2010-12-01 08:26:00       2.55     17850.0  United Kingdom  \n1    2010-12-01 08:26:00       3.39     17850.0  United Kingdom  \n2    2010-12-01 08:26:00       2.75     17850.0  United Kingdom  \n3    2010-12-01 08:26:00       3.39     17850.0  United Kingdom  \n4    2010-12-01 08:26:00       3.39     17850.0  United Kingdom  \n...                  ...        ...         ...             ...  \n1992 2010-12-05 16:24:00       4.95     13174.0  United Kingdom  \n1993 2010-12-05 16:24:00       4.95     13174.0  United Kingdom  \n1994 2010-12-05 16:24:00       2.55     13174.0  United Kingdom  \n1995 2010-12-05 16:24:00       4.25     13174.0  United Kingdom  \n1996 2010-12-05 16:24:00       4.95     13174.0  United Kingdom  \n\n[10001 rows x 8 columns]",
      "text/html": "<div>\n<style scoped>\n    .dataframe tbody tr th:only-of-type {\n        vertical-align: middle;\n    }\n\n    .dataframe tbody tr th {\n        vertical-align: top;\n    }\n\n    .dataframe thead th {\n        text-align: right;\n    }\n</style>\n<table border=\"1\" class=\"dataframe\">\n  <thead>\n    <tr style=\"text-align: right;\">\n      <th></th>\n      <th>InvoiceNo</th>\n      <th>StockCode</th>\n      <th>Description</th>\n      <th>Quantity</th>\n      <th>InvoiceDate</th>\n      <th>UnitPrice</th>\n      <th>CustomerID</th>\n      <th>Country</th>\n    </tr>\n  </thead>\n  <tbody>\n    <tr>\n      <th>0</th>\n      <td>536365</td>\n      <td>85123A</td>\n      <td>WHITE HANGING HEART T-LIGHT HOLDER</td>\n      <td>6</td>\n      <td>2010-12-01 08:26:00</td>\n      <td>2.55</td>\n      <td>17850.0</td>\n      <td>United Kingdom</td>\n    </tr>\n    <tr>\n      <th>1</th>\n      <td>536365</td>\n      <td>71053</td>\n      <td>WHITE METAL LANTERN</td>\n      <td>6</td>\n      <td>2010-12-01 08:26:00</td>\n      <td>3.39</td>\n      <td>17850.0</td>\n      <td>United Kingdom</td>\n    </tr>\n    <tr>\n      <th>2</th>\n      <td>536365</td>\n      <td>84406B</td>\n      <td>CREAM CUPID HEARTS COAT HANGER</td>\n      <td>8</td>\n      <td>2010-12-01 08:26:00</td>\n      <td>2.75</td>\n      <td>17850.0</td>\n      <td>United Kingdom</td>\n    </tr>\n    <tr>\n      <th>3</th>\n      <td>536365</td>\n      <td>84029G</td>\n      <td>KNITTED UNION FLAG HOT WATER BOTTLE</td>\n      <td>6</td>\n      <td>2010-12-01 08:26:00</td>\n      <td>3.39</td>\n      <td>17850.0</td>\n      <td>United Kingdom</td>\n    </tr>\n    <tr>\n      <th>4</th>\n      <td>536365</td>\n      <td>84029E</td>\n      <td>RED WOOLLY HOTTIE WHITE HEART.</td>\n      <td>6</td>\n      <td>2010-12-01 08:26:00</td>\n      <td>3.39</td>\n      <td>17850.0</td>\n      <td>United Kingdom</td>\n    </tr>\n    <tr>\n      <th>...</th>\n      <td>...</td>\n      <td>...</td>\n      <td>...</td>\n      <td>...</td>\n      <td>...</td>\n      <td>...</td>\n      <td>...</td>\n      <td>...</td>\n    </tr>\n    <tr>\n      <th>1992</th>\n      <td>537224</td>\n      <td>22623</td>\n      <td>BOX OF VINTAGE JIGSAW BLOCKS</td>\n      <td>2</td>\n      <td>2010-12-05 16:24:00</td>\n      <td>4.95</td>\n      <td>13174.0</td>\n      <td>United Kingdom</td>\n    </tr>\n    <tr>\n      <th>1993</th>\n      <td>537224</td>\n      <td>21363</td>\n      <td>HOME SMALL WOOD LETTERS</td>\n      <td>2</td>\n      <td>2010-12-05 16:24:00</td>\n      <td>4.95</td>\n      <td>13174.0</td>\n      <td>United Kingdom</td>\n    </tr>\n    <tr>\n      <th>1994</th>\n      <td>537224</td>\n      <td>21556</td>\n      <td>CERAMIC STRAWBERRY MONEY BOX</td>\n      <td>2</td>\n      <td>2010-12-05 16:24:00</td>\n      <td>2.55</td>\n      <td>13174.0</td>\n      <td>United Kingdom</td>\n    </tr>\n    <tr>\n      <th>1995</th>\n      <td>537224</td>\n      <td>22497</td>\n      <td>SET OF 2 TINS VINTAGE BATHROOM</td>\n      <td>2</td>\n      <td>2010-12-05 16:24:00</td>\n      <td>4.25</td>\n      <td>13174.0</td>\n      <td>United Kingdom</td>\n    </tr>\n    <tr>\n      <th>1996</th>\n      <td>537224</td>\n      <td>22500</td>\n      <td>SET OF 2 TINS JARDIN DE PROVENCE</td>\n      <td>2</td>\n      <td>2010-12-05 16:24:00</td>\n      <td>4.95</td>\n      <td>13174.0</td>\n      <td>United Kingdom</td>\n    </tr>\n  </tbody>\n</table>\n<p>10001 rows × 8 columns</p>\n</div>"
     },
     "execution_count": 28,
     "metadata": {},
     "output_type": "execute_result"
    }
   ],
   "source": [
    "import os\n",
    "df_all = pd.DataFrame()\n",
    "path = \"../../dataset/z_2.2/parts/\"\n",
    "for f in os.listdir(path):\n",
    "    tmp = pd.read_excel(path+f)\n",
    "    df_all = pd.concat([df_all,tmp])\n",
    "\n",
    "df_all"
   ],
   "metadata": {
    "collapsed": false
   }
  },
  {
   "cell_type": "code",
   "execution_count": null,
   "outputs": [],
   "source": [],
   "metadata": {
    "collapsed": false
   }
  }
 ],
 "metadata": {
  "kernelspec": {
   "display_name": "Python 3 (ipykernel)",
   "language": "python",
   "name": "python3"
  },
  "language_info": {
   "codemirror_mode": {
    "name": "ipython",
    "version": 3
   },
   "file_extension": ".py",
   "mimetype": "text/x-python",
   "name": "python",
   "nbconvert_exporter": "python",
   "pygments_lexer": "ipython3",
   "version": "3.10.6"
  }
 },
 "nbformat": 4,
 "nbformat_minor": 1
}
