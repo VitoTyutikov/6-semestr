{
 "cells": [
  {
   "cell_type": "code",
   "execution_count": 1,
   "metadata": {
    "collapsed": true,
    "ExecuteTime": {
     "start_time": "2023-04-17T01:42:56.140514Z",
     "end_time": "2023-04-17T01:42:56.276515Z"
    }
   },
   "outputs": [],
   "source": [
    "import pandas as pd"
   ]
  },
  {
   "cell_type": "code",
   "execution_count": 5,
   "outputs": [
    {
     "data": {
      "text/plain": "      InvoiceNo StockCode                          Description  Quantity  \\\n0        536365    85123A   WHITE HANGING HEART T-LIGHT HOLDER         6   \n1        536365     71053                  WHITE METAL LANTERN         6   \n2        536365    84406B       CREAM CUPID HEARTS COAT HANGER         8   \n3        536365    84029G  KNITTED UNION FLAG HOT WATER BOTTLE         6   \n4        536365    84029E       RED WOOLLY HOTTIE WHITE HEART.         6   \n...         ...       ...                                  ...       ...   \n19996    537999     22034                                  NaN      -223   \n19997    538000     22942          CHRISTMAS LIGHTS 10 SANTAS          5   \n19998    538000     79321                        CHILLI LIGHTS        12   \n19999    538001     35958                                  NaN        10   \n20000    538002     22690        DOORMAT HOME SWEET HOME BLUE          2   \n\n       UnitPrice  CustomerID          Country  \n0           2.55     17850.0   United Kingdom  \n1           3.39     17850.0   United Kingdom  \n2           2.75     17850.0   United Kingdom  \n3           3.39     17850.0   United Kingdom  \n4           3.39     17850.0   United Kingdom  \n...          ...         ...              ...  \n19996       0.00         NaN   United Kingdom  \n19997       8.50     12748.0   United Kingdom  \n19998       4.95     12748.0   United Kingdom  \n19999       0.00         NaN   United Kingdom  \n20000       7.95     14932.0  Channel Islands  \n\n[20001 rows x 7 columns]",
      "text/html": "<div>\n<style scoped>\n    .dataframe tbody tr th:only-of-type {\n        vertical-align: middle;\n    }\n\n    .dataframe tbody tr th {\n        vertical-align: top;\n    }\n\n    .dataframe thead th {\n        text-align: right;\n    }\n</style>\n<table border=\"1\" class=\"dataframe\">\n  <thead>\n    <tr style=\"text-align: right;\">\n      <th></th>\n      <th>InvoiceNo</th>\n      <th>StockCode</th>\n      <th>Description</th>\n      <th>Quantity</th>\n      <th>UnitPrice</th>\n      <th>CustomerID</th>\n      <th>Country</th>\n    </tr>\n  </thead>\n  <tbody>\n    <tr>\n      <th>0</th>\n      <td>536365</td>\n      <td>85123A</td>\n      <td>WHITE HANGING HEART T-LIGHT HOLDER</td>\n      <td>6</td>\n      <td>2.55</td>\n      <td>17850.0</td>\n      <td>United Kingdom</td>\n    </tr>\n    <tr>\n      <th>1</th>\n      <td>536365</td>\n      <td>71053</td>\n      <td>WHITE METAL LANTERN</td>\n      <td>6</td>\n      <td>3.39</td>\n      <td>17850.0</td>\n      <td>United Kingdom</td>\n    </tr>\n    <tr>\n      <th>2</th>\n      <td>536365</td>\n      <td>84406B</td>\n      <td>CREAM CUPID HEARTS COAT HANGER</td>\n      <td>8</td>\n      <td>2.75</td>\n      <td>17850.0</td>\n      <td>United Kingdom</td>\n    </tr>\n    <tr>\n      <th>3</th>\n      <td>536365</td>\n      <td>84029G</td>\n      <td>KNITTED UNION FLAG HOT WATER BOTTLE</td>\n      <td>6</td>\n      <td>3.39</td>\n      <td>17850.0</td>\n      <td>United Kingdom</td>\n    </tr>\n    <tr>\n      <th>4</th>\n      <td>536365</td>\n      <td>84029E</td>\n      <td>RED WOOLLY HOTTIE WHITE HEART.</td>\n      <td>6</td>\n      <td>3.39</td>\n      <td>17850.0</td>\n      <td>United Kingdom</td>\n    </tr>\n    <tr>\n      <th>...</th>\n      <td>...</td>\n      <td>...</td>\n      <td>...</td>\n      <td>...</td>\n      <td>...</td>\n      <td>...</td>\n      <td>...</td>\n    </tr>\n    <tr>\n      <th>19996</th>\n      <td>537999</td>\n      <td>22034</td>\n      <td>NaN</td>\n      <td>-223</td>\n      <td>0.00</td>\n      <td>NaN</td>\n      <td>United Kingdom</td>\n    </tr>\n    <tr>\n      <th>19997</th>\n      <td>538000</td>\n      <td>22942</td>\n      <td>CHRISTMAS LIGHTS 10 SANTAS</td>\n      <td>5</td>\n      <td>8.50</td>\n      <td>12748.0</td>\n      <td>United Kingdom</td>\n    </tr>\n    <tr>\n      <th>19998</th>\n      <td>538000</td>\n      <td>79321</td>\n      <td>CHILLI LIGHTS</td>\n      <td>12</td>\n      <td>4.95</td>\n      <td>12748.0</td>\n      <td>United Kingdom</td>\n    </tr>\n    <tr>\n      <th>19999</th>\n      <td>538001</td>\n      <td>35958</td>\n      <td>NaN</td>\n      <td>10</td>\n      <td>0.00</td>\n      <td>NaN</td>\n      <td>United Kingdom</td>\n    </tr>\n    <tr>\n      <th>20000</th>\n      <td>538002</td>\n      <td>22690</td>\n      <td>DOORMAT HOME SWEET HOME BLUE</td>\n      <td>2</td>\n      <td>7.95</td>\n      <td>14932.0</td>\n      <td>Channel Islands</td>\n    </tr>\n  </tbody>\n</table>\n<p>20001 rows × 7 columns</p>\n</div>"
     },
     "execution_count": 5,
     "metadata": {},
     "output_type": "execute_result"
    }
   ],
   "source": [
    "df = pd.read_excel('../dataset/online_retail.xlsx')\n",
    "df=df.drop(columns=\"InvoiceDate\")\n",
    "df.to_excel(\"../dataset/online_retail_without_datetime.xlsx\", index = False)\n",
    "df"
   ],
   "metadata": {
    "collapsed": false,
    "ExecuteTime": {
     "start_time": "2023-04-17T01:46:37.901522Z",
     "end_time": "2023-04-17T01:46:41.027867Z"
    }
   }
  },
  {
   "cell_type": "code",
   "execution_count": null,
   "outputs": [],
   "source": [],
   "metadata": {
    "collapsed": false
   }
  }
 ],
 "metadata": {
  "kernelspec": {
   "display_name": "Python 3",
   "language": "python",
   "name": "python3"
  },
  "language_info": {
   "codemirror_mode": {
    "name": "ipython",
    "version": 2
   },
   "file_extension": ".py",
   "mimetype": "text/x-python",
   "name": "python",
   "nbconvert_exporter": "python",
   "pygments_lexer": "ipython2",
   "version": "2.7.6"
  }
 },
 "nbformat": 4,
 "nbformat_minor": 0
}
